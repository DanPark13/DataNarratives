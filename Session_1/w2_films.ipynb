{
 "cells": [
  {
   "cell_type": "markdown",
   "id": "28da6bf8-8058-4a1f-a08f-59e6b4fe04a3",
   "metadata": {},
   "source": [
    "# Work 2 - Films Dataset (~2 hours)\n",
    "\n",
    "![Films](https://upload.wikimedia.org/wikipedia/commons/b/be/Film_strip.jpg)\n",
    "\n",
    "It's been a long year at home and I've certainly been filling my evenings with TV. This is a fun and very abridged dataset of films throughout the years - let's look into it!\n",
    "\n",
    "Also, if you are at a loss on how to use this Notebooks, review [Notebook Basics](https://nbviewer.jupyter.org/github/jupyter/notebook/blob/master/docs/source/examples/Notebook/Notebook%20Basics.ipynb#Mouse-navigation) and [Working with Markdown Cells](https://nbviewer.jupyter.org/github/jupyter/notebook/blob/master/docs/source/examples/Notebook/Working%20With%20Markdown%20Cells.ipynb).\n",
    "\n",
    "First off, save this notebook where you intend to house your code for these sessions. Then download the data set [here](https://drive.google.com/file/d/1AqSF_jk0vMCm2VWqg4aXlKz0WHLFgvJD/view?usp=sharing) and save it in the same location on your machine as this notebook.\n",
    "\n",
    "Now, you are ready to begin! Run this notebook cell by cell."
   ]
  },
  {
   "cell_type": "markdown",
   "id": "d64f8924-ef0b-4b94-82e7-47b77213ee67",
   "metadata": {},
   "source": [
    "## Step 0 - Import packages and data\n",
    "First, I need to import my packages - my tools as I build something from this dataset. Throughout this file, I'll have comments on each code cell. Comments are preceeded by '##' while lines of code are not.\n",
    "\n",
    "For future datasets, I'll be including similar cells and you are welcome to copy them! Note that they may not work the same way if you are not in the correct environment (data_as-in_narrative)."
   ]
  },
  {
   "cell_type": "code",
   "execution_count": 1,
   "id": "586afdde-403e-45f2-9a61-d85900778131",
   "metadata": {},
   "outputs": [
    {
     "data": {
      "text/html": [
       "        <script type=\"text/javascript\">\n",
       "        window.PlotlyConfig = {MathJaxConfig: 'local'};\n",
       "        if (window.MathJax) {MathJax.Hub.Config({SVG: {font: \"STIX-Web\"}});}\n",
       "        if (typeof require !== 'undefined') {\n",
       "        require.undef(\"plotly\");\n",
       "        requirejs.config({\n",
       "            paths: {\n",
       "                'plotly': ['https://cdn.plot.ly/plotly-latest.min']\n",
       "            }\n",
       "        });\n",
       "        require(['plotly'], function(Plotly) {\n",
       "            window._Plotly = Plotly;\n",
       "        });\n",
       "        }\n",
       "        </script>\n",
       "        "
      ]
     },
     "metadata": {},
     "output_type": "display_data"
    }
   ],
   "source": [
    "##First, I import my packages\n",
    "import pandas as pd\n",
    "import numpy as np\n",
    "import glob, os\n",
    "import re\n",
    "import plotly.express as px\n",
    "from plotly.subplots import make_subplots\n",
    "from plotly.offline import plot, iplot, init_notebook_mode\n",
    "import plotly.graph_objects as go\n",
    "import plotly.io as pio\n",
    "pio.renderers.default='notebook'\n",
    "init_notebook_mode(connected=True)"
   ]
  },
  {
   "cell_type": "markdown",
   "id": "acf833c8-4b33-48b9-84c3-6c87e78d67e4",
   "metadata": {},
   "source": [
    "Now, I need to connect to my data using pandas [read_csv function](https://pandas.pydata.org/docs/reference/api/pandas.read_csv.html). As a reminder, a programming function is a reusable module of code that often has an input, processes it, then returns an output. You can read more [here](https://www.tutorialspoint.com/computer_programming/computer_programming_functions.htm)."
   ]
  },
  {
   "cell_type": "code",
   "execution_count": 2,
   "id": "ff00f4d3-4208-4bb3-92f4-1e4c1ed029e3",
   "metadata": {},
   "outputs": [],
   "source": [
    "##Now, I need to connect to my data file.\n",
    "df = pd.read_csv('films.csv')"
   ]
  },
  {
   "cell_type": "markdown",
   "id": "c770416d-8274-442e-b330-cc14c55fdfa4",
   "metadata": {},
   "source": [
    "##Step 1 - Initial observations\n",
    "df is a **DataFrame** - a 2D data-structure with columns and rows where the columns can contain different data types. An individual column of a DataFrame is called a **Series**. These are key terms and the pandas package has an excellent overview [here](https://pandas.pydata.org/pandas-docs/stable/getting_started/intro_tutorials/01_table_oriented.html) that is very worth reviewing.\n",
    "\n",
    "I want to get a lay of the data. There are a few core operations that I perform on most datasets at the very beginning:\n",
    "- I can simply call the dataframe by typing the name of the DataFreme (in this case, 'df').\n",
    "- I can look at the top few rows of the dataframe with [head() function](https://pandas.pydata.org/pandas-docs/stable/reference/api/pandas.DataFrame.head.html) or the bottom few rows of the dataframe with [tail() function](https://pandas.pydata.org/pandas-docs/stable/reference/api/pandas.DataFrame.tail.html).\n",
    "- I can call the [dtypes function](https://pandas.pydata.org/pandas-docs/stable/reference/api/pandas.DataFrame.dtypes.html).\n",
    "- I can call the [info() function](https://pandas.pydata.org/pandas-docs/stable/reference/api/pandas.DataFrame.info.html).\n",
    "- I can call the [describe() function](https://pandas.pydata.org/pandas-docs/stable/reference/api/pandas.DataFrame.describe.html). \n",
    "\n",
    "Run each code cell below."
   ]
  },
  {
   "cell_type": "code",
   "execution_count": 3,
   "id": "7710ee5a-dccd-4333-983f-a9c01d6842b4",
   "metadata": {},
   "outputs": [
    {
     "data": {
      "text/html": [
       "<div>\n",
       "<style scoped>\n",
       "    .dataframe tbody tr th:only-of-type {\n",
       "        vertical-align: middle;\n",
       "    }\n",
       "\n",
       "    .dataframe tbody tr th {\n",
       "        vertical-align: top;\n",
       "    }\n",
       "\n",
       "    .dataframe thead th {\n",
       "        text-align: right;\n",
       "    }\n",
       "</style>\n",
       "<table border=\"1\" class=\"dataframe\">\n",
       "  <thead>\n",
       "    <tr style=\"text-align: right;\">\n",
       "      <th></th>\n",
       "      <th>Year</th>\n",
       "      <th>Length</th>\n",
       "      <th>Title</th>\n",
       "      <th>Subject</th>\n",
       "      <th>Actor</th>\n",
       "      <th>Actress</th>\n",
       "      <th>Director</th>\n",
       "      <th>Popularity</th>\n",
       "      <th>Awards</th>\n",
       "    </tr>\n",
       "  </thead>\n",
       "  <tbody>\n",
       "    <tr>\n",
       "      <th>0</th>\n",
       "      <td>1990</td>\n",
       "      <td>111.0</td>\n",
       "      <td>Tie Me Up! Tie Me Down!</td>\n",
       "      <td>Comedy</td>\n",
       "      <td>Banderas, Antonio</td>\n",
       "      <td>Abril, Victoria</td>\n",
       "      <td>Almodóvar, Pedro</td>\n",
       "      <td>68.0</td>\n",
       "      <td>No</td>\n",
       "    </tr>\n",
       "    <tr>\n",
       "      <th>1</th>\n",
       "      <td>1991</td>\n",
       "      <td>113.0</td>\n",
       "      <td>High Heels</td>\n",
       "      <td>Comedy</td>\n",
       "      <td>Bosé, Miguel</td>\n",
       "      <td>Abril, Victoria</td>\n",
       "      <td>Almodóvar, Pedro</td>\n",
       "      <td>68.0</td>\n",
       "      <td>No</td>\n",
       "    </tr>\n",
       "    <tr>\n",
       "      <th>2</th>\n",
       "      <td>1983</td>\n",
       "      <td>104.0</td>\n",
       "      <td>Dead Zone, The</td>\n",
       "      <td>Horror</td>\n",
       "      <td>Walken, Christopher</td>\n",
       "      <td>Adams, Brooke</td>\n",
       "      <td>Cronenberg, David</td>\n",
       "      <td>79.0</td>\n",
       "      <td>No</td>\n",
       "    </tr>\n",
       "    <tr>\n",
       "      <th>3</th>\n",
       "      <td>1979</td>\n",
       "      <td>122.0</td>\n",
       "      <td>Cuba</td>\n",
       "      <td>Action</td>\n",
       "      <td>Connery, Sean</td>\n",
       "      <td>Adams, Brooke</td>\n",
       "      <td>Lester, Richard</td>\n",
       "      <td>6.0</td>\n",
       "      <td>No</td>\n",
       "    </tr>\n",
       "    <tr>\n",
       "      <th>4</th>\n",
       "      <td>1978</td>\n",
       "      <td>94.0</td>\n",
       "      <td>Days of Heaven</td>\n",
       "      <td>Drama</td>\n",
       "      <td>Gere, Richard</td>\n",
       "      <td>Adams, Brooke</td>\n",
       "      <td>Malick, Terrence</td>\n",
       "      <td>14.0</td>\n",
       "      <td>No</td>\n",
       "    </tr>\n",
       "    <tr>\n",
       "      <th>...</th>\n",
       "      <td>...</td>\n",
       "      <td>...</td>\n",
       "      <td>...</td>\n",
       "      <td>...</td>\n",
       "      <td>...</td>\n",
       "      <td>...</td>\n",
       "      <td>...</td>\n",
       "      <td>...</td>\n",
       "      <td>...</td>\n",
       "    </tr>\n",
       "    <tr>\n",
       "      <th>1654</th>\n",
       "      <td>1932</td>\n",
       "      <td>226.0</td>\n",
       "      <td>Shadow of the Eagle, The</td>\n",
       "      <td>Action</td>\n",
       "      <td>Wayne, John</td>\n",
       "      <td>NaN</td>\n",
       "      <td>NaN</td>\n",
       "      <td>19.0</td>\n",
       "      <td>No</td>\n",
       "    </tr>\n",
       "    <tr>\n",
       "      <th>1655</th>\n",
       "      <td>1989</td>\n",
       "      <td>103.0</td>\n",
       "      <td>Blood &amp; Guns</td>\n",
       "      <td>Action</td>\n",
       "      <td>Welles, Orson</td>\n",
       "      <td>NaN</td>\n",
       "      <td>NaN</td>\n",
       "      <td>43.0</td>\n",
       "      <td>No</td>\n",
       "    </tr>\n",
       "    <tr>\n",
       "      <th>1656</th>\n",
       "      <td>1988</td>\n",
       "      <td>78.0</td>\n",
       "      <td>Hot Money</td>\n",
       "      <td>Drama</td>\n",
       "      <td>Welles, Orson</td>\n",
       "      <td>NaN</td>\n",
       "      <td>NaN</td>\n",
       "      <td>19.0</td>\n",
       "      <td>No</td>\n",
       "    </tr>\n",
       "    <tr>\n",
       "      <th>1657</th>\n",
       "      <td>1977</td>\n",
       "      <td>75.0</td>\n",
       "      <td>Comedy Tonight</td>\n",
       "      <td>Comedy</td>\n",
       "      <td>Williams, Robin</td>\n",
       "      <td>NaN</td>\n",
       "      <td>NaN</td>\n",
       "      <td>18.0</td>\n",
       "      <td>No</td>\n",
       "    </tr>\n",
       "    <tr>\n",
       "      <th>1658</th>\n",
       "      <td>1991</td>\n",
       "      <td>65.0</td>\n",
       "      <td>Robin Williams</td>\n",
       "      <td>Comedy</td>\n",
       "      <td>Williams, Robin</td>\n",
       "      <td>NaN</td>\n",
       "      <td>NaN</td>\n",
       "      <td>4.0</td>\n",
       "      <td>No</td>\n",
       "    </tr>\n",
       "  </tbody>\n",
       "</table>\n",
       "<p>1659 rows × 9 columns</p>\n",
       "</div>"
      ],
      "text/plain": [
       "      Year  Length                     Title Subject                Actor  \\\n",
       "0     1990   111.0   Tie Me Up! Tie Me Down!  Comedy    Banderas, Antonio   \n",
       "1     1991   113.0                High Heels  Comedy         Bosé, Miguel   \n",
       "2     1983   104.0            Dead Zone, The  Horror  Walken, Christopher   \n",
       "3     1979   122.0                      Cuba  Action        Connery, Sean   \n",
       "4     1978    94.0            Days of Heaven   Drama        Gere, Richard   \n",
       "...    ...     ...                       ...     ...                  ...   \n",
       "1654  1932   226.0  Shadow of the Eagle, The  Action          Wayne, John   \n",
       "1655  1989   103.0              Blood & Guns  Action        Welles, Orson   \n",
       "1656  1988    78.0                 Hot Money   Drama        Welles, Orson   \n",
       "1657  1977    75.0            Comedy Tonight  Comedy      Williams, Robin   \n",
       "1658  1991    65.0            Robin Williams  Comedy      Williams, Robin   \n",
       "\n",
       "              Actress           Director  Popularity Awards  \n",
       "0     Abril, Victoria   Almodóvar, Pedro        68.0     No  \n",
       "1     Abril, Victoria   Almodóvar, Pedro        68.0     No  \n",
       "2       Adams, Brooke  Cronenberg, David        79.0     No  \n",
       "3       Adams, Brooke    Lester, Richard         6.0     No  \n",
       "4       Adams, Brooke   Malick, Terrence        14.0     No  \n",
       "...               ...                ...         ...    ...  \n",
       "1654              NaN                NaN        19.0     No  \n",
       "1655              NaN                NaN        43.0     No  \n",
       "1656              NaN                NaN        19.0     No  \n",
       "1657              NaN                NaN        18.0     No  \n",
       "1658              NaN                NaN         4.0     No  \n",
       "\n",
       "[1659 rows x 9 columns]"
      ]
     },
     "execution_count": 3,
     "metadata": {},
     "output_type": "execute_result"
    }
   ],
   "source": [
    "df"
   ]
  },
  {
   "cell_type": "code",
   "execution_count": 4,
   "id": "99be96c8-7e5e-4d4c-bcd7-0df6dd2e7e8d",
   "metadata": {},
   "outputs": [
    {
     "data": {
      "text/html": [
       "<div>\n",
       "<style scoped>\n",
       "    .dataframe tbody tr th:only-of-type {\n",
       "        vertical-align: middle;\n",
       "    }\n",
       "\n",
       "    .dataframe tbody tr th {\n",
       "        vertical-align: top;\n",
       "    }\n",
       "\n",
       "    .dataframe thead th {\n",
       "        text-align: right;\n",
       "    }\n",
       "</style>\n",
       "<table border=\"1\" class=\"dataframe\">\n",
       "  <thead>\n",
       "    <tr style=\"text-align: right;\">\n",
       "      <th></th>\n",
       "      <th>Year</th>\n",
       "      <th>Length</th>\n",
       "      <th>Title</th>\n",
       "      <th>Subject</th>\n",
       "      <th>Actor</th>\n",
       "      <th>Actress</th>\n",
       "      <th>Director</th>\n",
       "      <th>Popularity</th>\n",
       "      <th>Awards</th>\n",
       "    </tr>\n",
       "  </thead>\n",
       "  <tbody>\n",
       "    <tr>\n",
       "      <th>0</th>\n",
       "      <td>1990</td>\n",
       "      <td>111.0</td>\n",
       "      <td>Tie Me Up! Tie Me Down!</td>\n",
       "      <td>Comedy</td>\n",
       "      <td>Banderas, Antonio</td>\n",
       "      <td>Abril, Victoria</td>\n",
       "      <td>Almodóvar, Pedro</td>\n",
       "      <td>68.0</td>\n",
       "      <td>No</td>\n",
       "    </tr>\n",
       "    <tr>\n",
       "      <th>1</th>\n",
       "      <td>1991</td>\n",
       "      <td>113.0</td>\n",
       "      <td>High Heels</td>\n",
       "      <td>Comedy</td>\n",
       "      <td>Bosé, Miguel</td>\n",
       "      <td>Abril, Victoria</td>\n",
       "      <td>Almodóvar, Pedro</td>\n",
       "      <td>68.0</td>\n",
       "      <td>No</td>\n",
       "    </tr>\n",
       "    <tr>\n",
       "      <th>2</th>\n",
       "      <td>1983</td>\n",
       "      <td>104.0</td>\n",
       "      <td>Dead Zone, The</td>\n",
       "      <td>Horror</td>\n",
       "      <td>Walken, Christopher</td>\n",
       "      <td>Adams, Brooke</td>\n",
       "      <td>Cronenberg, David</td>\n",
       "      <td>79.0</td>\n",
       "      <td>No</td>\n",
       "    </tr>\n",
       "    <tr>\n",
       "      <th>3</th>\n",
       "      <td>1979</td>\n",
       "      <td>122.0</td>\n",
       "      <td>Cuba</td>\n",
       "      <td>Action</td>\n",
       "      <td>Connery, Sean</td>\n",
       "      <td>Adams, Brooke</td>\n",
       "      <td>Lester, Richard</td>\n",
       "      <td>6.0</td>\n",
       "      <td>No</td>\n",
       "    </tr>\n",
       "    <tr>\n",
       "      <th>4</th>\n",
       "      <td>1978</td>\n",
       "      <td>94.0</td>\n",
       "      <td>Days of Heaven</td>\n",
       "      <td>Drama</td>\n",
       "      <td>Gere, Richard</td>\n",
       "      <td>Adams, Brooke</td>\n",
       "      <td>Malick, Terrence</td>\n",
       "      <td>14.0</td>\n",
       "      <td>No</td>\n",
       "    </tr>\n",
       "  </tbody>\n",
       "</table>\n",
       "</div>"
      ],
      "text/plain": [
       "   Year  Length                    Title Subject                Actor  \\\n",
       "0  1990   111.0  Tie Me Up! Tie Me Down!  Comedy    Banderas, Antonio   \n",
       "1  1991   113.0               High Heels  Comedy         Bosé, Miguel   \n",
       "2  1983   104.0           Dead Zone, The  Horror  Walken, Christopher   \n",
       "3  1979   122.0                     Cuba  Action        Connery, Sean   \n",
       "4  1978    94.0           Days of Heaven   Drama        Gere, Richard   \n",
       "\n",
       "           Actress           Director  Popularity Awards  \n",
       "0  Abril, Victoria   Almodóvar, Pedro        68.0     No  \n",
       "1  Abril, Victoria   Almodóvar, Pedro        68.0     No  \n",
       "2    Adams, Brooke  Cronenberg, David        79.0     No  \n",
       "3    Adams, Brooke    Lester, Richard         6.0     No  \n",
       "4    Adams, Brooke   Malick, Terrence        14.0     No  "
      ]
     },
     "execution_count": 4,
     "metadata": {},
     "output_type": "execute_result"
    }
   ],
   "source": [
    "df.head()"
   ]
  },
  {
   "cell_type": "code",
   "execution_count": 5,
   "id": "42b89706-1340-467c-9e22-043642a631e9",
   "metadata": {},
   "outputs": [
    {
     "data": {
      "text/html": [
       "<div>\n",
       "<style scoped>\n",
       "    .dataframe tbody tr th:only-of-type {\n",
       "        vertical-align: middle;\n",
       "    }\n",
       "\n",
       "    .dataframe tbody tr th {\n",
       "        vertical-align: top;\n",
       "    }\n",
       "\n",
       "    .dataframe thead th {\n",
       "        text-align: right;\n",
       "    }\n",
       "</style>\n",
       "<table border=\"1\" class=\"dataframe\">\n",
       "  <thead>\n",
       "    <tr style=\"text-align: right;\">\n",
       "      <th></th>\n",
       "      <th>Year</th>\n",
       "      <th>Length</th>\n",
       "      <th>Title</th>\n",
       "      <th>Subject</th>\n",
       "      <th>Actor</th>\n",
       "      <th>Actress</th>\n",
       "      <th>Director</th>\n",
       "      <th>Popularity</th>\n",
       "      <th>Awards</th>\n",
       "    </tr>\n",
       "  </thead>\n",
       "  <tbody>\n",
       "    <tr>\n",
       "      <th>1654</th>\n",
       "      <td>1932</td>\n",
       "      <td>226.0</td>\n",
       "      <td>Shadow of the Eagle, The</td>\n",
       "      <td>Action</td>\n",
       "      <td>Wayne, John</td>\n",
       "      <td>NaN</td>\n",
       "      <td>NaN</td>\n",
       "      <td>19.0</td>\n",
       "      <td>No</td>\n",
       "    </tr>\n",
       "    <tr>\n",
       "      <th>1655</th>\n",
       "      <td>1989</td>\n",
       "      <td>103.0</td>\n",
       "      <td>Blood &amp; Guns</td>\n",
       "      <td>Action</td>\n",
       "      <td>Welles, Orson</td>\n",
       "      <td>NaN</td>\n",
       "      <td>NaN</td>\n",
       "      <td>43.0</td>\n",
       "      <td>No</td>\n",
       "    </tr>\n",
       "    <tr>\n",
       "      <th>1656</th>\n",
       "      <td>1988</td>\n",
       "      <td>78.0</td>\n",
       "      <td>Hot Money</td>\n",
       "      <td>Drama</td>\n",
       "      <td>Welles, Orson</td>\n",
       "      <td>NaN</td>\n",
       "      <td>NaN</td>\n",
       "      <td>19.0</td>\n",
       "      <td>No</td>\n",
       "    </tr>\n",
       "    <tr>\n",
       "      <th>1657</th>\n",
       "      <td>1977</td>\n",
       "      <td>75.0</td>\n",
       "      <td>Comedy Tonight</td>\n",
       "      <td>Comedy</td>\n",
       "      <td>Williams, Robin</td>\n",
       "      <td>NaN</td>\n",
       "      <td>NaN</td>\n",
       "      <td>18.0</td>\n",
       "      <td>No</td>\n",
       "    </tr>\n",
       "    <tr>\n",
       "      <th>1658</th>\n",
       "      <td>1991</td>\n",
       "      <td>65.0</td>\n",
       "      <td>Robin Williams</td>\n",
       "      <td>Comedy</td>\n",
       "      <td>Williams, Robin</td>\n",
       "      <td>NaN</td>\n",
       "      <td>NaN</td>\n",
       "      <td>4.0</td>\n",
       "      <td>No</td>\n",
       "    </tr>\n",
       "  </tbody>\n",
       "</table>\n",
       "</div>"
      ],
      "text/plain": [
       "      Year  Length                     Title Subject            Actor Actress  \\\n",
       "1654  1932   226.0  Shadow of the Eagle, The  Action      Wayne, John     NaN   \n",
       "1655  1989   103.0              Blood & Guns  Action    Welles, Orson     NaN   \n",
       "1656  1988    78.0                 Hot Money   Drama    Welles, Orson     NaN   \n",
       "1657  1977    75.0            Comedy Tonight  Comedy  Williams, Robin     NaN   \n",
       "1658  1991    65.0            Robin Williams  Comedy  Williams, Robin     NaN   \n",
       "\n",
       "     Director  Popularity Awards  \n",
       "1654      NaN        19.0     No  \n",
       "1655      NaN        43.0     No  \n",
       "1656      NaN        19.0     No  \n",
       "1657      NaN        18.0     No  \n",
       "1658      NaN         4.0     No  "
      ]
     },
     "execution_count": 5,
     "metadata": {},
     "output_type": "execute_result"
    }
   ],
   "source": [
    "df.tail()"
   ]
  },
  {
   "cell_type": "code",
   "execution_count": 6,
   "id": "91c45b80-7d98-4911-a501-5edbf6fcc89e",
   "metadata": {},
   "outputs": [
    {
     "name": "stdout",
     "output_type": "stream",
     "text": [
      "<class 'pandas.core.frame.DataFrame'>\n",
      "RangeIndex: 1659 entries, 0 to 1658\n",
      "Data columns (total 9 columns):\n",
      " #   Column      Non-Null Count  Dtype  \n",
      "---  ------      --------------  -----  \n",
      " 0   Year        1659 non-null   int64  \n",
      " 1   Length      1592 non-null   float64\n",
      " 2   Title       1659 non-null   object \n",
      " 3   Subject     1657 non-null   object \n",
      " 4   Actor       1651 non-null   object \n",
      " 5   Actress     1281 non-null   object \n",
      " 6   Director    1406 non-null   object \n",
      " 7   Popularity  1653 non-null   float64\n",
      " 8   Awards      1659 non-null   object \n",
      "dtypes: float64(2), int64(1), object(6)\n",
      "memory usage: 116.8+ KB\n"
     ]
    }
   ],
   "source": [
    "df.info()"
   ]
  },
  {
   "cell_type": "code",
   "execution_count": 7,
   "id": "94eb48c3-9b46-46f0-accb-386be5998e1c",
   "metadata": {},
   "outputs": [
    {
     "data": {
      "text/html": [
       "<div>\n",
       "<style scoped>\n",
       "    .dataframe tbody tr th:only-of-type {\n",
       "        vertical-align: middle;\n",
       "    }\n",
       "\n",
       "    .dataframe tbody tr th {\n",
       "        vertical-align: top;\n",
       "    }\n",
       "\n",
       "    .dataframe thead th {\n",
       "        text-align: right;\n",
       "    }\n",
       "</style>\n",
       "<table border=\"1\" class=\"dataframe\">\n",
       "  <thead>\n",
       "    <tr style=\"text-align: right;\">\n",
       "      <th></th>\n",
       "      <th>Year</th>\n",
       "      <th>Length</th>\n",
       "      <th>Popularity</th>\n",
       "    </tr>\n",
       "  </thead>\n",
       "  <tbody>\n",
       "    <tr>\n",
       "      <th>count</th>\n",
       "      <td>1659.000000</td>\n",
       "      <td>1592.000000</td>\n",
       "      <td>1653.000000</td>\n",
       "    </tr>\n",
       "    <tr>\n",
       "      <th>mean</th>\n",
       "      <td>1975.802893</td>\n",
       "      <td>105.179648</td>\n",
       "      <td>43.110103</td>\n",
       "    </tr>\n",
       "    <tr>\n",
       "      <th>std</th>\n",
       "      <td>17.057848</td>\n",
       "      <td>30.629501</td>\n",
       "      <td>26.747406</td>\n",
       "    </tr>\n",
       "    <tr>\n",
       "      <th>min</th>\n",
       "      <td>1920.000000</td>\n",
       "      <td>5.000000</td>\n",
       "      <td>0.000000</td>\n",
       "    </tr>\n",
       "    <tr>\n",
       "      <th>25%</th>\n",
       "      <td>1967.000000</td>\n",
       "      <td>90.000000</td>\n",
       "      <td>19.000000</td>\n",
       "    </tr>\n",
       "    <tr>\n",
       "      <th>50%</th>\n",
       "      <td>1983.000000</td>\n",
       "      <td>102.000000</td>\n",
       "      <td>43.000000</td>\n",
       "    </tr>\n",
       "    <tr>\n",
       "      <th>75%</th>\n",
       "      <td>1989.000000</td>\n",
       "      <td>116.000000</td>\n",
       "      <td>67.000000</td>\n",
       "    </tr>\n",
       "    <tr>\n",
       "      <th>max</th>\n",
       "      <td>1997.000000</td>\n",
       "      <td>450.000000</td>\n",
       "      <td>88.000000</td>\n",
       "    </tr>\n",
       "  </tbody>\n",
       "</table>\n",
       "</div>"
      ],
      "text/plain": [
       "              Year       Length   Popularity\n",
       "count  1659.000000  1592.000000  1653.000000\n",
       "mean   1975.802893   105.179648    43.110103\n",
       "std      17.057848    30.629501    26.747406\n",
       "min    1920.000000     5.000000     0.000000\n",
       "25%    1967.000000    90.000000    19.000000\n",
       "50%    1983.000000   102.000000    43.000000\n",
       "75%    1989.000000   116.000000    67.000000\n",
       "max    1997.000000   450.000000    88.000000"
      ]
     },
     "execution_count": 7,
     "metadata": {},
     "output_type": "execute_result"
    }
   ],
   "source": [
    "df.describe()"
   ]
  },
  {
   "cell_type": "markdown",
   "id": "fda52dec-ed3e-41a9-94d3-6823dbd04a1d",
   "metadata": {},
   "source": [
    "What I usually do after this initial exploration of the dataset is I make some notes about what I've learned from each line of code. Things I try to capture every time might be:\n",
    "- what are the names of each column and do I understand what each means?\n",
    "- What are the datatypes (called [dtypes](https://pandas.pydata.org/pandas-docs/stable/user_guide/basics.html#dtypes)) of each column?\n",
    "- Are there any surprising rows of data?\n",
    "- What interesting general statistics have I learned?"
   ]
  },
  {
   "cell_type": "markdown",
   "id": "69112221-6dfe-4862-8e67-0d82fe093dd8",
   "metadata": {},
   "source": [
    "***Your Turn - DataFrame Information Functions + Learnings:***\n",
    "So you give it a shot! Examine the returned information from those lines of code above and write what you learned about each function below:\n",
    "1. *df*: Gives the entire dataset, but only displays the first and last five lines because it is too long\n",
    "2. *head()*: Gives the first five lines of the dataset\n",
    "3. *tail()*: Gives the last fives lines of the dataset\n",
    "4. *info()*: Gives information about each column such as how many elements there are in that column, whether it's null or not, and it's object type.\n",
    "5. *describe():* Gives the count, mean, standard deviation, minimum, quartiles, and the maximum of the columns with numbers\n",
    "\n",
    "And what did you learn about the dataset itself? What is the bold number on the left?\n",
    "\n",
    "- This dataset is about movies\n",
    "- This dataset is partially incomplete (has empty cells)"
   ]
  },
  {
   "cell_type": "markdown",
   "id": "fb299307-2749-4de0-87dc-d3e1ed6b5c79",
   "metadata": {},
   "source": [
    "## Step 2 - Initial plots\n",
    "Since I've seen a preview of the data by calling the dataframe, I know that this data is logging data that includes the year something occured - this data would lend itself well to a [histogram](https://www.khanacademy.org/math/cc-sixth-grade-math/cc-6th-data-statistics/histograms/v/histograms-intro#:~:text=A%20histogram%20is%20a%20graphical,spread%20of%20continuous%20sample%20data.). I'm calling the plotly histogram function - learn more about using plotly [here](https://plotly.com/python/). Run the code cell below.\n",
    "\n",
    "*If you are running into an issue where the plot is not showing, check that you are in the correct environment (data_as-in_narrative). You can do this by returning to Anaconda Navigator and ensuring that on the home tab 'Applications on' is set to data_as-in_narrative'. If it is not, close this notebook, return to Anaconda Navigator, set the 'Applications on' to the data_as-in_narrative environment, and open this notebook again!"
   ]
  },
  {
   "cell_type": "code",
   "execution_count": 8,
   "id": "fa452530-120b-4d77-bc76-e2291284b383",
   "metadata": {},
   "outputs": [
    {
     "data": {
      "application/vnd.plotly.v1+json": {
       "config": {
        "plotlyServerURL": "https://plot.ly"
       },
       "data": [
        {
         "alignmentgroup": "True",
         "bingroup": "x",
         "hovertemplate": "Year=%{x}<br>count=%{y}<extra></extra>",
         "legendgroup": "",
         "marker": {
          "color": "#636efa"
         },
         "name": "",
         "offsetgroup": "",
         "orientation": "v",
         "showlegend": false,
         "type": "histogram",
         "x": [
          1990,
          1991,
          1983,
          1979,
          1978,
          1983,
          1984,
          1989,
          1985,
          1990,
          1982,
          1982,
          1966,
          1986,
          1966,
          1985,
          1976,
          1929,
          1963,
          1988,
          1988,
          1981,
          1987,
          1991,
          1988,
          1990,
          1988,
          1980,
          1989,
          1979,
          1960,
          1957,
          1956,
          1992,
          1955,
          1955,
          1962,
          1972,
          1958,
          1967,
          1962,
          1954,
          1979,
          1983,
          1966,
          1966,
          1986,
          1965,
          1985,
          1984,
          1988,
          1978,
          1992,
          1978,
          1992,
          1987,
          1992,
          1981,
          1992,
          1991,
          1924,
          1991,
          1988,
          1991,
          1986,
          1985,
          1985,
          1971,
          1959,
          1926,
          1987,
          1989,
          1988,
          1926,
          1988,
          1974,
          1955,
          1977,
          1988,
          1991,
          1989,
          1996,
          1992,
          1980,
          1988,
          1982,
          1987,
          1971,
          1957,
          1969,
          1958,
          1959,
          1967,
          1968,
          1964,
          1965,
          1962,
          1964,
          1958,
          1955,
          1962,
          1957,
          1973,
          1987,
          1932,
          1987,
          1982,
          1992,
          1988,
          1989,
          1987,
          1982,
          1992,
          1983,
          1986,
          1989,
          1986,
          1991,
          1990,
          1946,
          1984,
          1990,
          1988,
          1989,
          1988,
          1990,
          1942,
          1972,
          1977,
          1982,
          1990,
          1948,
          1945,
          1988,
          1985,
          1982,
          1975,
          1971,
          1970,
          1972,
          1935,
          1978,
          1944,
          1958,
          1941,
          1948,
          1982,
          1969,
          1949,
          1946,
          1940,
          1961,
          1956,
          1945,
          1937,
          1938,
          1935,
          1939,
          1938,
          1956,
          1952,
          1953,
          1954,
          1950,
          1969,
          1989,
          1990,
          1987,
          1982,
          1991,
          1970,
          1982,
          1983,
          1984,
          1973,
          1988,
          1972,
          1970,
          1973,
          1952,
          1976,
          1969,
          1991,
          1974,
          1964,
          1977,
          1953,
          1942,
          1968,
          1973,
          1982,
          1990,
          1987,
          1985,
          1993,
          1974,
          1993,
          1958,
          1981,
          1928,
          1992,
          1989,
          1985,
          1990,
          1973,
          1958,
          1986,
          1990,
          1948,
          1987,
          1965,
          1980,
          1988,
          1978,
          1988,
          1988,
          1973,
          1975,
          1982,
          1952,
          1954,
          1989,
          1990,
          1971,
          1983,
          1989,
          1987,
          1984,
          1984,
          1989,
          1963,
          1935,
          1988,
          1966,
          1974,
          1977,
          1983,
          1936,
          1986,
          1972,
          1987,
          1990,
          1982,
          1987,
          1977,
          1990,
          1989,
          1970,
          1943,
          1992,
          1989,
          1987,
          1987,
          1979,
          1984,
          1986,
          1989,
          1975,
          1985,
          1965,
          1963,
          1931,
          1931,
          1967,
          1968,
          1989,
          1987,
          1980,
          1988,
          1990,
          1991,
          1946,
          1987,
          1948,
          1962,
          1989,
          1992,
          1966,
          1986,
          1991,
          1961,
          1990,
          1962,
          1989,
          1991,
          1989,
          1992,
          1977,
          1987,
          1988,
          1954,
          1957,
          1986,
          1979,
          1989,
          1974,
          1990,
          1980,
          1990,
          1971,
          1969,
          1942,
          1948,
          1965,
          1946,
          1939,
          1950,
          1986,
          1990,
          1988,
          1989,
          1956,
          1992,
          1940,
          1949,
          1986,
          1975,
          1942,
          1989,
          1990,
          1967,
          1992,
          1987,
          1989,
          1983,
          1980,
          1986,
          1983,
          1981,
          1977,
          1980,
          1986,
          1989,
          1990,
          1989,
          1988,
          1981,
          1989,
          1990,
          1940,
          1961,
          1989,
          1990,
          1987,
          1991,
          1987,
          1993,
          1991,
          1979,
          1991,
          1991,
          1946,
          1950,
          1949,
          1985,
          1986,
          1992,
          1976,
          1974,
          1975,
          1977,
          1987,
          1990,
          1947,
          1943,
          1974,
          1981,
          1980,
          1945,
          1993,
          1979,
          1970,
          1984,
          1991,
          1961,
          1966,
          1974,
          1985,
          1967,
          1993,
          1992,
          1987,
          1987,
          1956,
          1985,
          1984,
          1992,
          1986,
          1979,
          1986,
          1981,
          1936,
          1978,
          1990,
          1992,
          1988,
          1987,
          1984,
          1991,
          1977,
          1981,
          1979,
          1989,
          1989,
          1980,
          1977,
          1983,
          1991,
          1956,
          1957,
          1931,
          1990,
          1972,
          1979,
          1986,
          1971,
          1979,
          1965,
          1991,
          1940,
          1944,
          1973,
          1992,
          1989,
          1990,
          1983,
          1991,
          1988,
          1972,
          1988,
          1955,
          1989,
          1987,
          1934,
          1931,
          1930,
          1926,
          1928,
          1935,
          1936,
          1931,
          1929,
          1932,
          1931,
          1939,
          1933,
          1928,
          1925,
          1929,
          1932,
          1930,
          1962,
          1982,
          1989,
          1953,
          1979,
          1975,
          1987,
          1989,
          1975,
          1979,
          1986,
          1959,
          1954,
          1961,
          1983,
          1988,
          1987,
          1986,
          1978,
          1988,
          1966,
          1964,
          1988,
          1979,
          1991,
          1932,
          1986,
          1990,
          1988,
          1992,
          1991,
          1988,
          1991,
          1984,
          1986,
          1969,
          1991,
          1990,
          1992,
          1985,
          1983,
          1984,
          1989,
          1987,
          1982,
          1987,
          1992,
          1989,
          1938,
          1936,
          1976,
          1988,
          1983,
          1987,
          1989,
          1991,
          1986,
          1987,
          1989,
          1970,
          1984,
          1978,
          1982,
          1972,
          1987,
          1974,
          1992,
          1986,
          1984,
          1980,
          1974,
          1980,
          1991,
          1931,
          1972,
          1964,
          1952,
          1948,
          1940,
          1946,
          1948,
          1990,
          1964,
          1987,
          1984,
          1985,
          1949,
          1964,
          1960,
          1976,
          1961,
          1956,
          1952,
          1968,
          1991,
          1967,
          1957,
          1975,
          1981,
          1991,
          1991,
          1991,
          1991,
          1991,
          1991,
          1991,
          1992,
          1986,
          1987,
          1988,
          1991,
          1988,
          1966,
          1986,
          1989,
          1943,
          1992,
          1987,
          1980,
          1973,
          1987,
          1947,
          1928,
          1986,
          1987,
          1934,
          1950,
          1991,
          1987,
          1989,
          1980,
          1982,
          1980,
          1940,
          1987,
          1989,
          1992,
          1932,
          1991,
          1990,
          1980,
          1988,
          1982,
          1987,
          1973,
          1970,
          1988,
          1986,
          1955,
          1989,
          1981,
          1927,
          1937,
          1991,
          1983,
          1987,
          1990,
          1986,
          1963,
          1991,
          1988,
          1948,
          1973,
          1983,
          1975,
          1990,
          1977,
          1955,
          1988,
          1983,
          1989,
          1991,
          1977,
          1979,
          1981,
          1986,
          1977,
          1972,
          1974,
          1976,
          1972,
          1975,
          1973,
          1970,
          1980,
          1977,
          1977,
          1972,
          1953,
          1955,
          1954,
          1945,
          1939,
          1956,
          1989,
          1992,
          1927,
          1978,
          1987,
          1970,
          1989,
          1990,
          1987,
          1983,
          1984,
          1984,
          1987,
          1989,
          1987,
          1986,
          1969,
          1984,
          1935,
          1990,
          1986,
          1977,
          1989,
          1987,
          1989,
          1987,
          1990,
          1978,
          1986,
          1953,
          1969,
          1988,
          1981,
          1988,
          1990,
          1985,
          1986,
          1987,
          1983,
          1983,
          1990,
          1989,
          1990,
          1988,
          1992,
          1992,
          1949,
          1978,
          1971,
          1990,
          1960,
          1957,
          1987,
          1951,
          1986,
          1971,
          1985,
          1989,
          1978,
          1974,
          1980,
          1977,
          1986,
          1938,
          1987,
          1959,
          1929,
          1941,
          1986,
          1982,
          1987,
          1991,
          1991,
          1960,
          1961,
          1954,
          1963,
          1957,
          1978,
          1964,
          1961,
          1958,
          1953,
          1959,
          1977,
          1977,
          1979,
          1991,
          1990,
          1991,
          1992,
          1986,
          1986,
          1992,
          1979,
          1991,
          1943,
          1986,
          1991,
          1962,
          1989,
          1990,
          1988,
          1979,
          1983,
          1967,
          1968,
          1990,
          1970,
          1992,
          1939,
          1988,
          1991,
          1992,
          1991,
          1990,
          1987,
          1990,
          1991,
          1988,
          1986,
          1990,
          1974,
          1988,
          1980,
          1949,
          1981,
          1989,
          1955,
          1986,
          1986,
          1977,
          1991,
          1981,
          1991,
          1992,
          1986,
          1986,
          1986,
          1989,
          1980,
          1989,
          1992,
          1990,
          1990,
          1992,
          1967,
          1990,
          1987,
          1988,
          1975,
          1988,
          1991,
          1988,
          1989,
          1983,
          1987,
          1986,
          1985,
          1988,
          1984,
          1983,
          1988,
          1965,
          1989,
          1981,
          1957,
          1964,
          1975,
          1988,
          1990,
          1991,
          1991,
          1991,
          1987,
          1970,
          1973,
          1962,
          1989,
          1988,
          1960,
          1972,
          1981,
          1976,
          1977,
          1989,
          1980,
          1991,
          1950,
          1992,
          1953,
          1983,
          1991,
          1987,
          1986,
          1989,
          1984,
          1990,
          1986,
          1982,
          1948,
          1952,
          1974,
          1970,
          1955,
          1988,
          1968,
          1976,
          1987,
          1988,
          1974,
          1941,
          1990,
          1940,
          1955,
          1987,
          1963,
          1951,
          1987,
          1956,
          1992,
          1970,
          1991,
          1988,
          1923,
          1980,
          1991,
          1989,
          1991,
          1986,
          1987,
          1990,
          1950,
          1992,
          1958,
          1987,
          1946,
          1941,
          1940,
          1941,
          1992,
          1950,
          1957,
          1939,
          1971,
          1992,
          1983,
          1952,
          1969,
          1953,
          1929,
          1978,
          1981,
          1986,
          1982,
          1985,
          1955,
          1969,
          1987,
          1969,
          1991,
          1993,
          1988,
          1976,
          1986,
          1984,
          1990,
          1986,
          1984,
          1992,
          1986,
          1978,
          1989,
          1979,
          1980,
          1986,
          1982,
          1989,
          1985,
          1989,
          1985,
          1991,
          1988,
          1989,
          1971,
          1973,
          1988,
          1927,
          1989,
          1990,
          1962,
          1992,
          1991,
          1988,
          1988,
          1990,
          1962,
          1972,
          1965,
          1965,
          1983,
          1988,
          1990,
          1988,
          1988,
          1989,
          1987,
          1992,
          1970,
          1990,
          1991,
          1987,
          1987,
          1989,
          1949,
          1974,
          1989,
          1988,
          1986,
          1991,
          1977,
          1971,
          1984,
          1990,
          1986,
          1985,
          1993,
          1989,
          1987,
          1991,
          1969,
          1986,
          1987,
          1943,
          1986,
          1987,
          1990,
          1991,
          1991,
          1940,
          1992,
          1990,
          1986,
          1992,
          1951,
          1979,
          1991,
          1980,
          1969,
          1968,
          1980,
          1986,
          1989,
          1976,
          1988,
          1992,
          1988,
          1992,
          1991,
          1958,
          1988,
          1990,
          1947,
          1990,
          1988,
          1991,
          1939,
          1988,
          1987,
          1988,
          1990,
          1991,
          1990,
          1972,
          1991,
          1966,
          1992,
          1982,
          1985,
          1971,
          1974,
          1973,
          1968,
          1970,
          1971,
          1986,
          1986,
          1984,
          1989,
          1975,
          1968,
          1992,
          1991,
          1979,
          1991,
          1990,
          1990,
          1975,
          1973,
          1987,
          1924,
          1966,
          1986,
          1990,
          1972,
          1986,
          1983,
          1986,
          1971,
          1988,
          1981,
          1976,
          1988,
          1936,
          1977,
          1985,
          1954,
          1960,
          1955,
          1992,
          1988,
          1963,
          1987,
          1986,
          1987,
          1965,
          1988,
          1988,
          1978,
          1986,
          1985,
          1990,
          1986,
          1985,
          1964,
          1979,
          1982,
          1989,
          1987,
          1990,
          1933,
          1992,
          1985,
          1986,
          1993,
          1981,
          1967,
          1992,
          1990,
          1987,
          1992,
          1967,
          1987,
          1979,
          1988,
          1991,
          1978,
          1984,
          1986,
          1983,
          1982,
          1985,
          1981,
          1985,
          1988,
          1989,
          1992,
          1991,
          1970,
          1987,
          1983,
          1968,
          1990,
          1970,
          1987,
          1941,
          1984,
          1949,
          1989,
          1991,
          1983,
          1957,
          1975,
          1967,
          1972,
          1968,
          1963,
          1950,
          1992,
          1977,
          1956,
          1985,
          1943,
          1993,
          1972,
          1991,
          1991,
          1973,
          1991,
          1931,
          1992,
          1984,
          1988,
          1991,
          1935,
          1988,
          1980,
          1948,
          1937,
          1987,
          1988,
          1983,
          1987,
          1990,
          1985,
          1963,
          1963,
          1959,
          1961,
          1986,
          1989,
          1990,
          1989,
          1986,
          1941,
          1939,
          1940,
          1986,
          1989,
          1985,
          1983,
          1984,
          1985,
          1984,
          1988,
          1955,
          1958,
          1988,
          1986,
          1968,
          1966,
          1973,
          1968,
          1969,
          1984,
          1957,
          1968,
          1985,
          1990,
          1973,
          1959,
          1970,
          1971,
          1981,
          1967,
          1988,
          1990,
          1991,
          1992,
          1986,
          1991,
          1988,
          1986,
          1992,
          1997,
          1979,
          1985,
          1984,
          1973,
          1974,
          1972,
          1966,
          1967,
          1977,
          1969,
          1975,
          1968,
          1973,
          1972,
          1990,
          1988,
          1955,
          1987,
          1966,
          1990,
          1987,
          1970,
          1989,
          1990,
          1987,
          1989,
          1974,
          1973,
          1953,
          1980,
          1989,
          1956,
          1973,
          1989,
          1992,
          1982,
          1987,
          1986,
          1970,
          1965,
          1955,
          1977,
          1968,
          1992,
          1964,
          1985,
          1991,
          1956,
          1979,
          1955,
          1961,
          1970,
          1966,
          1966,
          1987,
          1989,
          1968,
          1961,
          1960,
          1993,
          1991,
          1943,
          1950,
          1950,
          1947,
          1975,
          1949,
          1987,
          1993,
          1947,
          1990,
          1953,
          1954,
          1977,
          1979,
          1954,
          1987,
          1966,
          1962,
          1986,
          1988,
          1986,
          1988,
          1981,
          1991,
          1987,
          1962,
          1983,
          1989,
          1991,
          1963,
          1961,
          1937,
          1987,
          1936,
          1991,
          1931,
          1979,
          1984,
          1979,
          1990,
          1963,
          1963,
          1975,
          1986,
          1991,
          1979,
          1987,
          1986,
          1989,
          1990,
          1984,
          1974,
          1975,
          1982,
          1987,
          1993,
          1966,
          1990,
          1945,
          1991,
          1949,
          1949,
          1949,
          1950,
          1948,
          1948,
          1948,
          1968,
          1983,
          1971,
          1985,
          1961,
          1983,
          1984,
          1958,
          1982,
          1989,
          1988,
          1953,
          1960,
          1966,
          1966,
          1970,
          1953,
          1935,
          1969,
          1930,
          1954,
          1937,
          1976,
          1981,
          1982,
          1975,
          1981,
          1970,
          1989,
          1990,
          1985,
          1986,
          1984,
          1992,
          1979,
          1983,
          1971,
          1945,
          1952,
          1968,
          1990,
          1937,
          1956,
          1974,
          1971,
          1991,
          1943,
          1991,
          1946,
          1960,
          1951,
          1951,
          1962,
          1955,
          1957,
          1961,
          1980,
          1952,
          1987,
          1986,
          1926,
          1946,
          1920,
          1954,
          1928,
          1933,
          1991,
          1990,
          1989,
          1989,
          1991,
          1944,
          1982,
          1974,
          1987,
          1945,
          1969,
          1964,
          1976,
          1984,
          1987,
          1944,
          1988,
          1978,
          1955,
          1957,
          1971,
          1984,
          1991,
          1970,
          1940,
          1967,
          1980,
          1970,
          1990,
          1966,
          1973,
          1942,
          1991,
          1982,
          1987,
          1989,
          1973,
          1987,
          1971,
          1970,
          1988,
          1981,
          1935,
          1988,
          1990,
          1990,
          1989,
          1987,
          1976,
          1987,
          1969,
          1988,
          1993,
          1988,
          1975,
          1972,
          1970,
          1973,
          1989,
          1979,
          1983,
          1986,
          1951,
          1985,
          1980,
          1972,
          1983,
          1984,
          1991,
          1987,
          1990,
          1990,
          1972,
          1985,
          1970,
          1969,
          1985,
          1976,
          1987,
          1991,
          1991,
          1938,
          1938,
          1982,
          1971,
          1979,
          1948,
          1976,
          1990,
          1993,
          1991,
          1924,
          1986,
          1963,
          1971,
          1971,
          1985,
          1938,
          1990,
          1982,
          1947,
          1947,
          1937,
          1992,
          1947,
          1947,
          1949,
          1992,
          1937,
          1937,
          1949,
          1991,
          1957,
          1953,
          1982,
          1960,
          1986,
          1985,
          1990,
          1952,
          1949,
          1976,
          1990,
          1982,
          1956,
          1955,
          1962,
          1989,
          1986,
          1986,
          1986,
          1986,
          1990,
          1982,
          1981,
          1964,
          1993,
          1992,
          1990,
          1992,
          1977,
          1989,
          1972,
          1991,
          1991,
          1992,
          1992,
          1959,
          1992,
          1987,
          1992,
          1992,
          1993,
          1986,
          1993,
          1991,
          1989,
          1959,
          1983,
          1973,
          1992,
          1990,
          1982,
          1975,
          1953,
          1991,
          1990,
          1992,
          1992,
          1992,
          1992,
          1992,
          1986,
          1990,
          1990,
          1986,
          1989,
          1991,
          1986,
          1974,
          1993,
          1992,
          1989,
          1983,
          1990,
          1989,
          1991,
          1953,
          1992,
          1992,
          1989,
          1992,
          1968,
          1990,
          1989,
          1987,
          1991,
          1989,
          1988,
          1991,
          1991,
          1956,
          1953,
          1975,
          1991,
          1991,
          1960,
          1991,
          1991,
          1988,
          1958,
          1989,
          1979,
          1942,
          1992,
          1992,
          1967,
          1980,
          1991,
          1991,
          1991,
          1957,
          1992,
          1993,
          1939,
          1934,
          1932,
          1932,
          1965,
          1991,
          1992,
          1991,
          1939,
          1939,
          1938,
          1990,
          1991,
          1991,
          1992,
          1991,
          1991,
          1934,
          1992,
          1993,
          1991,
          1991,
          1993,
          1992,
          1991,
          1990,
          1932,
          1989,
          1988,
          1977,
          1991
         ],
         "xaxis": "x",
         "yaxis": "y"
        }
       ],
       "layout": {
        "autosize": true,
        "barmode": "relative",
        "legend": {
         "tracegroupgap": 0
        },
        "margin": {
         "t": 60
        },
        "template": {
         "data": {
          "bar": [
           {
            "error_x": {
             "color": "#2a3f5f"
            },
            "error_y": {
             "color": "#2a3f5f"
            },
            "marker": {
             "line": {
              "color": "#E5ECF6",
              "width": 0.5
             }
            },
            "type": "bar"
           }
          ],
          "barpolar": [
           {
            "marker": {
             "line": {
              "color": "#E5ECF6",
              "width": 0.5
             }
            },
            "type": "barpolar"
           }
          ],
          "carpet": [
           {
            "aaxis": {
             "endlinecolor": "#2a3f5f",
             "gridcolor": "white",
             "linecolor": "white",
             "minorgridcolor": "white",
             "startlinecolor": "#2a3f5f"
            },
            "baxis": {
             "endlinecolor": "#2a3f5f",
             "gridcolor": "white",
             "linecolor": "white",
             "minorgridcolor": "white",
             "startlinecolor": "#2a3f5f"
            },
            "type": "carpet"
           }
          ],
          "choropleth": [
           {
            "colorbar": {
             "outlinewidth": 0,
             "ticks": ""
            },
            "type": "choropleth"
           }
          ],
          "contour": [
           {
            "colorbar": {
             "outlinewidth": 0,
             "ticks": ""
            },
            "colorscale": [
             [
              0,
              "#0d0887"
             ],
             [
              0.1111111111111111,
              "#46039f"
             ],
             [
              0.2222222222222222,
              "#7201a8"
             ],
             [
              0.3333333333333333,
              "#9c179e"
             ],
             [
              0.4444444444444444,
              "#bd3786"
             ],
             [
              0.5555555555555556,
              "#d8576b"
             ],
             [
              0.6666666666666666,
              "#ed7953"
             ],
             [
              0.7777777777777778,
              "#fb9f3a"
             ],
             [
              0.8888888888888888,
              "#fdca26"
             ],
             [
              1,
              "#f0f921"
             ]
            ],
            "type": "contour"
           }
          ],
          "contourcarpet": [
           {
            "colorbar": {
             "outlinewidth": 0,
             "ticks": ""
            },
            "type": "contourcarpet"
           }
          ],
          "heatmap": [
           {
            "colorbar": {
             "outlinewidth": 0,
             "ticks": ""
            },
            "colorscale": [
             [
              0,
              "#0d0887"
             ],
             [
              0.1111111111111111,
              "#46039f"
             ],
             [
              0.2222222222222222,
              "#7201a8"
             ],
             [
              0.3333333333333333,
              "#9c179e"
             ],
             [
              0.4444444444444444,
              "#bd3786"
             ],
             [
              0.5555555555555556,
              "#d8576b"
             ],
             [
              0.6666666666666666,
              "#ed7953"
             ],
             [
              0.7777777777777778,
              "#fb9f3a"
             ],
             [
              0.8888888888888888,
              "#fdca26"
             ],
             [
              1,
              "#f0f921"
             ]
            ],
            "type": "heatmap"
           }
          ],
          "heatmapgl": [
           {
            "colorbar": {
             "outlinewidth": 0,
             "ticks": ""
            },
            "colorscale": [
             [
              0,
              "#0d0887"
             ],
             [
              0.1111111111111111,
              "#46039f"
             ],
             [
              0.2222222222222222,
              "#7201a8"
             ],
             [
              0.3333333333333333,
              "#9c179e"
             ],
             [
              0.4444444444444444,
              "#bd3786"
             ],
             [
              0.5555555555555556,
              "#d8576b"
             ],
             [
              0.6666666666666666,
              "#ed7953"
             ],
             [
              0.7777777777777778,
              "#fb9f3a"
             ],
             [
              0.8888888888888888,
              "#fdca26"
             ],
             [
              1,
              "#f0f921"
             ]
            ],
            "type": "heatmapgl"
           }
          ],
          "histogram": [
           {
            "marker": {
             "colorbar": {
              "outlinewidth": 0,
              "ticks": ""
             }
            },
            "type": "histogram"
           }
          ],
          "histogram2d": [
           {
            "colorbar": {
             "outlinewidth": 0,
             "ticks": ""
            },
            "colorscale": [
             [
              0,
              "#0d0887"
             ],
             [
              0.1111111111111111,
              "#46039f"
             ],
             [
              0.2222222222222222,
              "#7201a8"
             ],
             [
              0.3333333333333333,
              "#9c179e"
             ],
             [
              0.4444444444444444,
              "#bd3786"
             ],
             [
              0.5555555555555556,
              "#d8576b"
             ],
             [
              0.6666666666666666,
              "#ed7953"
             ],
             [
              0.7777777777777778,
              "#fb9f3a"
             ],
             [
              0.8888888888888888,
              "#fdca26"
             ],
             [
              1,
              "#f0f921"
             ]
            ],
            "type": "histogram2d"
           }
          ],
          "histogram2dcontour": [
           {
            "colorbar": {
             "outlinewidth": 0,
             "ticks": ""
            },
            "colorscale": [
             [
              0,
              "#0d0887"
             ],
             [
              0.1111111111111111,
              "#46039f"
             ],
             [
              0.2222222222222222,
              "#7201a8"
             ],
             [
              0.3333333333333333,
              "#9c179e"
             ],
             [
              0.4444444444444444,
              "#bd3786"
             ],
             [
              0.5555555555555556,
              "#d8576b"
             ],
             [
              0.6666666666666666,
              "#ed7953"
             ],
             [
              0.7777777777777778,
              "#fb9f3a"
             ],
             [
              0.8888888888888888,
              "#fdca26"
             ],
             [
              1,
              "#f0f921"
             ]
            ],
            "type": "histogram2dcontour"
           }
          ],
          "mesh3d": [
           {
            "colorbar": {
             "outlinewidth": 0,
             "ticks": ""
            },
            "type": "mesh3d"
           }
          ],
          "parcoords": [
           {
            "line": {
             "colorbar": {
              "outlinewidth": 0,
              "ticks": ""
             }
            },
            "type": "parcoords"
           }
          ],
          "pie": [
           {
            "automargin": true,
            "type": "pie"
           }
          ],
          "scatter": [
           {
            "marker": {
             "colorbar": {
              "outlinewidth": 0,
              "ticks": ""
             }
            },
            "type": "scatter"
           }
          ],
          "scatter3d": [
           {
            "line": {
             "colorbar": {
              "outlinewidth": 0,
              "ticks": ""
             }
            },
            "marker": {
             "colorbar": {
              "outlinewidth": 0,
              "ticks": ""
             }
            },
            "type": "scatter3d"
           }
          ],
          "scattercarpet": [
           {
            "marker": {
             "colorbar": {
              "outlinewidth": 0,
              "ticks": ""
             }
            },
            "type": "scattercarpet"
           }
          ],
          "scattergeo": [
           {
            "marker": {
             "colorbar": {
              "outlinewidth": 0,
              "ticks": ""
             }
            },
            "type": "scattergeo"
           }
          ],
          "scattergl": [
           {
            "marker": {
             "colorbar": {
              "outlinewidth": 0,
              "ticks": ""
             }
            },
            "type": "scattergl"
           }
          ],
          "scattermapbox": [
           {
            "marker": {
             "colorbar": {
              "outlinewidth": 0,
              "ticks": ""
             }
            },
            "type": "scattermapbox"
           }
          ],
          "scatterpolar": [
           {
            "marker": {
             "colorbar": {
              "outlinewidth": 0,
              "ticks": ""
             }
            },
            "type": "scatterpolar"
           }
          ],
          "scatterpolargl": [
           {
            "marker": {
             "colorbar": {
              "outlinewidth": 0,
              "ticks": ""
             }
            },
            "type": "scatterpolargl"
           }
          ],
          "scatterternary": [
           {
            "marker": {
             "colorbar": {
              "outlinewidth": 0,
              "ticks": ""
             }
            },
            "type": "scatterternary"
           }
          ],
          "surface": [
           {
            "colorbar": {
             "outlinewidth": 0,
             "ticks": ""
            },
            "colorscale": [
             [
              0,
              "#0d0887"
             ],
             [
              0.1111111111111111,
              "#46039f"
             ],
             [
              0.2222222222222222,
              "#7201a8"
             ],
             [
              0.3333333333333333,
              "#9c179e"
             ],
             [
              0.4444444444444444,
              "#bd3786"
             ],
             [
              0.5555555555555556,
              "#d8576b"
             ],
             [
              0.6666666666666666,
              "#ed7953"
             ],
             [
              0.7777777777777778,
              "#fb9f3a"
             ],
             [
              0.8888888888888888,
              "#fdca26"
             ],
             [
              1,
              "#f0f921"
             ]
            ],
            "type": "surface"
           }
          ],
          "table": [
           {
            "cells": {
             "fill": {
              "color": "#EBF0F8"
             },
             "line": {
              "color": "white"
             }
            },
            "header": {
             "fill": {
              "color": "#C8D4E3"
             },
             "line": {
              "color": "white"
             }
            },
            "type": "table"
           }
          ]
         },
         "layout": {
          "annotationdefaults": {
           "arrowcolor": "#2a3f5f",
           "arrowhead": 0,
           "arrowwidth": 1
          },
          "autotypenumbers": "strict",
          "coloraxis": {
           "colorbar": {
            "outlinewidth": 0,
            "ticks": ""
           }
          },
          "colorscale": {
           "diverging": [
            [
             0,
             "#8e0152"
            ],
            [
             0.1,
             "#c51b7d"
            ],
            [
             0.2,
             "#de77ae"
            ],
            [
             0.3,
             "#f1b6da"
            ],
            [
             0.4,
             "#fde0ef"
            ],
            [
             0.5,
             "#f7f7f7"
            ],
            [
             0.6,
             "#e6f5d0"
            ],
            [
             0.7,
             "#b8e186"
            ],
            [
             0.8,
             "#7fbc41"
            ],
            [
             0.9,
             "#4d9221"
            ],
            [
             1,
             "#276419"
            ]
           ],
           "sequential": [
            [
             0,
             "#0d0887"
            ],
            [
             0.1111111111111111,
             "#46039f"
            ],
            [
             0.2222222222222222,
             "#7201a8"
            ],
            [
             0.3333333333333333,
             "#9c179e"
            ],
            [
             0.4444444444444444,
             "#bd3786"
            ],
            [
             0.5555555555555556,
             "#d8576b"
            ],
            [
             0.6666666666666666,
             "#ed7953"
            ],
            [
             0.7777777777777778,
             "#fb9f3a"
            ],
            [
             0.8888888888888888,
             "#fdca26"
            ],
            [
             1,
             "#f0f921"
            ]
           ],
           "sequentialminus": [
            [
             0,
             "#0d0887"
            ],
            [
             0.1111111111111111,
             "#46039f"
            ],
            [
             0.2222222222222222,
             "#7201a8"
            ],
            [
             0.3333333333333333,
             "#9c179e"
            ],
            [
             0.4444444444444444,
             "#bd3786"
            ],
            [
             0.5555555555555556,
             "#d8576b"
            ],
            [
             0.6666666666666666,
             "#ed7953"
            ],
            [
             0.7777777777777778,
             "#fb9f3a"
            ],
            [
             0.8888888888888888,
             "#fdca26"
            ],
            [
             1,
             "#f0f921"
            ]
           ]
          },
          "colorway": [
           "#636efa",
           "#EF553B",
           "#00cc96",
           "#ab63fa",
           "#FFA15A",
           "#19d3f3",
           "#FF6692",
           "#B6E880",
           "#FF97FF",
           "#FECB52"
          ],
          "font": {
           "color": "#2a3f5f"
          },
          "geo": {
           "bgcolor": "white",
           "lakecolor": "white",
           "landcolor": "#E5ECF6",
           "showlakes": true,
           "showland": true,
           "subunitcolor": "white"
          },
          "hoverlabel": {
           "align": "left"
          },
          "hovermode": "closest",
          "mapbox": {
           "style": "light"
          },
          "paper_bgcolor": "white",
          "plot_bgcolor": "#E5ECF6",
          "polar": {
           "angularaxis": {
            "gridcolor": "white",
            "linecolor": "white",
            "ticks": ""
           },
           "bgcolor": "#E5ECF6",
           "radialaxis": {
            "gridcolor": "white",
            "linecolor": "white",
            "ticks": ""
           }
          },
          "scene": {
           "xaxis": {
            "backgroundcolor": "#E5ECF6",
            "gridcolor": "white",
            "gridwidth": 2,
            "linecolor": "white",
            "showbackground": true,
            "ticks": "",
            "zerolinecolor": "white"
           },
           "yaxis": {
            "backgroundcolor": "#E5ECF6",
            "gridcolor": "white",
            "gridwidth": 2,
            "linecolor": "white",
            "showbackground": true,
            "ticks": "",
            "zerolinecolor": "white"
           },
           "zaxis": {
            "backgroundcolor": "#E5ECF6",
            "gridcolor": "white",
            "gridwidth": 2,
            "linecolor": "white",
            "showbackground": true,
            "ticks": "",
            "zerolinecolor": "white"
           }
          },
          "shapedefaults": {
           "line": {
            "color": "#2a3f5f"
           }
          },
          "ternary": {
           "aaxis": {
            "gridcolor": "white",
            "linecolor": "white",
            "ticks": ""
           },
           "baxis": {
            "gridcolor": "white",
            "linecolor": "white",
            "ticks": ""
           },
           "bgcolor": "#E5ECF6",
           "caxis": {
            "gridcolor": "white",
            "linecolor": "white",
            "ticks": ""
           }
          },
          "title": {
           "x": 0.05
          },
          "xaxis": {
           "automargin": true,
           "gridcolor": "white",
           "linecolor": "white",
           "ticks": "",
           "title": {
            "standoff": 15
           },
           "zerolinecolor": "white",
           "zerolinewidth": 2
          },
          "yaxis": {
           "automargin": true,
           "gridcolor": "white",
           "linecolor": "white",
           "ticks": "",
           "title": {
            "standoff": 15
           },
           "zerolinecolor": "white",
           "zerolinewidth": 2
          }
         }
        },
        "xaxis": {
         "anchor": "y",
         "autorange": true,
         "domain": [
          0,
          1
         ],
         "range": [
          1919.5,
          1997.5
         ],
         "title": {
          "text": "Year"
         },
         "type": "linear"
        },
        "yaxis": {
         "anchor": "x",
         "autorange": true,
         "domain": [
          0,
          1
         ],
         "range": [
          0,
          246.31578947368422
         ],
         "title": {
          "text": "count"
         }
        }
       }
      },
      "image/png": "[encoded data removed]",
      "text/html": [
       "<div>                            <div id=\"71d0e0dd-2d78-458e-b3fd-3a89a188d2b0\" class=\"plotly-graph-div\" style=\"height:525px; width:100%;\"></div>            <script type=\"text/javascript\">                require([\"plotly\"], function(Plotly) {                    window.PLOTLYENV=window.PLOTLYENV || {};                                    if (document.getElementById(\"71d0e0dd-2d78-458e-b3fd-3a89a188d2b0\")) {                    Plotly.newPlot(                        \"71d0e0dd-2d78-458e-b3fd-3a89a188d2b0\",                        [{\"alignmentgroup\": \"True\", \"bingroup\": \"x\", \"hovertemplate\": \"Year=%{x}<br>count=%{y}<extra></extra>\", \"legendgroup\": \"\", \"marker\": {\"color\": \"#636efa\"}, \"name\": \"\", \"offsetgroup\": \"\", \"orientation\": \"v\", \"showlegend\": false, \"type\": \"histogram\", \"x\": [1990, 1991, 1983, 1979, 1978, 1983, 1984, 1989, 1985, 1990, 1982, 1982, 1966, 1986, 1966, 1985, 1976, 1929, 1963, 1988, 1988, 1981, 1987, 1991, 1988, 1990, 1988, 1980, 1989, 1979, 1960, 1957, 1956, 1992, 1955, 1955, 1962, 1972, 1958, 1967, 1962, 1954, 1979, 1983, 1966, 1966, 1986, 1965, 1985, 1984, 1988, 1978, 1992, 1978, 1992, 1987, 1992, 1981, 1992, 1991, 1924, 1991, 1988, 1991, 1986, 1985, 1985, 1971, 1959, 1926, 1987, 1989, 1988, 1926, 1988, 1974, 1955, 1977, 1988, 1991, 1989, 1996, 1992, 1980, 1988, 1982, 1987, 1971, 1957, 1969, 1958, 1959, 1967, 1968, 1964, 1965, 1962, 1964, 1958, 1955, 1962, 1957, 1973, 1987, 1932, 1987, 1982, 1992, 1988, 1989, 1987, 1982, 1992, 1983, 1986, 1989, 1986, 1991, 1990, 1946, 1984, 1990, 1988, 1989, 1988, 1990, 1942, 1972, 1977, 1982, 1990, 1948, 1945, 1988, 1985, 1982, 1975, 1971, 1970, 1972, 1935, 1978, 1944, 1958, 1941, 1948, 1982, 1969, 1949, 1946, 1940, 1961, 1956, 1945, 1937, 1938, 1935, 1939, 1938, 1956, 1952, 1953, 1954, 1950, 1969, 1989, 1990, 1987, 1982, 1991, 1970, 1982, 1983, 1984, 1973, 1988, 1972, 1970, 1973, 1952, 1976, 1969, 1991, 1974, 1964, 1977, 1953, 1942, 1968, 1973, 1982, 1990, 1987, 1985, 1993, 1974, 1993, 1958, 1981, 1928, 1992, 1989, 1985, 1990, 1973, 1958, 1986, 1990, 1948, 1987, 1965, 1980, 1988, 1978, 1988, 1988, 1973, 1975, 1982, 1952, 1954, 1989, 1990, 1971, 1983, 1989, 1987, 1984, 1984, 1989, 1963, 1935, 1988, 1966, 1974, 1977, 1983, 1936, 1986, 1972, 1987, 1990, 1982, 1987, 1977, 1990, 1989, 1970, 1943, 1992, 1989, 1987, 1987, 1979, 1984, 1986, 1989, 1975, 1985, 1965, 1963, 1931, 1931, 1967, 1968, 1989, 1987, 1980, 1988, 1990, 1991, 1946, 1987, 1948, 1962, 1989, 1992, 1966, 1986, 1991, 1961, 1990, 1962, 1989, 1991, 1989, 1992, 1977, 1987, 1988, 1954, 1957, 1986, 1979, 1989, 1974, 1990, 1980, 1990, 1971, 1969, 1942, 1948, 1965, 1946, 1939, 1950, 1986, 1990, 1988, 1989, 1956, 1992, 1940, 1949, 1986, 1975, 1942, 1989, 1990, 1967, 1992, 1987, 1989, 1983, 1980, 1986, 1983, 1981, 1977, 1980, 1986, 1989, 1990, 1989, 1988, 1981, 1989, 1990, 1940, 1961, 1989, 1990, 1987, 1991, 1987, 1993, 1991, 1979, 1991, 1991, 1946, 1950, 1949, 1985, 1986, 1992, 1976, 1974, 1975, 1977, 1987, 1990, 1947, 1943, 1974, 1981, 1980, 1945, 1993, 1979, 1970, 1984, 1991, 1961, 1966, 1974, 1985, 1967, 1993, 1992, 1987, 1987, 1956, 1985, 1984, 1992, 1986, 1979, 1986, 1981, 1936, 1978, 1990, 1992, 1988, 1987, 1984, 1991, 1977, 1981, 1979, 1989, 1989, 1980, 1977, 1983, 1991, 1956, 1957, 1931, 1990, 1972, 1979, 1986, 1971, 1979, 1965, 1991, 1940, 1944, 1973, 1992, 1989, 1990, 1983, 1991, 1988, 1972, 1988, 1955, 1989, 1987, 1934, 1931, 1930, 1926, 1928, 1935, 1936, 1931, 1929, 1932, 1931, 1939, 1933, 1928, 1925, 1929, 1932, 1930, 1962, 1982, 1989, 1953, 1979, 1975, 1987, 1989, 1975, 1979, 1986, 1959, 1954, 1961, 1983, 1988, 1987, 1986, 1978, 1988, 1966, 1964, 1988, 1979, 1991, 1932, 1986, 1990, 1988, 1992, 1991, 1988, 1991, 1984, 1986, 1969, 1991, 1990, 1992, 1985, 1983, 1984, 1989, 1987, 1982, 1987, 1992, 1989, 1938, 1936, 1976, 1988, 1983, 1987, 1989, 1991, 1986, 1987, 1989, 1970, 1984, 1978, 1982, 1972, 1987, 1974, 1992, 1986, 1984, 1980, 1974, 1980, 1991, 1931, 1972, 1964, 1952, 1948, 1940, 1946, 1948, 1990, 1964, 1987, 1984, 1985, 1949, 1964, 1960, 1976, 1961, 1956, 1952, 1968, 1991, 1967, 1957, 1975, 1981, 1991, 1991, 1991, 1991, 1991, 1991, 1991, 1992, 1986, 1987, 1988, 1991, 1988, 1966, 1986, 1989, 1943, 1992, 1987, 1980, 1973, 1987, 1947, 1928, 1986, 1987, 1934, 1950, 1991, 1987, 1989, 1980, 1982, 1980, 1940, 1987, 1989, 1992, 1932, 1991, 1990, 1980, 1988, 1982, 1987, 1973, 1970, 1988, 1986, 1955, 1989, 1981, 1927, 1937, 1991, 1983, 1987, 1990, 1986, 1963, 1991, 1988, 1948, 1973, 1983, 1975, 1990, 1977, 1955, 1988, 1983, 1989, 1991, 1977, 1979, 1981, 1986, 1977, 1972, 1974, 1976, 1972, 1975, 1973, 1970, 1980, 1977, 1977, 1972, 1953, 1955, 1954, 1945, 1939, 1956, 1989, 1992, 1927, 1978, 1987, 1970, 1989, 1990, 1987, 1983, 1984, 1984, 1987, 1989, 1987, 1986, 1969, 1984, 1935, 1990, 1986, 1977, 1989, 1987, 1989, 1987, 1990, 1978, 1986, 1953, 1969, 1988, 1981, 1988, 1990, 1985, 1986, 1987, 1983, 1983, 1990, 1989, 1990, 1988, 1992, 1992, 1949, 1978, 1971, 1990, 1960, 1957, 1987, 1951, 1986, 1971, 1985, 1989, 1978, 1974, 1980, 1977, 1986, 1938, 1987, 1959, 1929, 1941, 1986, 1982, 1987, 1991, 1991, 1960, 1961, 1954, 1963, 1957, 1978, 1964, 1961, 1958, 1953, 1959, 1977, 1977, 1979, 1991, 1990, 1991, 1992, 1986, 1986, 1992, 1979, 1991, 1943, 1986, 1991, 1962, 1989, 1990, 1988, 1979, 1983, 1967, 1968, 1990, 1970, 1992, 1939, 1988, 1991, 1992, 1991, 1990, 1987, 1990, 1991, 1988, 1986, 1990, 1974, 1988, 1980, 1949, 1981, 1989, 1955, 1986, 1986, 1977, 1991, 1981, 1991, 1992, 1986, 1986, 1986, 1989, 1980, 1989, 1992, 1990, 1990, 1992, 1967, 1990, 1987, 1988, 1975, 1988, 1991, 1988, 1989, 1983, 1987, 1986, 1985, 1988, 1984, 1983, 1988, 1965, 1989, 1981, 1957, 1964, 1975, 1988, 1990, 1991, 1991, 1991, 1987, 1970, 1973, 1962, 1989, 1988, 1960, 1972, 1981, 1976, 1977, 1989, 1980, 1991, 1950, 1992, 1953, 1983, 1991, 1987, 1986, 1989, 1984, 1990, 1986, 1982, 1948, 1952, 1974, 1970, 1955, 1988, 1968, 1976, 1987, 1988, 1974, 1941, 1990, 1940, 1955, 1987, 1963, 1951, 1987, 1956, 1992, 1970, 1991, 1988, 1923, 1980, 1991, 1989, 1991, 1986, 1987, 1990, 1950, 1992, 1958, 1987, 1946, 1941, 1940, 1941, 1992, 1950, 1957, 1939, 1971, 1992, 1983, 1952, 1969, 1953, 1929, 1978, 1981, 1986, 1982, 1985, 1955, 1969, 1987, 1969, 1991, 1993, 1988, 1976, 1986, 1984, 1990, 1986, 1984, 1992, 1986, 1978, 1989, 1979, 1980, 1986, 1982, 1989, 1985, 1989, 1985, 1991, 1988, 1989, 1971, 1973, 1988, 1927, 1989, 1990, 1962, 1992, 1991, 1988, 1988, 1990, 1962, 1972, 1965, 1965, 1983, 1988, 1990, 1988, 1988, 1989, 1987, 1992, 1970, 1990, 1991, 1987, 1987, 1989, 1949, 1974, 1989, 1988, 1986, 1991, 1977, 1971, 1984, 1990, 1986, 1985, 1993, 1989, 1987, 1991, 1969, 1986, 1987, 1943, 1986, 1987, 1990, 1991, 1991, 1940, 1992, 1990, 1986, 1992, 1951, 1979, 1991, 1980, 1969, 1968, 1980, 1986, 1989, 1976, 1988, 1992, 1988, 1992, 1991, 1958, 1988, 1990, 1947, 1990, 1988, 1991, 1939, 1988, 1987, 1988, 1990, 1991, 1990, 1972, 1991, 1966, 1992, 1982, 1985, 1971, 1974, 1973, 1968, 1970, 1971, 1986, 1986, 1984, 1989, 1975, 1968, 1992, 1991, 1979, 1991, 1990, 1990, 1975, 1973, 1987, 1924, 1966, 1986, 1990, 1972, 1986, 1983, 1986, 1971, 1988, 1981, 1976, 1988, 1936, 1977, 1985, 1954, 1960, 1955, 1992, 1988, 1963, 1987, 1986, 1987, 1965, 1988, 1988, 1978, 1986, 1985, 1990, 1986, 1985, 1964, 1979, 1982, 1989, 1987, 1990, 1933, 1992, 1985, 1986, 1993, 1981, 1967, 1992, 1990, 1987, 1992, 1967, 1987, 1979, 1988, 1991, 1978, 1984, 1986, 1983, 1982, 1985, 1981, 1985, 1988, 1989, 1992, 1991, 1970, 1987, 1983, 1968, 1990, 1970, 1987, 1941, 1984, 1949, 1989, 1991, 1983, 1957, 1975, 1967, 1972, 1968, 1963, 1950, 1992, 1977, 1956, 1985, 1943, 1993, 1972, 1991, 1991, 1973, 1991, 1931, 1992, 1984, 1988, 1991, 1935, 1988, 1980, 1948, 1937, 1987, 1988, 1983, 1987, 1990, 1985, 1963, 1963, 1959, 1961, 1986, 1989, 1990, 1989, 1986, 1941, 1939, 1940, 1986, 1989, 1985, 1983, 1984, 1985, 1984, 1988, 1955, 1958, 1988, 1986, 1968, 1966, 1973, 1968, 1969, 1984, 1957, 1968, 1985, 1990, 1973, 1959, 1970, 1971, 1981, 1967, 1988, 1990, 1991, 1992, 1986, 1991, 1988, 1986, 1992, 1997, 1979, 1985, 1984, 1973, 1974, 1972, 1966, 1967, 1977, 1969, 1975, 1968, 1973, 1972, 1990, 1988, 1955, 1987, 1966, 1990, 1987, 1970, 1989, 1990, 1987, 1989, 1974, 1973, 1953, 1980, 1989, 1956, 1973, 1989, 1992, 1982, 1987, 1986, 1970, 1965, 1955, 1977, 1968, 1992, 1964, 1985, 1991, 1956, 1979, 1955, 1961, 1970, 1966, 1966, 1987, 1989, 1968, 1961, 1960, 1993, 1991, 1943, 1950, 1950, 1947, 1975, 1949, 1987, 1993, 1947, 1990, 1953, 1954, 1977, 1979, 1954, 1987, 1966, 1962, 1986, 1988, 1986, 1988, 1981, 1991, 1987, 1962, 1983, 1989, 1991, 1963, 1961, 1937, 1987, 1936, 1991, 1931, 1979, 1984, 1979, 1990, 1963, 1963, 1975, 1986, 1991, 1979, 1987, 1986, 1989, 1990, 1984, 1974, 1975, 1982, 1987, 1993, 1966, 1990, 1945, 1991, 1949, 1949, 1949, 1950, 1948, 1948, 1948, 1968, 1983, 1971, 1985, 1961, 1983, 1984, 1958, 1982, 1989, 1988, 1953, 1960, 1966, 1966, 1970, 1953, 1935, 1969, 1930, 1954, 1937, 1976, 1981, 1982, 1975, 1981, 1970, 1989, 1990, 1985, 1986, 1984, 1992, 1979, 1983, 1971, 1945, 1952, 1968, 1990, 1937, 1956, 1974, 1971, 1991, 1943, 1991, 1946, 1960, 1951, 1951, 1962, 1955, 1957, 1961, 1980, 1952, 1987, 1986, 1926, 1946, 1920, 1954, 1928, 1933, 1991, 1990, 1989, 1989, 1991, 1944, 1982, 1974, 1987, 1945, 1969, 1964, 1976, 1984, 1987, 1944, 1988, 1978, 1955, 1957, 1971, 1984, 1991, 1970, 1940, 1967, 1980, 1970, 1990, 1966, 1973, 1942, 1991, 1982, 1987, 1989, 1973, 1987, 1971, 1970, 1988, 1981, 1935, 1988, 1990, 1990, 1989, 1987, 1976, 1987, 1969, 1988, 1993, 1988, 1975, 1972, 1970, 1973, 1989, 1979, 1983, 1986, 1951, 1985, 1980, 1972, 1983, 1984, 1991, 1987, 1990, 1990, 1972, 1985, 1970, 1969, 1985, 1976, 1987, 1991, 1991, 1938, 1938, 1982, 1971, 1979, 1948, 1976, 1990, 1993, 1991, 1924, 1986, 1963, 1971, 1971, 1985, 1938, 1990, 1982, 1947, 1947, 1937, 1992, 1947, 1947, 1949, 1992, 1937, 1937, 1949, 1991, 1957, 1953, 1982, 1960, 1986, 1985, 1990, 1952, 1949, 1976, 1990, 1982, 1956, 1955, 1962, 1989, 1986, 1986, 1986, 1986, 1990, 1982, 1981, 1964, 1993, 1992, 1990, 1992, 1977, 1989, 1972, 1991, 1991, 1992, 1992, 1959, 1992, 1987, 1992, 1992, 1993, 1986, 1993, 1991, 1989, 1959, 1983, 1973, 1992, 1990, 1982, 1975, 1953, 1991, 1990, 1992, 1992, 1992, 1992, 1992, 1986, 1990, 1990, 1986, 1989, 1991, 1986, 1974, 1993, 1992, 1989, 1983, 1990, 1989, 1991, 1953, 1992, 1992, 1989, 1992, 1968, 1990, 1989, 1987, 1991, 1989, 1988, 1991, 1991, 1956, 1953, 1975, 1991, 1991, 1960, 1991, 1991, 1988, 1958, 1989, 1979, 1942, 1992, 1992, 1967, 1980, 1991, 1991, 1991, 1957, 1992, 1993, 1939, 1934, 1932, 1932, 1965, 1991, 1992, 1991, 1939, 1939, 1938, 1990, 1991, 1991, 1992, 1991, 1991, 1934, 1992, 1993, 1991, 1991, 1993, 1992, 1991, 1990, 1932, 1989, 1988, 1977, 1991], \"xaxis\": \"x\", \"yaxis\": \"y\"}],                        {\"barmode\": \"relative\", \"legend\": {\"tracegroupgap\": 0}, \"margin\": {\"t\": 60}, \"template\": {\"data\": {\"bar\": [{\"error_x\": {\"color\": \"#2a3f5f\"}, \"error_y\": {\"color\": \"#2a3f5f\"}, \"marker\": {\"line\": {\"color\": \"#E5ECF6\", \"width\": 0.5}}, \"type\": \"bar\"}], \"barpolar\": [{\"marker\": {\"line\": {\"color\": \"#E5ECF6\", \"width\": 0.5}}, \"type\": \"barpolar\"}], \"carpet\": [{\"aaxis\": {\"endlinecolor\": \"#2a3f5f\", \"gridcolor\": \"white\", \"linecolor\": \"white\", \"minorgridcolor\": \"white\", \"startlinecolor\": \"#2a3f5f\"}, \"baxis\": {\"endlinecolor\": \"#2a3f5f\", \"gridcolor\": \"white\", \"linecolor\": \"white\", \"minorgridcolor\": \"white\", \"startlinecolor\": \"#2a3f5f\"}, \"type\": \"carpet\"}], \"choropleth\": [{\"colorbar\": {\"outlinewidth\": 0, \"ticks\": \"\"}, \"type\": \"choropleth\"}], \"contour\": [{\"colorbar\": {\"outlinewidth\": 0, \"ticks\": \"\"}, \"colorscale\": [[0.0, \"#0d0887\"], [0.1111111111111111, \"#46039f\"], [0.2222222222222222, \"#7201a8\"], [0.3333333333333333, \"#9c179e\"], [0.4444444444444444, \"#bd3786\"], [0.5555555555555556, \"#d8576b\"], [0.6666666666666666, \"#ed7953\"], [0.7777777777777778, \"#fb9f3a\"], [0.8888888888888888, \"#fdca26\"], [1.0, \"#f0f921\"]], \"type\": \"contour\"}], \"contourcarpet\": [{\"colorbar\": {\"outlinewidth\": 0, \"ticks\": \"\"}, \"type\": \"contourcarpet\"}], \"heatmap\": [{\"colorbar\": {\"outlinewidth\": 0, \"ticks\": \"\"}, \"colorscale\": [[0.0, \"#0d0887\"], [0.1111111111111111, \"#46039f\"], [0.2222222222222222, \"#7201a8\"], [0.3333333333333333, \"#9c179e\"], [0.4444444444444444, \"#bd3786\"], [0.5555555555555556, \"#d8576b\"], [0.6666666666666666, \"#ed7953\"], [0.7777777777777778, \"#fb9f3a\"], [0.8888888888888888, \"#fdca26\"], [1.0, \"#f0f921\"]], \"type\": \"heatmap\"}], \"heatmapgl\": [{\"colorbar\": {\"outlinewidth\": 0, \"ticks\": \"\"}, \"colorscale\": [[0.0, \"#0d0887\"], [0.1111111111111111, \"#46039f\"], [0.2222222222222222, \"#7201a8\"], [0.3333333333333333, \"#9c179e\"], [0.4444444444444444, \"#bd3786\"], [0.5555555555555556, \"#d8576b\"], [0.6666666666666666, \"#ed7953\"], [0.7777777777777778, \"#fb9f3a\"], [0.8888888888888888, \"#fdca26\"], [1.0, \"#f0f921\"]], \"type\": \"heatmapgl\"}], \"histogram\": [{\"marker\": {\"colorbar\": {\"outlinewidth\": 0, \"ticks\": \"\"}}, \"type\": \"histogram\"}], \"histogram2d\": [{\"colorbar\": {\"outlinewidth\": 0, \"ticks\": \"\"}, \"colorscale\": [[0.0, \"#0d0887\"], [0.1111111111111111, \"#46039f\"], [0.2222222222222222, \"#7201a8\"], [0.3333333333333333, \"#9c179e\"], [0.4444444444444444, \"#bd3786\"], [0.5555555555555556, \"#d8576b\"], [0.6666666666666666, \"#ed7953\"], [0.7777777777777778, \"#fb9f3a\"], [0.8888888888888888, \"#fdca26\"], [1.0, \"#f0f921\"]], \"type\": \"histogram2d\"}], \"histogram2dcontour\": [{\"colorbar\": {\"outlinewidth\": 0, \"ticks\": \"\"}, \"colorscale\": [[0.0, \"#0d0887\"], [0.1111111111111111, \"#46039f\"], [0.2222222222222222, \"#7201a8\"], [0.3333333333333333, \"#9c179e\"], [0.4444444444444444, \"#bd3786\"], [0.5555555555555556, \"#d8576b\"], [0.6666666666666666, \"#ed7953\"], [0.7777777777777778, \"#fb9f3a\"], [0.8888888888888888, \"#fdca26\"], [1.0, \"#f0f921\"]], \"type\": \"histogram2dcontour\"}], \"mesh3d\": [{\"colorbar\": {\"outlinewidth\": 0, \"ticks\": \"\"}, \"type\": \"mesh3d\"}], \"parcoords\": [{\"line\": {\"colorbar\": {\"outlinewidth\": 0, \"ticks\": \"\"}}, \"type\": \"parcoords\"}], \"pie\": [{\"automargin\": true, \"type\": \"pie\"}], \"scatter\": [{\"marker\": {\"colorbar\": {\"outlinewidth\": 0, \"ticks\": \"\"}}, \"type\": \"scatter\"}], \"scatter3d\": [{\"line\": {\"colorbar\": {\"outlinewidth\": 0, \"ticks\": \"\"}}, \"marker\": {\"colorbar\": {\"outlinewidth\": 0, \"ticks\": \"\"}}, \"type\": \"scatter3d\"}], \"scattercarpet\": [{\"marker\": {\"colorbar\": {\"outlinewidth\": 0, \"ticks\": \"\"}}, \"type\": \"scattercarpet\"}], \"scattergeo\": [{\"marker\": {\"colorbar\": {\"outlinewidth\": 0, \"ticks\": \"\"}}, \"type\": \"scattergeo\"}], \"scattergl\": [{\"marker\": {\"colorbar\": {\"outlinewidth\": 0, \"ticks\": \"\"}}, \"type\": \"scattergl\"}], \"scattermapbox\": [{\"marker\": {\"colorbar\": {\"outlinewidth\": 0, \"ticks\": \"\"}}, \"type\": \"scattermapbox\"}], \"scatterpolar\": [{\"marker\": {\"colorbar\": {\"outlinewidth\": 0, \"ticks\": \"\"}}, \"type\": \"scatterpolar\"}], \"scatterpolargl\": [{\"marker\": {\"colorbar\": {\"outlinewidth\": 0, \"ticks\": \"\"}}, \"type\": \"scatterpolargl\"}], \"scatterternary\": [{\"marker\": {\"colorbar\": {\"outlinewidth\": 0, \"ticks\": \"\"}}, \"type\": \"scatterternary\"}], \"surface\": [{\"colorbar\": {\"outlinewidth\": 0, \"ticks\": \"\"}, \"colorscale\": [[0.0, \"#0d0887\"], [0.1111111111111111, \"#46039f\"], [0.2222222222222222, \"#7201a8\"], [0.3333333333333333, \"#9c179e\"], [0.4444444444444444, \"#bd3786\"], [0.5555555555555556, \"#d8576b\"], [0.6666666666666666, \"#ed7953\"], [0.7777777777777778, \"#fb9f3a\"], [0.8888888888888888, \"#fdca26\"], [1.0, \"#f0f921\"]], \"type\": \"surface\"}], \"table\": [{\"cells\": {\"fill\": {\"color\": \"#EBF0F8\"}, \"line\": {\"color\": \"white\"}}, \"header\": {\"fill\": {\"color\": \"#C8D4E3\"}, \"line\": {\"color\": \"white\"}}, \"type\": \"table\"}]}, \"layout\": {\"annotationdefaults\": {\"arrowcolor\": \"#2a3f5f\", \"arrowhead\": 0, \"arrowwidth\": 1}, \"autotypenumbers\": \"strict\", \"coloraxis\": {\"colorbar\": {\"outlinewidth\": 0, \"ticks\": \"\"}}, \"colorscale\": {\"diverging\": [[0, \"#8e0152\"], [0.1, \"#c51b7d\"], [0.2, \"#de77ae\"], [0.3, \"#f1b6da\"], [0.4, \"#fde0ef\"], [0.5, \"#f7f7f7\"], [0.6, \"#e6f5d0\"], [0.7, \"#b8e186\"], [0.8, \"#7fbc41\"], [0.9, \"#4d9221\"], [1, \"#276419\"]], \"sequential\": [[0.0, \"#0d0887\"], [0.1111111111111111, \"#46039f\"], [0.2222222222222222, \"#7201a8\"], [0.3333333333333333, \"#9c179e\"], [0.4444444444444444, \"#bd3786\"], [0.5555555555555556, \"#d8576b\"], [0.6666666666666666, \"#ed7953\"], [0.7777777777777778, \"#fb9f3a\"], [0.8888888888888888, \"#fdca26\"], [1.0, \"#f0f921\"]], \"sequentialminus\": [[0.0, \"#0d0887\"], [0.1111111111111111, \"#46039f\"], [0.2222222222222222, \"#7201a8\"], [0.3333333333333333, \"#9c179e\"], [0.4444444444444444, \"#bd3786\"], [0.5555555555555556, \"#d8576b\"], [0.6666666666666666, \"#ed7953\"], [0.7777777777777778, \"#fb9f3a\"], [0.8888888888888888, \"#fdca26\"], [1.0, \"#f0f921\"]]}, \"colorway\": [\"#636efa\", \"#EF553B\", \"#00cc96\", \"#ab63fa\", \"#FFA15A\", \"#19d3f3\", \"#FF6692\", \"#B6E880\", \"#FF97FF\", \"#FECB52\"], \"font\": {\"color\": \"#2a3f5f\"}, \"geo\": {\"bgcolor\": \"white\", \"lakecolor\": \"white\", \"landcolor\": \"#E5ECF6\", \"showlakes\": true, \"showland\": true, \"subunitcolor\": \"white\"}, \"hoverlabel\": {\"align\": \"left\"}, \"hovermode\": \"closest\", \"mapbox\": {\"style\": \"light\"}, \"paper_bgcolor\": \"white\", \"plot_bgcolor\": \"#E5ECF6\", \"polar\": {\"angularaxis\": {\"gridcolor\": \"white\", \"linecolor\": \"white\", \"ticks\": \"\"}, \"bgcolor\": \"#E5ECF6\", \"radialaxis\": {\"gridcolor\": \"white\", \"linecolor\": \"white\", \"ticks\": \"\"}}, \"scene\": {\"xaxis\": {\"backgroundcolor\": \"#E5ECF6\", \"gridcolor\": \"white\", \"gridwidth\": 2, \"linecolor\": \"white\", \"showbackground\": true, \"ticks\": \"\", \"zerolinecolor\": \"white\"}, \"yaxis\": {\"backgroundcolor\": \"#E5ECF6\", \"gridcolor\": \"white\", \"gridwidth\": 2, \"linecolor\": \"white\", \"showbackground\": true, \"ticks\": \"\", \"zerolinecolor\": \"white\"}, \"zaxis\": {\"backgroundcolor\": \"#E5ECF6\", \"gridcolor\": \"white\", \"gridwidth\": 2, \"linecolor\": \"white\", \"showbackground\": true, \"ticks\": \"\", \"zerolinecolor\": \"white\"}}, \"shapedefaults\": {\"line\": {\"color\": \"#2a3f5f\"}}, \"ternary\": {\"aaxis\": {\"gridcolor\": \"white\", \"linecolor\": \"white\", \"ticks\": \"\"}, \"baxis\": {\"gridcolor\": \"white\", \"linecolor\": \"white\", \"ticks\": \"\"}, \"bgcolor\": \"#E5ECF6\", \"caxis\": {\"gridcolor\": \"white\", \"linecolor\": \"white\", \"ticks\": \"\"}}, \"title\": {\"x\": 0.05}, \"xaxis\": {\"automargin\": true, \"gridcolor\": \"white\", \"linecolor\": \"white\", \"ticks\": \"\", \"title\": {\"standoff\": 15}, \"zerolinecolor\": \"white\", \"zerolinewidth\": 2}, \"yaxis\": {\"automargin\": true, \"gridcolor\": \"white\", \"linecolor\": \"white\", \"ticks\": \"\", \"title\": {\"standoff\": 15}, \"zerolinecolor\": \"white\", \"zerolinewidth\": 2}}}, \"xaxis\": {\"anchor\": \"y\", \"domain\": [0.0, 1.0], \"title\": {\"text\": \"Year\"}}, \"yaxis\": {\"anchor\": \"x\", \"domain\": [0.0, 1.0], \"title\": {\"text\": \"count\"}}},                        {\"responsive\": true}                    ).then(function(){\n",
       "                            \n",
       "var gd = document.getElementById('71d0e0dd-2d78-458e-b3fd-3a89a188d2b0');\n",
       "var x = new MutationObserver(function (mutations, observer) {{\n",
       "        var display = window.getComputedStyle(gd).display;\n",
       "        if (!display || display === 'none') {{\n",
       "            console.log([gd, 'removed!']);\n",
       "            Plotly.purge(gd);\n",
       "            observer.disconnect();\n",
       "        }}\n",
       "}});\n",
       "\n",
       "// Listen for the removal of the full notebook cells\n",
       "var notebookContainer = gd.closest('#notebook-container');\n",
       "if (notebookContainer) {{\n",
       "    x.observe(notebookContainer, {childList: true});\n",
       "}}\n",
       "\n",
       "// Listen for the clearing of the current output cell\n",
       "var outputEl = gd.closest('.output');\n",
       "if (outputEl) {{\n",
       "    x.observe(outputEl, {childList: true});\n",
       "}}\n",
       "\n",
       "                        })                };                });            </script>        </div>"
      ]
     },
     "metadata": {},
     "output_type": "display_data"
    }
   ],
   "source": [
    "fig = px.histogram(df, x='Year')\n",
    "fig.show()"
   ]
  },
  {
   "cell_type": "markdown",
   "id": "25e43473-6757-4cf9-a5a9-6af6f5647ba3",
   "metadata": {},
   "source": [
    "Very cool. Now you try to make a histogram where the x-axis is Length."
   ]
  },
  {
   "cell_type": "code",
   "execution_count": 9,
   "id": "18a53f37-cb34-4227-9c0f-43c57d5c49ce",
   "metadata": {},
   "outputs": [
    {
     "data": {
      "application/vnd.plotly.v1+json": {
       "config": {
        "plotlyServerURL": "https://plot.ly"
       },
       "data": [
        {
         "alignmentgroup": "True",
         "bingroup": "x",
         "hovertemplate": "Length=%{x}<br>count=%{y}<extra></extra>",
         "legendgroup": "",
         "marker": {
          "color": "#636efa"
         },
         "name": "",
         "offsetgroup": "",
         "orientation": "v",
         "showlegend": false,
         "type": "histogram",
         "x": [
          111,
          113,
          104,
          122,
          94,
          140,
          101,
          99,
          104,
          149,
          188,
          117,
          103,
          112,
          103,
          112,
          150,
          84,
          109,
          110,
          101,
          116,
          101,
          105,
          127,
          97,
          108,
          null,
          88,
          110,
          90,
          91,
          96,
          90,
          86,
          95,
          91,
          91,
          104,
          130,
          null,
          103,
          121,
          118,
          190,
          125,
          107,
          172,
          55,
          140,
          104,
          106,
          286,
          108,
          95,
          120,
          117,
          106,
          97,
          115,
          110,
          90,
          118,
          115,
          108,
          97,
          104,
          102,
          91,
          126,
          102,
          118,
          141,
          66,
          103,
          128,
          115,
          136,
          100,
          89,
          103,
          96,
          100,
          124,
          90,
          120,
          100,
          101,
          99,
          86,
          77,
          90,
          100,
          113,
          102,
          100,
          134,
          99,
          90,
          90,
          100,
          90,
          87,
          97,
          92,
          104,
          115,
          101,
          83,
          126,
          95,
          101,
          125,
          134,
          117,
          null,
          108,
          116,
          123,
          93,
          95,
          101,
          96,
          103,
          96,
          127,
          123,
          100,
          102,
          null,
          105,
          99,
          103,
          76,
          55,
          188,
          120,
          96,
          126,
          90,
          75,
          97,
          114,
          100,
          75,
          100,
          195,
          98,
          117,
          101,
          90,
          120,
          106,
          126,
          91,
          104,
          90,
          87,
          74,
          98,
          110,
          83,
          81,
          107,
          103,
          105,
          90,
          91,
          128,
          91,
          94,
          108,
          60,
          158,
          101,
          172,
          124,
          137,
          116,
          107,
          116,
          94,
          98,
          144,
          112,
          117,
          61,
          88,
          103,
          105,
          123,
          102,
          98,
          105,
          60,
          89,
          65,
          101,
          129,
          139,
          106,
          null,
          119,
          121,
          129,
          96,
          101,
          135,
          110,
          91,
          123,
          104,
          120,
          114,
          117,
          90,
          122,
          112,
          94,
          109,
          40,
          114,
          102,
          98,
          50,
          80,
          91,
          94,
          99,
          125,
          138,
          64,
          103,
          175,
          313,
          104,
          104,
          84,
          71,
          71,
          119,
          107,
          92,
          null,
          91,
          null,
          90,
          26,
          99,
          99,
          113,
          103,
          119,
          128,
          106,
          88,
          90,
          109,
          111,
          122,
          120,
          68,
          110,
          111,
          103,
          91,
          118,
          91,
          119,
          111,
          119,
          105,
          101,
          81,
          91,
          108,
          135,
          99,
          88,
          96,
          66,
          110,
          110,
          90,
          95,
          103,
          60,
          123,
          109,
          108,
          96,
          82,
          120,
          122,
          97,
          124,
          106,
          90,
          94,
          74,
          128,
          18,
          103,
          133,
          110,
          96,
          138,
          96,
          89,
          93,
          104,
          120,
          90,
          120,
          115,
          120,
          89,
          85,
          120,
          93,
          90,
          86,
          86,
          95,
          99,
          103,
          108,
          114,
          135,
          107,
          135,
          120,
          127,
          125,
          113,
          103,
          94,
          89,
          56,
          83,
          190,
          60,
          97,
          130,
          158,
          118,
          30,
          99,
          110,
          110,
          102,
          97,
          86,
          93,
          90,
          87,
          85,
          116,
          131,
          117,
          134,
          97,
          104,
          118,
          null,
          117,
          117,
          144,
          91,
          92,
          92,
          123,
          105,
          86,
          140,
          103,
          127,
          96,
          103,
          53,
          97,
          94,
          94,
          101,
          84,
          85,
          108,
          103,
          115,
          95,
          96,
          70,
          450,
          103,
          90,
          95,
          95,
          112,
          106,
          113,
          116,
          110,
          118,
          101,
          124,
          121,
          132,
          104,
          99,
          120,
          null,
          89,
          129,
          122,
          100,
          114,
          113,
          97,
          null,
          130,
          96,
          87,
          85,
          83,
          94,
          95,
          118,
          98,
          92,
          null,
          null,
          103,
          92,
          85,
          74,
          92,
          109,
          90,
          96,
          110,
          91,
          100,
          112,
          84,
          108,
          97,
          96,
          125,
          74,
          71,
          76,
          105,
          116,
          86,
          120,
          120,
          124,
          93,
          120,
          111,
          89,
          122,
          102,
          108,
          134,
          109,
          100,
          102,
          120,
          117,
          134,
          95,
          51,
          null,
          180,
          null,
          66,
          120,
          126,
          115,
          133,
          76,
          99,
          136,
          108,
          105,
          125,
          186,
          null,
          99,
          100,
          82,
          93,
          null,
          107,
          117,
          126,
          111,
          89,
          298,
          89,
          99,
          88,
          93,
          96,
          87,
          96,
          110,
          93,
          104,
          94,
          100,
          112,
          109,
          109,
          112,
          103,
          102,
          106,
          100,
          102,
          109,
          110,
          115,
          95,
          78,
          132,
          98,
          87,
          81,
          110,
          98,
          105,
          130,
          85,
          90,
          95,
          84,
          170,
          123,
          106,
          109,
          121,
          95,
          134,
          132,
          108,
          153,
          107,
          109,
          101,
          116,
          145,
          115,
          113,
          112,
          113,
          95,
          114,
          112,
          163,
          99,
          87,
          120,
          90,
          83,
          265,
          88,
          95,
          99,
          102,
          94,
          56,
          148,
          90,
          105,
          80,
          104,
          89,
          94,
          114,
          110,
          136,
          106,
          127,
          112,
          121,
          102,
          65,
          108,
          93,
          129,
          97,
          120,
          89,
          103,
          129,
          89,
          100,
          108,
          90,
          132,
          60,
          59,
          83,
          90,
          86,
          131,
          100,
          99,
          117,
          102,
          100,
          103,
          97,
          91,
          108,
          89,
          67,
          103,
          97,
          145,
          120,
          94,
          96,
          195,
          105,
          136,
          175,
          201,
          109,
          86,
          82,
          88,
          130,
          117,
          143,
          124,
          98,
          116,
          103,
          113,
          69,
          101,
          129,
          113,
          79,
          62,
          145,
          90,
          90,
          96,
          107,
          101,
          null,
          150,
          96,
          95,
          104,
          90,
          90,
          102,
          106,
          54,
          98,
          98,
          127,
          119,
          88,
          86,
          90,
          110,
          114,
          89,
          94,
          80,
          98,
          119,
          116,
          101,
          118,
          84,
          109,
          94,
          91,
          94,
          93,
          115,
          127,
          128,
          121,
          58,
          109,
          137,
          100,
          109,
          112,
          95,
          122,
          93,
          84,
          128,
          116,
          132,
          90,
          116,
          109,
          105,
          96,
          95,
          88,
          68,
          95,
          132,
          101,
          114,
          60,
          94,
          101,
          100,
          107,
          118,
          109,
          111,
          188,
          172,
          114,
          92,
          null,
          91,
          105,
          112,
          145,
          null,
          130,
          116,
          141,
          94,
          98,
          85,
          118,
          64,
          125,
          102,
          150,
          101,
          107,
          95,
          129,
          132,
          99,
          null,
          101,
          105,
          84,
          85,
          100,
          118,
          60,
          40,
          60,
          50,
          5,
          16,
          83,
          103,
          120,
          124,
          85,
          94,
          110,
          104,
          81,
          92,
          130,
          130,
          110,
          113,
          86,
          144,
          101,
          119,
          119,
          null,
          88,
          86,
          100,
          89,
          92,
          110,
          95,
          81,
          181,
          130,
          120,
          130,
          109,
          98,
          110,
          109,
          101,
          102,
          109,
          112,
          111,
          109,
          98,
          106,
          199,
          105,
          91,
          89,
          120,
          103,
          98,
          117,
          206,
          97,
          87,
          118,
          194,
          127,
          123,
          102,
          90,
          103,
          128,
          97,
          97,
          137,
          89,
          100,
          240,
          112,
          61,
          95,
          null,
          94,
          109,
          94,
          110,
          102,
          127,
          113,
          107,
          89,
          99,
          117,
          99,
          100,
          null,
          90,
          94,
          86,
          91,
          111,
          85,
          102,
          105,
          100,
          60,
          112,
          111,
          83,
          124,
          88,
          91,
          108,
          83,
          57,
          109,
          110,
          107,
          85,
          87,
          103,
          90,
          93,
          112,
          128,
          91,
          93,
          57,
          57,
          56,
          137,
          105,
          107,
          94,
          110,
          153,
          72,
          90,
          101,
          79,
          129,
          126,
          104,
          98,
          92,
          108,
          116,
          127,
          139,
          114,
          117,
          95,
          90,
          128,
          94,
          95,
          95,
          112,
          102,
          100,
          89,
          88,
          122,
          94,
          180,
          107,
          115,
          104,
          121,
          114,
          115,
          124,
          116,
          74,
          108,
          106,
          360,
          78,
          93,
          89,
          119,
          121,
          88,
          94,
          96,
          95,
          123,
          105,
          108,
          108,
          98,
          90,
          106,
          107,
          94,
          94,
          87,
          null,
          100,
          93,
          119,
          97,
          103,
          122,
          100,
          104,
          84,
          90,
          84,
          60,
          100,
          111,
          90,
          97,
          104,
          135,
          104,
          88,
          153,
          102,
          135,
          96,
          90,
          60,
          98,
          93,
          119,
          111,
          142,
          56,
          53,
          106,
          111,
          96,
          101,
          198,
          87,
          92,
          110,
          121,
          92,
          120,
          110,
          90,
          81,
          128,
          92,
          138,
          98,
          167,
          89,
          98,
          96,
          109,
          91,
          110,
          109,
          81,
          120,
          97,
          102,
          135,
          98,
          99,
          135,
          127,
          213,
          128,
          96,
          90,
          105,
          100,
          105,
          107,
          102,
          103,
          89,
          110,
          97,
          105,
          360,
          96,
          90,
          90,
          80,
          83,
          null,
          118,
          127,
          155,
          95,
          102,
          90,
          null,
          100,
          83,
          123,
          82,
          118,
          93,
          115,
          90,
          103,
          77,
          105,
          56,
          110,
          185,
          150,
          95,
          116,
          93,
          99,
          93,
          110,
          128,
          101,
          120,
          103,
          97,
          116,
          88,
          90,
          88,
          101,
          88,
          122,
          99,
          97,
          null,
          72,
          95,
          117,
          96,
          103,
          111,
          114,
          123,
          113,
          115,
          104,
          85,
          135,
          null,
          null,
          112,
          183,
          106,
          108,
          131,
          151,
          161,
          127,
          124,
          122,
          99,
          103,
          28,
          129,
          100,
          134,
          151,
          97,
          140,
          null,
          117,
          102,
          78,
          99,
          111,
          105,
          173,
          101,
          109,
          110,
          109,
          243,
          null,
          130,
          110,
          201,
          94,
          90,
          76,
          108,
          60,
          null,
          99,
          117,
          125,
          83,
          null,
          101,
          95,
          234,
          60,
          97,
          127,
          100,
          91,
          85,
          91,
          93,
          87,
          116,
          80,
          95,
          100,
          154,
          99,
          88,
          110,
          109,
          221,
          94,
          80,
          95,
          103,
          84,
          130,
          90,
          101,
          106,
          106,
          121,
          117,
          98,
          90,
          91,
          139,
          81,
          null,
          88,
          101,
          96,
          147,
          158,
          95,
          88,
          null,
          88,
          97,
          102,
          88,
          127,
          89,
          85,
          114,
          121,
          109,
          104,
          96,
          137,
          115,
          109,
          117,
          97,
          96,
          96,
          82,
          92,
          101,
          107,
          120,
          110,
          90,
          106,
          119,
          87,
          null,
          161,
          60,
          88,
          126,
          92,
          106,
          91,
          107,
          108,
          97,
          93,
          114,
          112,
          96,
          111,
          91,
          83,
          102,
          90,
          139,
          125,
          101,
          116,
          90,
          106,
          109,
          90,
          100,
          96,
          102,
          94,
          160,
          119,
          105,
          111,
          153,
          110,
          95,
          104,
          134,
          117,
          102,
          98,
          135,
          null,
          144,
          108,
          85,
          110,
          103,
          93,
          90,
          103,
          75,
          87,
          92,
          94,
          91,
          146,
          119,
          30,
          100,
          103,
          183,
          128,
          92,
          85,
          138,
          118,
          102,
          164,
          100,
          90,
          91,
          105,
          113,
          141,
          61,
          94,
          87,
          114,
          87,
          95,
          90,
          153,
          94,
          81,
          86,
          87,
          97,
          87,
          87,
          119,
          91,
          90,
          94,
          130,
          89,
          94,
          136,
          91,
          null,
          107,
          86,
          135,
          125,
          59,
          60,
          60,
          60,
          59,
          60,
          59,
          73,
          112,
          104,
          114,
          113,
          69,
          77,
          83,
          111,
          150,
          84,
          92,
          122,
          76,
          82,
          93,
          95,
          88,
          126,
          95,
          123,
          80,
          95,
          124,
          81,
          129,
          117,
          146,
          109,
          96,
          82,
          107,
          141,
          85,
          94,
          107,
          121,
          82,
          112,
          133,
          90,
          71,
          106,
          121,
          138,
          117,
          82,
          97,
          110,
          152,
          166,
          83,
          96,
          200,
          110,
          110,
          161,
          134,
          90,
          90,
          139,
          106,
          137,
          90,
          130,
          120,
          95,
          129,
          30,
          55,
          130,
          139,
          93,
          109,
          120,
          94,
          161,
          105,
          92,
          83,
          85,
          100,
          75,
          90,
          87,
          97,
          88,
          92,
          89,
          89,
          90,
          85,
          99,
          111,
          135,
          123,
          91,
          101,
          87,
          92,
          90,
          118,
          93,
          90,
          115,
          117,
          90,
          94,
          60,
          92,
          97,
          null,
          94,
          116,
          139,
          73,
          144,
          92,
          null,
          100,
          112,
          116,
          112,
          122,
          86,
          108,
          86,
          140,
          102,
          92,
          123,
          92,
          102,
          96,
          60,
          98,
          96,
          103,
          128,
          95,
          170,
          123,
          131,
          112,
          86,
          null,
          60,
          55,
          55,
          92,
          109,
          112,
          88,
          132,
          126,
          90,
          193,
          123,
          120,
          89,
          100,
          88,
          104,
          96,
          59,
          150,
          61,
          56,
          60,
          54,
          58,
          53,
          66,
          53,
          60,
          60,
          59,
          102,
          73,
          79,
          136,
          164,
          91,
          109,
          128,
          93,
          119,
          176,
          98,
          111,
          97,
          57,
          182,
          null,
          60,
          60,
          59,
          58,
          null,
          101,
          127,
          null,
          108,
          60,
          60,
          52,
          255,
          90,
          15,
          null,
          null,
          92,
          163,
          60,
          118,
          95,
          165,
          null,
          88,
          119,
          102,
          null,
          116,
          60,
          null,
          105,
          72,
          null,
          208,
          85,
          120,
          128,
          45,
          112,
          105,
          83,
          166,
          133,
          49,
          92,
          50,
          52,
          90,
          98,
          60,
          60,
          null,
          101,
          null,
          91,
          98,
          null,
          99,
          91,
          121,
          102,
          null,
          136,
          null,
          null,
          61,
          60,
          60,
          null,
          96,
          80,
          91,
          27,
          75,
          95,
          101,
          101,
          91,
          121,
          84,
          65,
          92,
          90,
          90,
          253,
          null,
          87,
          105,
          93,
          108,
          101,
          92,
          60,
          56,
          null,
          55,
          54,
          null,
          210,
          165,
          null,
          null,
          null,
          112,
          110,
          110,
          null,
          null,
          56,
          59,
          52,
          56,
          54,
          112,
          null,
          54,
          53,
          58,
          134,
          52,
          null,
          226,
          103,
          78,
          75,
          65
         ],
         "xaxis": "x",
         "yaxis": "y"
        }
       ],
       "layout": {
        "autosize": true,
        "barmode": "relative",
        "legend": {
         "tracegroupgap": 0
        },
        "margin": {
         "t": 60
        },
        "template": {
         "data": {
          "bar": [
           {
            "error_x": {
             "color": "#2a3f5f"
            },
            "error_y": {
             "color": "#2a3f5f"
            },
            "marker": {
             "line": {
              "color": "#E5ECF6",
              "width": 0.5
             }
            },
            "type": "bar"
           }
          ],
          "barpolar": [
           {
            "marker": {
             "line": {
              "color": "#E5ECF6",
              "width": 0.5
             }
            },
            "type": "barpolar"
           }
          ],
          "carpet": [
           {
            "aaxis": {
             "endlinecolor": "#2a3f5f",
             "gridcolor": "white",
             "linecolor": "white",
             "minorgridcolor": "white",
             "startlinecolor": "#2a3f5f"
            },
            "baxis": {
             "endlinecolor": "#2a3f5f",
             "gridcolor": "white",
             "linecolor": "white",
             "minorgridcolor": "white",
             "startlinecolor": "#2a3f5f"
            },
            "type": "carpet"
           }
          ],
          "choropleth": [
           {
            "colorbar": {
             "outlinewidth": 0,
             "ticks": ""
            },
            "type": "choropleth"
           }
          ],
          "contour": [
           {
            "colorbar": {
             "outlinewidth": 0,
             "ticks": ""
            },
            "colorscale": [
             [
              0,
              "#0d0887"
             ],
             [
              0.1111111111111111,
              "#46039f"
             ],
             [
              0.2222222222222222,
              "#7201a8"
             ],
             [
              0.3333333333333333,
              "#9c179e"
             ],
             [
              0.4444444444444444,
              "#bd3786"
             ],
             [
              0.5555555555555556,
              "#d8576b"
             ],
             [
              0.6666666666666666,
              "#ed7953"
             ],
             [
              0.7777777777777778,
              "#fb9f3a"
             ],
             [
              0.8888888888888888,
              "#fdca26"
             ],
             [
              1,
              "#f0f921"
             ]
            ],
            "type": "contour"
           }
          ],
          "contourcarpet": [
           {
            "colorbar": {
             "outlinewidth": 0,
             "ticks": ""
            },
            "type": "contourcarpet"
           }
          ],
          "heatmap": [
           {
            "colorbar": {
             "outlinewidth": 0,
             "ticks": ""
            },
            "colorscale": [
             [
              0,
              "#0d0887"
             ],
             [
              0.1111111111111111,
              "#46039f"
             ],
             [
              0.2222222222222222,
              "#7201a8"
             ],
             [
              0.3333333333333333,
              "#9c179e"
             ],
             [
              0.4444444444444444,
              "#bd3786"
             ],
             [
              0.5555555555555556,
              "#d8576b"
             ],
             [
              0.6666666666666666,
              "#ed7953"
             ],
             [
              0.7777777777777778,
              "#fb9f3a"
             ],
             [
              0.8888888888888888,
              "#fdca26"
             ],
             [
              1,
              "#f0f921"
             ]
            ],
            "type": "heatmap"
           }
          ],
          "heatmapgl": [
           {
            "colorbar": {
             "outlinewidth": 0,
             "ticks": ""
            },
            "colorscale": [
             [
              0,
              "#0d0887"
             ],
             [
              0.1111111111111111,
              "#46039f"
             ],
             [
              0.2222222222222222,
              "#7201a8"
             ],
             [
              0.3333333333333333,
              "#9c179e"
             ],
             [
              0.4444444444444444,
              "#bd3786"
             ],
             [
              0.5555555555555556,
              "#d8576b"
             ],
             [
              0.6666666666666666,
              "#ed7953"
             ],
             [
              0.7777777777777778,
              "#fb9f3a"
             ],
             [
              0.8888888888888888,
              "#fdca26"
             ],
             [
              1,
              "#f0f921"
             ]
            ],
            "type": "heatmapgl"
           }
          ],
          "histogram": [
           {
            "marker": {
             "colorbar": {
              "outlinewidth": 0,
              "ticks": ""
             }
            },
            "type": "histogram"
           }
          ],
          "histogram2d": [
           {
            "colorbar": {
             "outlinewidth": 0,
             "ticks": ""
            },
            "colorscale": [
             [
              0,
              "#0d0887"
             ],
             [
              0.1111111111111111,
              "#46039f"
             ],
             [
              0.2222222222222222,
              "#7201a8"
             ],
             [
              0.3333333333333333,
              "#9c179e"
             ],
             [
              0.4444444444444444,
              "#bd3786"
             ],
             [
              0.5555555555555556,
              "#d8576b"
             ],
             [
              0.6666666666666666,
              "#ed7953"
             ],
             [
              0.7777777777777778,
              "#fb9f3a"
             ],
             [
              0.8888888888888888,
              "#fdca26"
             ],
             [
              1,
              "#f0f921"
             ]
            ],
            "type": "histogram2d"
           }
          ],
          "histogram2dcontour": [
           {
            "colorbar": {
             "outlinewidth": 0,
             "ticks": ""
            },
            "colorscale": [
             [
              0,
              "#0d0887"
             ],
             [
              0.1111111111111111,
              "#46039f"
             ],
             [
              0.2222222222222222,
              "#7201a8"
             ],
             [
              0.3333333333333333,
              "#9c179e"
             ],
             [
              0.4444444444444444,
              "#bd3786"
             ],
             [
              0.5555555555555556,
              "#d8576b"
             ],
             [
              0.6666666666666666,
              "#ed7953"
             ],
             [
              0.7777777777777778,
              "#fb9f3a"
             ],
             [
              0.8888888888888888,
              "#fdca26"
             ],
             [
              1,
              "#f0f921"
             ]
            ],
            "type": "histogram2dcontour"
           }
          ],
          "mesh3d": [
           {
            "colorbar": {
             "outlinewidth": 0,
             "ticks": ""
            },
            "type": "mesh3d"
           }
          ],
          "parcoords": [
           {
            "line": {
             "colorbar": {
              "outlinewidth": 0,
              "ticks": ""
             }
            },
            "type": "parcoords"
           }
          ],
          "pie": [
           {
            "automargin": true,
            "type": "pie"
           }
          ],
          "scatter": [
           {
            "marker": {
             "colorbar": {
              "outlinewidth": 0,
              "ticks": ""
             }
            },
            "type": "scatter"
           }
          ],
          "scatter3d": [
           {
            "line": {
             "colorbar": {
              "outlinewidth": 0,
              "ticks": ""
             }
            },
            "marker": {
             "colorbar": {
              "outlinewidth": 0,
              "ticks": ""
             }
            },
            "type": "scatter3d"
           }
          ],
          "scattercarpet": [
           {
            "marker": {
             "colorbar": {
              "outlinewidth": 0,
              "ticks": ""
             }
            },
            "type": "scattercarpet"
           }
          ],
          "scattergeo": [
           {
            "marker": {
             "colorbar": {
              "outlinewidth": 0,
              "ticks": ""
             }
            },
            "type": "scattergeo"
           }
          ],
          "scattergl": [
           {
            "marker": {
             "colorbar": {
              "outlinewidth": 0,
              "ticks": ""
             }
            },
            "type": "scattergl"
           }
          ],
          "scattermapbox": [
           {
            "marker": {
             "colorbar": {
              "outlinewidth": 0,
              "ticks": ""
             }
            },
            "type": "scattermapbox"
           }
          ],
          "scatterpolar": [
           {
            "marker": {
             "colorbar": {
              "outlinewidth": 0,
              "ticks": ""
             }
            },
            "type": "scatterpolar"
           }
          ],
          "scatterpolargl": [
           {
            "marker": {
             "colorbar": {
              "outlinewidth": 0,
              "ticks": ""
             }
            },
            "type": "scatterpolargl"
           }
          ],
          "scatterternary": [
           {
            "marker": {
             "colorbar": {
              "outlinewidth": 0,
              "ticks": ""
             }
            },
            "type": "scatterternary"
           }
          ],
          "surface": [
           {
            "colorbar": {
             "outlinewidth": 0,
             "ticks": ""
            },
            "colorscale": [
             [
              0,
              "#0d0887"
             ],
             [
              0.1111111111111111,
              "#46039f"
             ],
             [
              0.2222222222222222,
              "#7201a8"
             ],
             [
              0.3333333333333333,
              "#9c179e"
             ],
             [
              0.4444444444444444,
              "#bd3786"
             ],
             [
              0.5555555555555556,
              "#d8576b"
             ],
             [
              0.6666666666666666,
              "#ed7953"
             ],
             [
              0.7777777777777778,
              "#fb9f3a"
             ],
             [
              0.8888888888888888,
              "#fdca26"
             ],
             [
              1,
              "#f0f921"
             ]
            ],
            "type": "surface"
           }
          ],
          "table": [
           {
            "cells": {
             "fill": {
              "color": "#EBF0F8"
             },
             "line": {
              "color": "white"
             }
            },
            "header": {
             "fill": {
              "color": "#C8D4E3"
             },
             "line": {
              "color": "white"
             }
            },
            "type": "table"
           }
          ]
         },
         "layout": {
          "annotationdefaults": {
           "arrowcolor": "#2a3f5f",
           "arrowhead": 0,
           "arrowwidth": 1
          },
          "autotypenumbers": "strict",
          "coloraxis": {
           "colorbar": {
            "outlinewidth": 0,
            "ticks": ""
           }
          },
          "colorscale": {
           "diverging": [
            [
             0,
             "#8e0152"
            ],
            [
             0.1,
             "#c51b7d"
            ],
            [
             0.2,
             "#de77ae"
            ],
            [
             0.3,
             "#f1b6da"
            ],
            [
             0.4,
             "#fde0ef"
            ],
            [
             0.5,
             "#f7f7f7"
            ],
            [
             0.6,
             "#e6f5d0"
            ],
            [
             0.7,
             "#b8e186"
            ],
            [
             0.8,
             "#7fbc41"
            ],
            [
             0.9,
             "#4d9221"
            ],
            [
             1,
             "#276419"
            ]
           ],
           "sequential": [
            [
             0,
             "#0d0887"
            ],
            [
             0.1111111111111111,
             "#46039f"
            ],
            [
             0.2222222222222222,
             "#7201a8"
            ],
            [
             0.3333333333333333,
             "#9c179e"
            ],
            [
             0.4444444444444444,
             "#bd3786"
            ],
            [
             0.5555555555555556,
             "#d8576b"
            ],
            [
             0.6666666666666666,
             "#ed7953"
            ],
            [
             0.7777777777777778,
             "#fb9f3a"
            ],
            [
             0.8888888888888888,
             "#fdca26"
            ],
            [
             1,
             "#f0f921"
            ]
           ],
           "sequentialminus": [
            [
             0,
             "#0d0887"
            ],
            [
             0.1111111111111111,
             "#46039f"
            ],
            [
             0.2222222222222222,
             "#7201a8"
            ],
            [
             0.3333333333333333,
             "#9c179e"
            ],
            [
             0.4444444444444444,
             "#bd3786"
            ],
            [
             0.5555555555555556,
             "#d8576b"
            ],
            [
             0.6666666666666666,
             "#ed7953"
            ],
            [
             0.7777777777777778,
             "#fb9f3a"
            ],
            [
             0.8888888888888888,
             "#fdca26"
            ],
            [
             1,
             "#f0f921"
            ]
           ]
          },
          "colorway": [
           "#636efa",
           "#EF553B",
           "#00cc96",
           "#ab63fa",
           "#FFA15A",
           "#19d3f3",
           "#FF6692",
           "#B6E880",
           "#FF97FF",
           "#FECB52"
          ],
          "font": {
           "color": "#2a3f5f"
          },
          "geo": {
           "bgcolor": "white",
           "lakecolor": "white",
           "landcolor": "#E5ECF6",
           "showlakes": true,
           "showland": true,
           "subunitcolor": "white"
          },
          "hoverlabel": {
           "align": "left"
          },
          "hovermode": "closest",
          "mapbox": {
           "style": "light"
          },
          "paper_bgcolor": "white",
          "plot_bgcolor": "#E5ECF6",
          "polar": {
           "angularaxis": {
            "gridcolor": "white",
            "linecolor": "white",
            "ticks": ""
           },
           "bgcolor": "#E5ECF6",
           "radialaxis": {
            "gridcolor": "white",
            "linecolor": "white",
            "ticks": ""
           }
          },
          "scene": {
           "xaxis": {
            "backgroundcolor": "#E5ECF6",
            "gridcolor": "white",
            "gridwidth": 2,
            "linecolor": "white",
            "showbackground": true,
            "ticks": "",
            "zerolinecolor": "white"
           },
           "yaxis": {
            "backgroundcolor": "#E5ECF6",
            "gridcolor": "white",
            "gridwidth": 2,
            "linecolor": "white",
            "showbackground": true,
            "ticks": "",
            "zerolinecolor": "white"
           },
           "zaxis": {
            "backgroundcolor": "#E5ECF6",
            "gridcolor": "white",
            "gridwidth": 2,
            "linecolor": "white",
            "showbackground": true,
            "ticks": "",
            "zerolinecolor": "white"
           }
          },
          "shapedefaults": {
           "line": {
            "color": "#2a3f5f"
           }
          },
          "ternary": {
           "aaxis": {
            "gridcolor": "white",
            "linecolor": "white",
            "ticks": ""
           },
           "baxis": {
            "gridcolor": "white",
            "linecolor": "white",
            "ticks": ""
           },
           "bgcolor": "#E5ECF6",
           "caxis": {
            "gridcolor": "white",
            "linecolor": "white",
            "ticks": ""
           }
          },
          "title": {
           "x": 0.05
          },
          "xaxis": {
           "automargin": true,
           "gridcolor": "white",
           "linecolor": "white",
           "ticks": "",
           "title": {
            "standoff": 15
           },
           "zerolinecolor": "white",
           "zerolinewidth": 2
          },
          "yaxis": {
           "automargin": true,
           "gridcolor": "white",
           "linecolor": "white",
           "ticks": "",
           "title": {
            "standoff": 15
           },
           "zerolinecolor": "white",
           "zerolinewidth": 2
          }
         }
        },
        "xaxis": {
         "anchor": "y",
         "autorange": true,
         "domain": [
          0,
          1
         ],
         "range": [
          4.5,
          454.5
         ],
         "title": {
          "text": "Length"
         },
         "type": "linear"
        },
        "yaxis": {
         "anchor": "x",
         "autorange": true,
         "domain": [
          0,
          1
         ],
         "range": [
          0,
          222.10526315789474
         ],
         "title": {
          "text": "count"
         }
        }
       }
      },
      "image/png": "[encoded data removed]",
      "text/html": [
       "<div>                            <div id=\"4e95fe72-0992-490b-95e5-6dc65656f91c\" class=\"plotly-graph-div\" style=\"height:525px; width:100%;\"></div>            <script type=\"text/javascript\">                require([\"plotly\"], function(Plotly) {                    window.PLOTLYENV=window.PLOTLYENV || {};                                    if (document.getElementById(\"4e95fe72-0992-490b-95e5-6dc65656f91c\")) {                    Plotly.newPlot(                        \"4e95fe72-0992-490b-95e5-6dc65656f91c\",                        [{\"alignmentgroup\": \"True\", \"bingroup\": \"x\", \"hovertemplate\": \"Length=%{x}<br>count=%{y}<extra></extra>\", \"legendgroup\": \"\", \"marker\": {\"color\": \"#636efa\"}, \"name\": \"\", \"offsetgroup\": \"\", \"orientation\": \"v\", \"showlegend\": false, \"type\": \"histogram\", \"x\": [111.0, 113.0, 104.0, 122.0, 94.0, 140.0, 101.0, 99.0, 104.0, 149.0, 188.0, 117.0, 103.0, 112.0, 103.0, 112.0, 150.0, 84.0, 109.0, 110.0, 101.0, 116.0, 101.0, 105.0, 127.0, 97.0, 108.0, null, 88.0, 110.0, 90.0, 91.0, 96.0, 90.0, 86.0, 95.0, 91.0, 91.0, 104.0, 130.0, null, 103.0, 121.0, 118.0, 190.0, 125.0, 107.0, 172.0, 55.0, 140.0, 104.0, 106.0, 286.0, 108.0, 95.0, 120.0, 117.0, 106.0, 97.0, 115.0, 110.0, 90.0, 118.0, 115.0, 108.0, 97.0, 104.0, 102.0, 91.0, 126.0, 102.0, 118.0, 141.0, 66.0, 103.0, 128.0, 115.0, 136.0, 100.0, 89.0, 103.0, 96.0, 100.0, 124.0, 90.0, 120.0, 100.0, 101.0, 99.0, 86.0, 77.0, 90.0, 100.0, 113.0, 102.0, 100.0, 134.0, 99.0, 90.0, 90.0, 100.0, 90.0, 87.0, 97.0, 92.0, 104.0, 115.0, 101.0, 83.0, 126.0, 95.0, 101.0, 125.0, 134.0, 117.0, null, 108.0, 116.0, 123.0, 93.0, 95.0, 101.0, 96.0, 103.0, 96.0, 127.0, 123.0, 100.0, 102.0, null, 105.0, 99.0, 103.0, 76.0, 55.0, 188.0, 120.0, 96.0, 126.0, 90.0, 75.0, 97.0, 114.0, 100.0, 75.0, 100.0, 195.0, 98.0, 117.0, 101.0, 90.0, 120.0, 106.0, 126.0, 91.0, 104.0, 90.0, 87.0, 74.0, 98.0, 110.0, 83.0, 81.0, 107.0, 103.0, 105.0, 90.0, 91.0, 128.0, 91.0, 94.0, 108.0, 60.0, 158.0, 101.0, 172.0, 124.0, 137.0, 116.0, 107.0, 116.0, 94.0, 98.0, 144.0, 112.0, 117.0, 61.0, 88.0, 103.0, 105.0, 123.0, 102.0, 98.0, 105.0, 60.0, 89.0, 65.0, 101.0, 129.0, 139.0, 106.0, null, 119.0, 121.0, 129.0, 96.0, 101.0, 135.0, 110.0, 91.0, 123.0, 104.0, 120.0, 114.0, 117.0, 90.0, 122.0, 112.0, 94.0, 109.0, 40.0, 114.0, 102.0, 98.0, 50.0, 80.0, 91.0, 94.0, 99.0, 125.0, 138.0, 64.0, 103.0, 175.0, 313.0, 104.0, 104.0, 84.0, 71.0, 71.0, 119.0, 107.0, 92.0, null, 91.0, null, 90.0, 26.0, 99.0, 99.0, 113.0, 103.0, 119.0, 128.0, 106.0, 88.0, 90.0, 109.0, 111.0, 122.0, 120.0, 68.0, 110.0, 111.0, 103.0, 91.0, 118.0, 91.0, 119.0, 111.0, 119.0, 105.0, 101.0, 81.0, 91.0, 108.0, 135.0, 99.0, 88.0, 96.0, 66.0, 110.0, 110.0, 90.0, 95.0, 103.0, 60.0, 123.0, 109.0, 108.0, 96.0, 82.0, 120.0, 122.0, 97.0, 124.0, 106.0, 90.0, 94.0, 74.0, 128.0, 18.0, 103.0, 133.0, 110.0, 96.0, 138.0, 96.0, 89.0, 93.0, 104.0, 120.0, 90.0, 120.0, 115.0, 120.0, 89.0, 85.0, 120.0, 93.0, 90.0, 86.0, 86.0, 95.0, 99.0, 103.0, 108.0, 114.0, 135.0, 107.0, 135.0, 120.0, 127.0, 125.0, 113.0, 103.0, 94.0, 89.0, 56.0, 83.0, 190.0, 60.0, 97.0, 130.0, 158.0, 118.0, 30.0, 99.0, 110.0, 110.0, 102.0, 97.0, 86.0, 93.0, 90.0, 87.0, 85.0, 116.0, 131.0, 117.0, 134.0, 97.0, 104.0, 118.0, null, 117.0, 117.0, 144.0, 91.0, 92.0, 92.0, 123.0, 105.0, 86.0, 140.0, 103.0, 127.0, 96.0, 103.0, 53.0, 97.0, 94.0, 94.0, 101.0, 84.0, 85.0, 108.0, 103.0, 115.0, 95.0, 96.0, 70.0, 450.0, 103.0, 90.0, 95.0, 95.0, 112.0, 106.0, 113.0, 116.0, 110.0, 118.0, 101.0, 124.0, 121.0, 132.0, 104.0, 99.0, 120.0, null, 89.0, 129.0, 122.0, 100.0, 114.0, 113.0, 97.0, null, 130.0, 96.0, 87.0, 85.0, 83.0, 94.0, 95.0, 118.0, 98.0, 92.0, null, null, 103.0, 92.0, 85.0, 74.0, 92.0, 109.0, 90.0, 96.0, 110.0, 91.0, 100.0, 112.0, 84.0, 108.0, 97.0, 96.0, 125.0, 74.0, 71.0, 76.0, 105.0, 116.0, 86.0, 120.0, 120.0, 124.0, 93.0, 120.0, 111.0, 89.0, 122.0, 102.0, 108.0, 134.0, 109.0, 100.0, 102.0, 120.0, 117.0, 134.0, 95.0, 51.0, null, 180.0, null, 66.0, 120.0, 126.0, 115.0, 133.0, 76.0, 99.0, 136.0, 108.0, 105.0, 125.0, 186.0, null, 99.0, 100.0, 82.0, 93.0, null, 107.0, 117.0, 126.0, 111.0, 89.0, 298.0, 89.0, 99.0, 88.0, 93.0, 96.0, 87.0, 96.0, 110.0, 93.0, 104.0, 94.0, 100.0, 112.0, 109.0, 109.0, 112.0, 103.0, 102.0, 106.0, 100.0, 102.0, 109.0, 110.0, 115.0, 95.0, 78.0, 132.0, 98.0, 87.0, 81.0, 110.0, 98.0, 105.0, 130.0, 85.0, 90.0, 95.0, 84.0, 170.0, 123.0, 106.0, 109.0, 121.0, 95.0, 134.0, 132.0, 108.0, 153.0, 107.0, 109.0, 101.0, 116.0, 145.0, 115.0, 113.0, 112.0, 113.0, 95.0, 114.0, 112.0, 163.0, 99.0, 87.0, 120.0, 90.0, 83.0, 265.0, 88.0, 95.0, 99.0, 102.0, 94.0, 56.0, 148.0, 90.0, 105.0, 80.0, 104.0, 89.0, 94.0, 114.0, 110.0, 136.0, 106.0, 127.0, 112.0, 121.0, 102.0, 65.0, 108.0, 93.0, 129.0, 97.0, 120.0, 89.0, 103.0, 129.0, 89.0, 100.0, 108.0, 90.0, 132.0, 60.0, 59.0, 83.0, 90.0, 86.0, 131.0, 100.0, 99.0, 117.0, 102.0, 100.0, 103.0, 97.0, 91.0, 108.0, 89.0, 67.0, 103.0, 97.0, 145.0, 120.0, 94.0, 96.0, 195.0, 105.0, 136.0, 175.0, 201.0, 109.0, 86.0, 82.0, 88.0, 130.0, 117.0, 143.0, 124.0, 98.0, 116.0, 103.0, 113.0, 69.0, 101.0, 129.0, 113.0, 79.0, 62.0, 145.0, 90.0, 90.0, 96.0, 107.0, 101.0, null, 150.0, 96.0, 95.0, 104.0, 90.0, 90.0, 102.0, 106.0, 54.0, 98.0, 98.0, 127.0, 119.0, 88.0, 86.0, 90.0, 110.0, 114.0, 89.0, 94.0, 80.0, 98.0, 119.0, 116.0, 101.0, 118.0, 84.0, 109.0, 94.0, 91.0, 94.0, 93.0, 115.0, 127.0, 128.0, 121.0, 58.0, 109.0, 137.0, 100.0, 109.0, 112.0, 95.0, 122.0, 93.0, 84.0, 128.0, 116.0, 132.0, 90.0, 116.0, 109.0, 105.0, 96.0, 95.0, 88.0, 68.0, 95.0, 132.0, 101.0, 114.0, 60.0, 94.0, 101.0, 100.0, 107.0, 118.0, 109.0, 111.0, 188.0, 172.0, 114.0, 92.0, null, 91.0, 105.0, 112.0, 145.0, null, 130.0, 116.0, 141.0, 94.0, 98.0, 85.0, 118.0, 64.0, 125.0, 102.0, 150.0, 101.0, 107.0, 95.0, 129.0, 132.0, 99.0, null, 101.0, 105.0, 84.0, 85.0, 100.0, 118.0, 60.0, 40.0, 60.0, 50.0, 5.0, 16.0, 83.0, 103.0, 120.0, 124.0, 85.0, 94.0, 110.0, 104.0, 81.0, 92.0, 130.0, 130.0, 110.0, 113.0, 86.0, 144.0, 101.0, 119.0, 119.0, null, 88.0, 86.0, 100.0, 89.0, 92.0, 110.0, 95.0, 81.0, 181.0, 130.0, 120.0, 130.0, 109.0, 98.0, 110.0, 109.0, 101.0, 102.0, 109.0, 112.0, 111.0, 109.0, 98.0, 106.0, 199.0, 105.0, 91.0, 89.0, 120.0, 103.0, 98.0, 117.0, 206.0, 97.0, 87.0, 118.0, 194.0, 127.0, 123.0, 102.0, 90.0, 103.0, 128.0, 97.0, 97.0, 137.0, 89.0, 100.0, 240.0, 112.0, 61.0, 95.0, null, 94.0, 109.0, 94.0, 110.0, 102.0, 127.0, 113.0, 107.0, 89.0, 99.0, 117.0, 99.0, 100.0, null, 90.0, 94.0, 86.0, 91.0, 111.0, 85.0, 102.0, 105.0, 100.0, 60.0, 112.0, 111.0, 83.0, 124.0, 88.0, 91.0, 108.0, 83.0, 57.0, 109.0, 110.0, 107.0, 85.0, 87.0, 103.0, 90.0, 93.0, 112.0, 128.0, 91.0, 93.0, 57.0, 57.0, 56.0, 137.0, 105.0, 107.0, 94.0, 110.0, 153.0, 72.0, 90.0, 101.0, 79.0, 129.0, 126.0, 104.0, 98.0, 92.0, 108.0, 116.0, 127.0, 139.0, 114.0, 117.0, 95.0, 90.0, 128.0, 94.0, 95.0, 95.0, 112.0, 102.0, 100.0, 89.0, 88.0, 122.0, 94.0, 180.0, 107.0, 115.0, 104.0, 121.0, 114.0, 115.0, 124.0, 116.0, 74.0, 108.0, 106.0, 360.0, 78.0, 93.0, 89.0, 119.0, 121.0, 88.0, 94.0, 96.0, 95.0, 123.0, 105.0, 108.0, 108.0, 98.0, 90.0, 106.0, 107.0, 94.0, 94.0, 87.0, null, 100.0, 93.0, 119.0, 97.0, 103.0, 122.0, 100.0, 104.0, 84.0, 90.0, 84.0, 60.0, 100.0, 111.0, 90.0, 97.0, 104.0, 135.0, 104.0, 88.0, 153.0, 102.0, 135.0, 96.0, 90.0, 60.0, 98.0, 93.0, 119.0, 111.0, 142.0, 56.0, 53.0, 106.0, 111.0, 96.0, 101.0, 198.0, 87.0, 92.0, 110.0, 121.0, 92.0, 120.0, 110.0, 90.0, 81.0, 128.0, 92.0, 138.0, 98.0, 167.0, 89.0, 98.0, 96.0, 109.0, 91.0, 110.0, 109.0, 81.0, 120.0, 97.0, 102.0, 135.0, 98.0, 99.0, 135.0, 127.0, 213.0, 128.0, 96.0, 90.0, 105.0, 100.0, 105.0, 107.0, 102.0, 103.0, 89.0, 110.0, 97.0, 105.0, 360.0, 96.0, 90.0, 90.0, 80.0, 83.0, null, 118.0, 127.0, 155.0, 95.0, 102.0, 90.0, null, 100.0, 83.0, 123.0, 82.0, 118.0, 93.0, 115.0, 90.0, 103.0, 77.0, 105.0, 56.0, 110.0, 185.0, 150.0, 95.0, 116.0, 93.0, 99.0, 93.0, 110.0, 128.0, 101.0, 120.0, 103.0, 97.0, 116.0, 88.0, 90.0, 88.0, 101.0, 88.0, 122.0, 99.0, 97.0, null, 72.0, 95.0, 117.0, 96.0, 103.0, 111.0, 114.0, 123.0, 113.0, 115.0, 104.0, 85.0, 135.0, null, null, 112.0, 183.0, 106.0, 108.0, 131.0, 151.0, 161.0, 127.0, 124.0, 122.0, 99.0, 103.0, 28.0, 129.0, 100.0, 134.0, 151.0, 97.0, 140.0, null, 117.0, 102.0, 78.0, 99.0, 111.0, 105.0, 173.0, 101.0, 109.0, 110.0, 109.0, 243.0, null, 130.0, 110.0, 201.0, 94.0, 90.0, 76.0, 108.0, 60.0, null, 99.0, 117.0, 125.0, 83.0, null, 101.0, 95.0, 234.0, 60.0, 97.0, 127.0, 100.0, 91.0, 85.0, 91.0, 93.0, 87.0, 116.0, 80.0, 95.0, 100.0, 154.0, 99.0, 88.0, 110.0, 109.0, 221.0, 94.0, 80.0, 95.0, 103.0, 84.0, 130.0, 90.0, 101.0, 106.0, 106.0, 121.0, 117.0, 98.0, 90.0, 91.0, 139.0, 81.0, null, 88.0, 101.0, 96.0, 147.0, 158.0, 95.0, 88.0, null, 88.0, 97.0, 102.0, 88.0, 127.0, 89.0, 85.0, 114.0, 121.0, 109.0, 104.0, 96.0, 137.0, 115.0, 109.0, 117.0, 97.0, 96.0, 96.0, 82.0, 92.0, 101.0, 107.0, 120.0, 110.0, 90.0, 106.0, 119.0, 87.0, null, 161.0, 60.0, 88.0, 126.0, 92.0, 106.0, 91.0, 107.0, 108.0, 97.0, 93.0, 114.0, 112.0, 96.0, 111.0, 91.0, 83.0, 102.0, 90.0, 139.0, 125.0, 101.0, 116.0, 90.0, 106.0, 109.0, 90.0, 100.0, 96.0, 102.0, 94.0, 160.0, 119.0, 105.0, 111.0, 153.0, 110.0, 95.0, 104.0, 134.0, 117.0, 102.0, 98.0, 135.0, null, 144.0, 108.0, 85.0, 110.0, 103.0, 93.0, 90.0, 103.0, 75.0, 87.0, 92.0, 94.0, 91.0, 146.0, 119.0, 30.0, 100.0, 103.0, 183.0, 128.0, 92.0, 85.0, 138.0, 118.0, 102.0, 164.0, 100.0, 90.0, 91.0, 105.0, 113.0, 141.0, 61.0, 94.0, 87.0, 114.0, 87.0, 95.0, 90.0, 153.0, 94.0, 81.0, 86.0, 87.0, 97.0, 87.0, 87.0, 119.0, 91.0, 90.0, 94.0, 130.0, 89.0, 94.0, 136.0, 91.0, null, 107.0, 86.0, 135.0, 125.0, 59.0, 60.0, 60.0, 60.0, 59.0, 60.0, 59.0, 73.0, 112.0, 104.0, 114.0, 113.0, 69.0, 77.0, 83.0, 111.0, 150.0, 84.0, 92.0, 122.0, 76.0, 82.0, 93.0, 95.0, 88.0, 126.0, 95.0, 123.0, 80.0, 95.0, 124.0, 81.0, 129.0, 117.0, 146.0, 109.0, 96.0, 82.0, 107.0, 141.0, 85.0, 94.0, 107.0, 121.0, 82.0, 112.0, 133.0, 90.0, 71.0, 106.0, 121.0, 138.0, 117.0, 82.0, 97.0, 110.0, 152.0, 166.0, 83.0, 96.0, 200.0, 110.0, 110.0, 161.0, 134.0, 90.0, 90.0, 139.0, 106.0, 137.0, 90.0, 130.0, 120.0, 95.0, 129.0, 30.0, 55.0, 130.0, 139.0, 93.0, 109.0, 120.0, 94.0, 161.0, 105.0, 92.0, 83.0, 85.0, 100.0, 75.0, 90.0, 87.0, 97.0, 88.0, 92.0, 89.0, 89.0, 90.0, 85.0, 99.0, 111.0, 135.0, 123.0, 91.0, 101.0, 87.0, 92.0, 90.0, 118.0, 93.0, 90.0, 115.0, 117.0, 90.0, 94.0, 60.0, 92.0, 97.0, null, 94.0, 116.0, 139.0, 73.0, 144.0, 92.0, null, 100.0, 112.0, 116.0, 112.0, 122.0, 86.0, 108.0, 86.0, 140.0, 102.0, 92.0, 123.0, 92.0, 102.0, 96.0, 60.0, 98.0, 96.0, 103.0, 128.0, 95.0, 170.0, 123.0, 131.0, 112.0, 86.0, null, 60.0, 55.0, 55.0, 92.0, 109.0, 112.0, 88.0, 132.0, 126.0, 90.0, 193.0, 123.0, 120.0, 89.0, 100.0, 88.0, 104.0, 96.0, 59.0, 150.0, 61.0, 56.0, 60.0, 54.0, 58.0, 53.0, 66.0, 53.0, 60.0, 60.0, 59.0, 102.0, 73.0, 79.0, 136.0, 164.0, 91.0, 109.0, 128.0, 93.0, 119.0, 176.0, 98.0, 111.0, 97.0, 57.0, 182.0, null, 60.0, 60.0, 59.0, 58.0, null, 101.0, 127.0, null, 108.0, 60.0, 60.0, 52.0, 255.0, 90.0, 15.0, null, null, 92.0, 163.0, 60.0, 118.0, 95.0, 165.0, null, 88.0, 119.0, 102.0, null, 116.0, 60.0, null, 105.0, 72.0, null, 208.0, 85.0, 120.0, 128.0, 45.0, 112.0, 105.0, 83.0, 166.0, 133.0, 49.0, 92.0, 50.0, 52.0, 90.0, 98.0, 60.0, 60.0, null, 101.0, null, 91.0, 98.0, null, 99.0, 91.0, 121.0, 102.0, null, 136.0, null, null, 61.0, 60.0, 60.0, null, 96.0, 80.0, 91.0, 27.0, 75.0, 95.0, 101.0, 101.0, 91.0, 121.0, 84.0, 65.0, 92.0, 90.0, 90.0, 253.0, null, 87.0, 105.0, 93.0, 108.0, 101.0, 92.0, 60.0, 56.0, null, 55.0, 54.0, null, 210.0, 165.0, null, null, null, 112.0, 110.0, 110.0, null, null, 56.0, 59.0, 52.0, 56.0, 54.0, 112.0, null, 54.0, 53.0, 58.0, 134.0, 52.0, null, 226.0, 103.0, 78.0, 75.0, 65.0], \"xaxis\": \"x\", \"yaxis\": \"y\"}],                        {\"barmode\": \"relative\", \"legend\": {\"tracegroupgap\": 0}, \"margin\": {\"t\": 60}, \"template\": {\"data\": {\"bar\": [{\"error_x\": {\"color\": \"#2a3f5f\"}, \"error_y\": {\"color\": \"#2a3f5f\"}, \"marker\": {\"line\": {\"color\": \"#E5ECF6\", \"width\": 0.5}}, \"type\": \"bar\"}], \"barpolar\": [{\"marker\": {\"line\": {\"color\": \"#E5ECF6\", \"width\": 0.5}}, \"type\": \"barpolar\"}], \"carpet\": [{\"aaxis\": {\"endlinecolor\": \"#2a3f5f\", \"gridcolor\": \"white\", \"linecolor\": \"white\", \"minorgridcolor\": \"white\", \"startlinecolor\": \"#2a3f5f\"}, \"baxis\": {\"endlinecolor\": \"#2a3f5f\", \"gridcolor\": \"white\", \"linecolor\": \"white\", \"minorgridcolor\": \"white\", \"startlinecolor\": \"#2a3f5f\"}, \"type\": \"carpet\"}], \"choropleth\": [{\"colorbar\": {\"outlinewidth\": 0, \"ticks\": \"\"}, \"type\": \"choropleth\"}], \"contour\": [{\"colorbar\": {\"outlinewidth\": 0, \"ticks\": \"\"}, \"colorscale\": [[0.0, \"#0d0887\"], [0.1111111111111111, \"#46039f\"], [0.2222222222222222, \"#7201a8\"], [0.3333333333333333, \"#9c179e\"], [0.4444444444444444, \"#bd3786\"], [0.5555555555555556, \"#d8576b\"], [0.6666666666666666, \"#ed7953\"], [0.7777777777777778, \"#fb9f3a\"], [0.8888888888888888, \"#fdca26\"], [1.0, \"#f0f921\"]], \"type\": \"contour\"}], \"contourcarpet\": [{\"colorbar\": {\"outlinewidth\": 0, \"ticks\": \"\"}, \"type\": \"contourcarpet\"}], \"heatmap\": [{\"colorbar\": {\"outlinewidth\": 0, \"ticks\": \"\"}, \"colorscale\": [[0.0, \"#0d0887\"], [0.1111111111111111, \"#46039f\"], [0.2222222222222222, \"#7201a8\"], [0.3333333333333333, \"#9c179e\"], [0.4444444444444444, \"#bd3786\"], [0.5555555555555556, \"#d8576b\"], [0.6666666666666666, \"#ed7953\"], [0.7777777777777778, \"#fb9f3a\"], [0.8888888888888888, \"#fdca26\"], [1.0, \"#f0f921\"]], \"type\": \"heatmap\"}], \"heatmapgl\": [{\"colorbar\": {\"outlinewidth\": 0, \"ticks\": \"\"}, \"colorscale\": [[0.0, \"#0d0887\"], [0.1111111111111111, \"#46039f\"], [0.2222222222222222, \"#7201a8\"], [0.3333333333333333, \"#9c179e\"], [0.4444444444444444, \"#bd3786\"], [0.5555555555555556, \"#d8576b\"], [0.6666666666666666, \"#ed7953\"], [0.7777777777777778, \"#fb9f3a\"], [0.8888888888888888, \"#fdca26\"], [1.0, \"#f0f921\"]], \"type\": \"heatmapgl\"}], \"histogram\": [{\"marker\": {\"colorbar\": {\"outlinewidth\": 0, \"ticks\": \"\"}}, \"type\": \"histogram\"}], \"histogram2d\": [{\"colorbar\": {\"outlinewidth\": 0, \"ticks\": \"\"}, \"colorscale\": [[0.0, \"#0d0887\"], [0.1111111111111111, \"#46039f\"], [0.2222222222222222, \"#7201a8\"], [0.3333333333333333, \"#9c179e\"], [0.4444444444444444, \"#bd3786\"], [0.5555555555555556, \"#d8576b\"], [0.6666666666666666, \"#ed7953\"], [0.7777777777777778, \"#fb9f3a\"], [0.8888888888888888, \"#fdca26\"], [1.0, \"#f0f921\"]], \"type\": \"histogram2d\"}], \"histogram2dcontour\": [{\"colorbar\": {\"outlinewidth\": 0, \"ticks\": \"\"}, \"colorscale\": [[0.0, \"#0d0887\"], [0.1111111111111111, \"#46039f\"], [0.2222222222222222, \"#7201a8\"], [0.3333333333333333, \"#9c179e\"], [0.4444444444444444, \"#bd3786\"], [0.5555555555555556, \"#d8576b\"], [0.6666666666666666, \"#ed7953\"], [0.7777777777777778, \"#fb9f3a\"], [0.8888888888888888, \"#fdca26\"], [1.0, \"#f0f921\"]], \"type\": \"histogram2dcontour\"}], \"mesh3d\": [{\"colorbar\": {\"outlinewidth\": 0, \"ticks\": \"\"}, \"type\": \"mesh3d\"}], \"parcoords\": [{\"line\": {\"colorbar\": {\"outlinewidth\": 0, \"ticks\": \"\"}}, \"type\": \"parcoords\"}], \"pie\": [{\"automargin\": true, \"type\": \"pie\"}], \"scatter\": [{\"marker\": {\"colorbar\": {\"outlinewidth\": 0, \"ticks\": \"\"}}, \"type\": \"scatter\"}], \"scatter3d\": [{\"line\": {\"colorbar\": {\"outlinewidth\": 0, \"ticks\": \"\"}}, \"marker\": {\"colorbar\": {\"outlinewidth\": 0, \"ticks\": \"\"}}, \"type\": \"scatter3d\"}], \"scattercarpet\": [{\"marker\": {\"colorbar\": {\"outlinewidth\": 0, \"ticks\": \"\"}}, \"type\": \"scattercarpet\"}], \"scattergeo\": [{\"marker\": {\"colorbar\": {\"outlinewidth\": 0, \"ticks\": \"\"}}, \"type\": \"scattergeo\"}], \"scattergl\": [{\"marker\": {\"colorbar\": {\"outlinewidth\": 0, \"ticks\": \"\"}}, \"type\": \"scattergl\"}], \"scattermapbox\": [{\"marker\": {\"colorbar\": {\"outlinewidth\": 0, \"ticks\": \"\"}}, \"type\": \"scattermapbox\"}], \"scatterpolar\": [{\"marker\": {\"colorbar\": {\"outlinewidth\": 0, \"ticks\": \"\"}}, \"type\": \"scatterpolar\"}], \"scatterpolargl\": [{\"marker\": {\"colorbar\": {\"outlinewidth\": 0, \"ticks\": \"\"}}, \"type\": \"scatterpolargl\"}], \"scatterternary\": [{\"marker\": {\"colorbar\": {\"outlinewidth\": 0, \"ticks\": \"\"}}, \"type\": \"scatterternary\"}], \"surface\": [{\"colorbar\": {\"outlinewidth\": 0, \"ticks\": \"\"}, \"colorscale\": [[0.0, \"#0d0887\"], [0.1111111111111111, \"#46039f\"], [0.2222222222222222, \"#7201a8\"], [0.3333333333333333, \"#9c179e\"], [0.4444444444444444, \"#bd3786\"], [0.5555555555555556, \"#d8576b\"], [0.6666666666666666, \"#ed7953\"], [0.7777777777777778, \"#fb9f3a\"], [0.8888888888888888, \"#fdca26\"], [1.0, \"#f0f921\"]], \"type\": \"surface\"}], \"table\": [{\"cells\": {\"fill\": {\"color\": \"#EBF0F8\"}, \"line\": {\"color\": \"white\"}}, \"header\": {\"fill\": {\"color\": \"#C8D4E3\"}, \"line\": {\"color\": \"white\"}}, \"type\": \"table\"}]}, \"layout\": {\"annotationdefaults\": {\"arrowcolor\": \"#2a3f5f\", \"arrowhead\": 0, \"arrowwidth\": 1}, \"autotypenumbers\": \"strict\", \"coloraxis\": {\"colorbar\": {\"outlinewidth\": 0, \"ticks\": \"\"}}, \"colorscale\": {\"diverging\": [[0, \"#8e0152\"], [0.1, \"#c51b7d\"], [0.2, \"#de77ae\"], [0.3, \"#f1b6da\"], [0.4, \"#fde0ef\"], [0.5, \"#f7f7f7\"], [0.6, \"#e6f5d0\"], [0.7, \"#b8e186\"], [0.8, \"#7fbc41\"], [0.9, \"#4d9221\"], [1, \"#276419\"]], \"sequential\": [[0.0, \"#0d0887\"], [0.1111111111111111, \"#46039f\"], [0.2222222222222222, \"#7201a8\"], [0.3333333333333333, \"#9c179e\"], [0.4444444444444444, \"#bd3786\"], [0.5555555555555556, \"#d8576b\"], [0.6666666666666666, \"#ed7953\"], [0.7777777777777778, \"#fb9f3a\"], [0.8888888888888888, \"#fdca26\"], [1.0, \"#f0f921\"]], \"sequentialminus\": [[0.0, \"#0d0887\"], [0.1111111111111111, \"#46039f\"], [0.2222222222222222, \"#7201a8\"], [0.3333333333333333, \"#9c179e\"], [0.4444444444444444, \"#bd3786\"], [0.5555555555555556, \"#d8576b\"], [0.6666666666666666, \"#ed7953\"], [0.7777777777777778, \"#fb9f3a\"], [0.8888888888888888, \"#fdca26\"], [1.0, \"#f0f921\"]]}, \"colorway\": [\"#636efa\", \"#EF553B\", \"#00cc96\", \"#ab63fa\", \"#FFA15A\", \"#19d3f3\", \"#FF6692\", \"#B6E880\", \"#FF97FF\", \"#FECB52\"], \"font\": {\"color\": \"#2a3f5f\"}, \"geo\": {\"bgcolor\": \"white\", \"lakecolor\": \"white\", \"landcolor\": \"#E5ECF6\", \"showlakes\": true, \"showland\": true, \"subunitcolor\": \"white\"}, \"hoverlabel\": {\"align\": \"left\"}, \"hovermode\": \"closest\", \"mapbox\": {\"style\": \"light\"}, \"paper_bgcolor\": \"white\", \"plot_bgcolor\": \"#E5ECF6\", \"polar\": {\"angularaxis\": {\"gridcolor\": \"white\", \"linecolor\": \"white\", \"ticks\": \"\"}, \"bgcolor\": \"#E5ECF6\", \"radialaxis\": {\"gridcolor\": \"white\", \"linecolor\": \"white\", \"ticks\": \"\"}}, \"scene\": {\"xaxis\": {\"backgroundcolor\": \"#E5ECF6\", \"gridcolor\": \"white\", \"gridwidth\": 2, \"linecolor\": \"white\", \"showbackground\": true, \"ticks\": \"\", \"zerolinecolor\": \"white\"}, \"yaxis\": {\"backgroundcolor\": \"#E5ECF6\", \"gridcolor\": \"white\", \"gridwidth\": 2, \"linecolor\": \"white\", \"showbackground\": true, \"ticks\": \"\", \"zerolinecolor\": \"white\"}, \"zaxis\": {\"backgroundcolor\": \"#E5ECF6\", \"gridcolor\": \"white\", \"gridwidth\": 2, \"linecolor\": \"white\", \"showbackground\": true, \"ticks\": \"\", \"zerolinecolor\": \"white\"}}, \"shapedefaults\": {\"line\": {\"color\": \"#2a3f5f\"}}, \"ternary\": {\"aaxis\": {\"gridcolor\": \"white\", \"linecolor\": \"white\", \"ticks\": \"\"}, \"baxis\": {\"gridcolor\": \"white\", \"linecolor\": \"white\", \"ticks\": \"\"}, \"bgcolor\": \"#E5ECF6\", \"caxis\": {\"gridcolor\": \"white\", \"linecolor\": \"white\", \"ticks\": \"\"}}, \"title\": {\"x\": 0.05}, \"xaxis\": {\"automargin\": true, \"gridcolor\": \"white\", \"linecolor\": \"white\", \"ticks\": \"\", \"title\": {\"standoff\": 15}, \"zerolinecolor\": \"white\", \"zerolinewidth\": 2}, \"yaxis\": {\"automargin\": true, \"gridcolor\": \"white\", \"linecolor\": \"white\", \"ticks\": \"\", \"title\": {\"standoff\": 15}, \"zerolinecolor\": \"white\", \"zerolinewidth\": 2}}}, \"xaxis\": {\"anchor\": \"y\", \"domain\": [0.0, 1.0], \"title\": {\"text\": \"Length\"}}, \"yaxis\": {\"anchor\": \"x\", \"domain\": [0.0, 1.0], \"title\": {\"text\": \"count\"}}},                        {\"responsive\": true}                    ).then(function(){\n",
       "                            \n",
       "var gd = document.getElementById('4e95fe72-0992-490b-95e5-6dc65656f91c');\n",
       "var x = new MutationObserver(function (mutations, observer) {{\n",
       "        var display = window.getComputedStyle(gd).display;\n",
       "        if (!display || display === 'none') {{\n",
       "            console.log([gd, 'removed!']);\n",
       "            Plotly.purge(gd);\n",
       "            observer.disconnect();\n",
       "        }}\n",
       "}});\n",
       "\n",
       "// Listen for the removal of the full notebook cells\n",
       "var notebookContainer = gd.closest('#notebook-container');\n",
       "if (notebookContainer) {{\n",
       "    x.observe(notebookContainer, {childList: true});\n",
       "}}\n",
       "\n",
       "// Listen for the clearing of the current output cell\n",
       "var outputEl = gd.closest('.output');\n",
       "if (outputEl) {{\n",
       "    x.observe(outputEl, {childList: true});\n",
       "}}\n",
       "\n",
       "                        })                };                });            </script>        </div>"
      ]
     },
     "metadata": {},
     "output_type": "display_data"
    }
   ],
   "source": [
    "##Edit the code below:\n",
    "fig = px.histogram(df, x='Length')\n",
    "fig.show()"
   ]
  },
  {
   "cell_type": "markdown",
   "id": "a32566f1-eacc-4ea2-adc9-7a79beee3dcc",
   "metadata": {},
   "source": [
    "Now make another histogram where the x-axis is Awards."
   ]
  },
  {
   "cell_type": "code",
   "execution_count": 10,
   "id": "7fb7223b-73c0-46d3-ac64-e28eb438b50e",
   "metadata": {},
   "outputs": [
    {
     "data": {
      "application/vnd.plotly.v1+json": {
       "config": {
        "plotlyServerURL": "https://plot.ly"
       },
       "data": [
        {
         "alignmentgroup": "True",
         "bingroup": "x",
         "hovertemplate": "Awards=%{x}<br>count=%{y}<extra></extra>",
         "legendgroup": "",
         "marker": {
          "color": "#636efa"
         },
         "name": "",
         "offsetgroup": "",
         "orientation": "v",
         "showlegend": false,
         "type": "histogram",
         "x": [
          "No",
          "No",
          "No",
          "No",
          "No",
          "No",
          "No",
          "No",
          "No",
          "No",
          "Yes",
          "No",
          "Yes",
          "No",
          "Yes",
          "Yes",
          "No",
          "No",
          "No",
          "No",
          "No",
          "No",
          "No",
          "No",
          "No",
          "No",
          "No",
          "No",
          "No",
          "No",
          "No",
          "Yes",
          "No",
          "No",
          "No",
          "No",
          "Yes",
          "Yes",
          "No",
          "No",
          "No",
          "No",
          "No",
          "No",
          "No",
          "No",
          "No",
          "Yes",
          "No",
          "No",
          "No",
          "No",
          "No",
          "No",
          "No",
          "No",
          "No",
          "No",
          "No",
          "No",
          "No",
          "No",
          "No",
          "No",
          "No",
          "No",
          "No",
          "No",
          "No",
          "No",
          "Yes",
          "No",
          "No",
          "No",
          "No",
          "Yes",
          "No",
          "No",
          "No",
          "No",
          "No",
          "No",
          "No",
          "Yes",
          "No",
          "No",
          "No",
          "No",
          "No",
          "No",
          "No",
          "No",
          "No",
          "No",
          "No",
          "No",
          "No",
          "No",
          "No",
          "No",
          "No",
          "No",
          "No",
          "No",
          "No",
          "No",
          "Yes",
          "No",
          "No",
          "No",
          "No",
          "No",
          "No",
          "No",
          "No",
          "No",
          "No",
          "No",
          "Yes",
          "No",
          "No",
          "No",
          "No",
          "No",
          "No",
          "No",
          "No",
          "No",
          "No",
          "No",
          "No",
          "No",
          "No",
          "No",
          "No",
          "Yes",
          "No",
          "No",
          "No",
          "No",
          "No",
          "Yes",
          "Yes",
          "No",
          "No",
          "No",
          "Yes",
          "No",
          "No",
          "No",
          "No",
          "No",
          "Yes",
          "No",
          "No",
          "No",
          "No",
          "No",
          "No",
          "No",
          "No",
          "No",
          "No",
          "No",
          "Yes",
          "No",
          "No",
          "No",
          "No",
          "No",
          "No",
          "No",
          "No",
          "Yes",
          "No",
          "Yes",
          "No",
          "Yes",
          "Yes",
          "No",
          "No",
          "No",
          "No",
          "No",
          "No",
          "No",
          "No",
          "No",
          "Yes",
          "No",
          "No",
          "No",
          "No",
          "No",
          "No",
          "No",
          "No",
          "No",
          "No",
          "Yes",
          "No",
          "No",
          "Yes",
          "No",
          "Yes",
          "No",
          "No",
          "No",
          "No",
          "No",
          "No",
          "No",
          "No",
          "No",
          "No",
          "No",
          "Yes",
          "Yes",
          "No",
          "No",
          "No",
          "No",
          "No",
          "No",
          "No",
          "No",
          "No",
          "No",
          "No",
          "No",
          "Yes",
          "No",
          "No",
          "No",
          "Yes",
          "No",
          "No",
          "No",
          "No",
          "No",
          "No",
          "No",
          "No",
          "No",
          "No",
          "No",
          "No",
          "No",
          "No",
          "No",
          "No",
          "Yes",
          "No",
          "No",
          "No",
          "No",
          "No",
          "Yes",
          "No",
          "Yes",
          "No",
          "No",
          "No",
          "No",
          "No",
          "No",
          "No",
          "No",
          "No",
          "Yes",
          "No",
          "No",
          "No",
          "No",
          "No",
          "No",
          "No",
          "No",
          "No",
          "No",
          "No",
          "No",
          "Yes",
          "No",
          "No",
          "No",
          "No",
          "No",
          "No",
          "Yes",
          "No",
          "No",
          "No",
          "No",
          "No",
          "Yes",
          "No",
          "No",
          "No",
          "No",
          "Yes",
          "No",
          "No",
          "No",
          "No",
          "No",
          "Yes",
          "No",
          "No",
          "No",
          "No",
          "No",
          "No",
          "No",
          "Yes",
          "No",
          "No",
          "No",
          "No",
          "No",
          "No",
          "No",
          "No",
          "No",
          "No",
          "No",
          "No",
          "No",
          "No",
          "No",
          "No",
          "Yes",
          "No",
          "No",
          "No",
          "No",
          "No",
          "No",
          "No",
          "No",
          "Yes",
          "No",
          "No",
          "No",
          "No",
          "No",
          "No",
          "No",
          "No",
          "No",
          "No",
          "No",
          "No",
          "No",
          "No",
          "No",
          "No",
          "Yes",
          "Yes",
          "No",
          "No",
          "No",
          "No",
          "No",
          "No",
          "No",
          "No",
          "No",
          "No",
          "No",
          "No",
          "No",
          "No",
          "No",
          "No",
          "No",
          "No",
          "No",
          "No",
          "No",
          "No",
          "No",
          "No",
          "No",
          "Yes",
          "No",
          "No",
          "Yes",
          "No",
          "No",
          "No",
          "No",
          "No",
          "No",
          "No",
          "No",
          "No",
          "Yes",
          "No",
          "No",
          "No",
          "Yes",
          "No",
          "No",
          "No",
          "No",
          "No",
          "No",
          "No",
          "No",
          "No",
          "No",
          "No",
          "No",
          "No",
          "Yes",
          "No",
          "Yes",
          "Yes",
          "Yes",
          "No",
          "No",
          "No",
          "No",
          "No",
          "No",
          "Yes",
          "No",
          "No",
          "No",
          "No",
          "Yes",
          "No",
          "No",
          "No",
          "No",
          "No",
          "No",
          "Yes",
          "No",
          "No",
          "No",
          "Yes",
          "No",
          "No",
          "No",
          "No",
          "No",
          "No",
          "No",
          "No",
          "No",
          "Yes",
          "No",
          "No",
          "No",
          "No",
          "No",
          "No",
          "No",
          "No",
          "No",
          "No",
          "No",
          "Yes",
          "No",
          "No",
          "No",
          "No",
          "No",
          "Yes",
          "No",
          "No",
          "No",
          "No",
          "No",
          "No",
          "No",
          "No",
          "No",
          "No",
          "No",
          "No",
          "No",
          "No",
          "No",
          "No",
          "No",
          "No",
          "No",
          "No",
          "No",
          "No",
          "No",
          "No",
          "No",
          "Yes",
          "No",
          "No",
          "No",
          "No",
          "No",
          "No",
          "Yes",
          "No",
          "No",
          "No",
          "No",
          "No",
          "No",
          "No",
          "No",
          "No",
          "No",
          "Yes",
          "No",
          "No",
          "No",
          "No",
          "No",
          "No",
          "No",
          "No",
          "No",
          "No",
          "No",
          "No",
          "No",
          "No",
          "No",
          "No",
          "No",
          "No",
          "No",
          "No",
          "No",
          "No",
          "No",
          "Yes",
          "No",
          "No",
          "No",
          "No",
          "No",
          "Yes",
          "No",
          "Yes",
          "No",
          "No",
          "Yes",
          "No",
          "No",
          "No",
          "No",
          "No",
          "No",
          "No",
          "No",
          "No",
          "No",
          "No",
          "No",
          "No",
          "Yes",
          "No",
          "No",
          "No",
          "No",
          "No",
          "No",
          "No",
          "No",
          "No",
          "No",
          "No",
          "No",
          "No",
          "No",
          "No",
          "No",
          "No",
          "No",
          "No",
          "No",
          "No",
          "No",
          "No",
          "No",
          "No",
          "No",
          "No",
          "No",
          "No",
          "No",
          "No",
          "Yes",
          "No",
          "No",
          "No",
          "No",
          "No",
          "Yes",
          "No",
          "No",
          "No",
          "No",
          "No",
          "No",
          "No",
          "No",
          "No",
          "No",
          "No",
          "Yes",
          "No",
          "No",
          "No",
          "No",
          "No",
          "No",
          "No",
          "Yes",
          "No",
          "Yes",
          "Yes",
          "Yes",
          "No",
          "No",
          "Yes",
          "Yes",
          "No",
          "No",
          "No",
          "No",
          "No",
          "No",
          "No",
          "No",
          "No",
          "No",
          "No",
          "No",
          "No",
          "No",
          "No",
          "No",
          "No",
          "No",
          "No",
          "No",
          "No",
          "No",
          "No",
          "No",
          "No",
          "No",
          "No",
          "No",
          "No",
          "No",
          "No",
          "No",
          "No",
          "No",
          "No",
          "No",
          "No",
          "No",
          "No",
          "No",
          "No",
          "No",
          "No",
          "No",
          "No",
          "No",
          "No",
          "No",
          "No",
          "No",
          "No",
          "No",
          "No",
          "No",
          "No",
          "No",
          "No",
          "No",
          "No",
          "No",
          "No",
          "No",
          "Yes",
          "No",
          "No",
          "No",
          "No",
          "No",
          "Yes",
          "No",
          "No",
          "No",
          "No",
          "No",
          "No",
          "No",
          "No",
          "No",
          "No",
          "No",
          "No",
          "No",
          "No",
          "No",
          "No",
          "No",
          "No",
          "No",
          "No",
          "Yes",
          "No",
          "Yes",
          "No",
          "No",
          "No",
          "No",
          "No",
          "No",
          "No",
          "No",
          "Yes",
          "No",
          "No",
          "No",
          "No",
          "No",
          "No",
          "No",
          "No",
          "No",
          "No",
          "No",
          "No",
          "No",
          "No",
          "Yes",
          "No",
          "No",
          "Yes",
          "Yes",
          "No",
          "No",
          "No",
          "No",
          "No",
          "No",
          "No",
          "No",
          "No",
          "No",
          "No",
          "No",
          "No",
          "No",
          "No",
          "No",
          "No",
          "Yes",
          "No",
          "No",
          "No",
          "No",
          "No",
          "No",
          "No",
          "No",
          "Yes",
          "No",
          "No",
          "No",
          "No",
          "Yes",
          "Yes",
          "No",
          "No",
          "No",
          "No",
          "No",
          "No",
          "No",
          "No",
          "No",
          "Yes",
          "No",
          "Yes",
          "No",
          "No",
          "No",
          "Yes",
          "No",
          "No",
          "No",
          "No",
          "No",
          "No",
          "No",
          "No",
          "No",
          "No",
          "No",
          "No",
          "No",
          "Yes",
          "Yes",
          "No",
          "No",
          "No",
          "No",
          "No",
          "No",
          "Yes",
          "No",
          "No",
          "No",
          "No",
          "No",
          "Yes",
          "Yes",
          "No",
          "No",
          "No",
          "No",
          "No",
          "No",
          "No",
          "No",
          "No",
          "No",
          "No",
          "No",
          "No",
          "No",
          "Yes",
          "No",
          "No",
          "No",
          "Yes",
          "No",
          "No",
          "No",
          "No",
          "No",
          "No",
          "No",
          "No",
          "No",
          "No",
          "No",
          "No",
          "No",
          "No",
          "Yes",
          "No",
          "No",
          "No",
          "No",
          "No",
          "No",
          "No",
          "No",
          "No",
          "No",
          "No",
          "No",
          "No",
          "No",
          "No",
          "No",
          "No",
          "No",
          "No",
          "No",
          "No",
          "No",
          "No",
          "No",
          "No",
          "No",
          "No",
          "No",
          "No",
          "No",
          "No",
          "No",
          "No",
          "No",
          "No",
          "No",
          "No",
          "No",
          "Yes",
          "Yes",
          "Yes",
          "No",
          "No",
          "No",
          "No",
          "No",
          "No",
          "No",
          "No",
          "No",
          "No",
          "No",
          "No",
          "No",
          "No",
          "No",
          "No",
          "No",
          "No",
          "No",
          "No",
          "No",
          "No",
          "No",
          "No",
          "No",
          "No",
          "No",
          "No",
          "No",
          "No",
          "No",
          "No",
          "No",
          "No",
          "No",
          "No",
          "No",
          "No",
          "No",
          "No",
          "No",
          "No",
          "No",
          "No",
          "No",
          "No",
          "No",
          "No",
          "No",
          "No",
          "No",
          "No",
          "No",
          "No",
          "No",
          "No",
          "No",
          "No",
          "No",
          "No",
          "No",
          "No",
          "Yes",
          "No",
          "No",
          "No",
          "No",
          "No",
          "No",
          "No",
          "No",
          "No",
          "No",
          "No",
          "No",
          "No",
          "No",
          "No",
          "No",
          "No",
          "No",
          "No",
          "No",
          "No",
          "No",
          "No",
          "No",
          "No",
          "No",
          "No",
          "Yes",
          "No",
          "No",
          "No",
          "No",
          "Yes",
          "No",
          "No",
          "No",
          "Yes",
          "No",
          "No",
          "No",
          "No",
          "No",
          "No",
          "No",
          "No",
          "No",
          "No",
          "No",
          "No",
          "No",
          "No",
          "No",
          "No",
          "No",
          "Yes",
          "No",
          "No",
          "No",
          "Yes",
          "No",
          "No",
          "No",
          "No",
          "No",
          "No",
          "No",
          "No",
          "No",
          "No",
          "Yes",
          "No",
          "No",
          "No",
          "No",
          "No",
          "No",
          "No",
          "No",
          "No",
          "No",
          "No",
          "No",
          "No",
          "Yes",
          "No",
          "No",
          "No",
          "Yes",
          "No",
          "No",
          "Yes",
          "No",
          "No",
          "Yes",
          "No",
          "No",
          "Yes",
          "Yes",
          "No",
          "No",
          "Yes",
          "No",
          "No",
          "No",
          "Yes",
          "No",
          "No",
          "Yes",
          "No",
          "No",
          "No",
          "No",
          "No",
          "No",
          "No",
          "No",
          "No",
          "No",
          "No",
          "No",
          "No",
          "Yes",
          "No",
          "No",
          "No",
          "No",
          "No",
          "No",
          "No",
          "No",
          "No",
          "No",
          "Yes",
          "No",
          "No",
          "Yes",
          "No",
          "No",
          "No",
          "Yes",
          "Yes",
          "No",
          "No",
          "No",
          "No",
          "No",
          "No",
          "No",
          "No",
          "No",
          "Yes",
          "No",
          "No",
          "No",
          "No",
          "No",
          "No",
          "Yes",
          "No",
          "No",
          "No",
          "No",
          "No",
          "No",
          "No",
          "No",
          "No",
          "Yes",
          "No",
          "Yes",
          "No",
          "No",
          "No",
          "No",
          "No",
          "No",
          "No",
          "No",
          "Yes",
          "No",
          "No",
          "No",
          "No",
          "No",
          "No",
          "No",
          "No",
          "No",
          "No",
          "Yes",
          "No",
          "No",
          "No",
          "No",
          "No",
          "No",
          "No",
          "No",
          "No",
          "No",
          "No",
          "No",
          "No",
          "No",
          "No",
          "No",
          "No",
          "No",
          "Yes",
          "No",
          "No",
          "No",
          "No",
          "Yes",
          "No",
          "No",
          "No",
          "No",
          "No",
          "Yes",
          "Yes",
          "No",
          "No",
          "Yes",
          "Yes",
          "No",
          "No",
          "No",
          "Yes",
          "Yes",
          "No",
          "No",
          "No",
          "Yes",
          "No",
          "No",
          "No",
          "No",
          "No",
          "No",
          "No",
          "No",
          "No",
          "No",
          "No",
          "No",
          "No",
          "No",
          "No",
          "No",
          "No",
          "No",
          "No",
          "No",
          "No",
          "No",
          "No",
          "No",
          "No",
          "No",
          "No",
          "No",
          "Yes",
          "No",
          "No",
          "No",
          "No",
          "No",
          "No",
          "No",
          "Yes",
          "Yes",
          "No",
          "No",
          "No",
          "No",
          "No",
          "No",
          "No",
          "Yes",
          "No",
          "No",
          "No",
          "No",
          "No",
          "No",
          "No",
          "No",
          "No",
          "No",
          "No",
          "No",
          "No",
          "No",
          "Yes",
          "No",
          "No",
          "No",
          "No",
          "No",
          "No",
          "No",
          "No",
          "No",
          "No",
          "No",
          "No",
          "No",
          "No",
          "No",
          "No",
          "No",
          "No",
          "No",
          "No",
          "No",
          "No",
          "No",
          "No",
          "No",
          "No",
          "No",
          "No",
          "No",
          "No",
          "No",
          "Yes",
          "No",
          "No",
          "Yes",
          "No",
          "No",
          "No",
          "No",
          "No",
          "No",
          "No",
          "No",
          "No",
          "No",
          "No",
          "No",
          "No",
          "No",
          "No",
          "No",
          "No",
          "No",
          "No",
          "No",
          "No",
          "Yes",
          "No",
          "No",
          "No",
          "No",
          "No",
          "No",
          "No",
          "No",
          "No",
          "No",
          "No",
          "No",
          "No",
          "No",
          "No",
          "No",
          "No",
          "No",
          "No",
          "No",
          "No",
          "No",
          "Yes",
          "No",
          "No",
          "No",
          "No",
          "No",
          "No",
          "No",
          "No",
          "No",
          "No",
          "No",
          "No",
          "No",
          "No",
          "No",
          "No",
          "No",
          "No",
          "No",
          "No",
          "Yes",
          "No",
          "No",
          "No",
          "No",
          "No",
          "No",
          "No",
          "No",
          "Yes",
          "No",
          "No",
          "No",
          "No",
          "No",
          "Yes",
          "No",
          "No",
          "No",
          "No",
          "Yes",
          "Yes",
          "No",
          "No",
          "No",
          "No",
          "No",
          "No",
          "Yes",
          "No",
          "No",
          "No",
          "No",
          "Yes",
          "No",
          "No",
          "No",
          "No",
          "No",
          "No",
          "No",
          "No",
          "No",
          "No",
          "No",
          "No",
          "No",
          "No",
          "No",
          "No",
          "No",
          "No",
          "No",
          "No",
          "No",
          "No",
          "No",
          "No",
          "No",
          "No",
          "No",
          "No",
          "No",
          "No",
          "No",
          "No",
          "No",
          "No",
          "No",
          "No",
          "No",
          "No",
          "Yes",
          "No",
          "No",
          "No",
          "No",
          "No",
          "No",
          "No",
          "No",
          "No",
          "No",
          "No",
          "No",
          "No",
          "No",
          "No",
          "No",
          "No",
          "No",
          "Yes",
          "No",
          "No",
          "No",
          "No",
          "No",
          "No",
          "No",
          "No",
          "No",
          "No",
          "No",
          "No",
          "Yes",
          "No",
          "No",
          "No",
          "No",
          "No",
          "No",
          "No",
          "No",
          "No",
          "No",
          "No",
          "No",
          "Yes",
          "Yes",
          "No",
          "No",
          "No",
          "No",
          "No",
          "No",
          "No",
          "No",
          "No",
          "No",
          "No",
          "No",
          "No",
          "No",
          "No",
          "No",
          "Yes",
          "No",
          "No",
          "No",
          "No",
          "Yes",
          "No",
          "No",
          "No",
          "No",
          "No",
          "No",
          "No",
          "No",
          "No",
          "No",
          "No",
          "No",
          "No",
          "No",
          "No",
          "No",
          "No",
          "No",
          "No",
          "No",
          "Yes",
          "No",
          "No",
          "No",
          "No",
          "No",
          "No",
          "No",
          "No",
          "No",
          "No",
          "No",
          "No",
          "No",
          "No",
          "No",
          "No",
          "No",
          "No",
          "No",
          "No",
          "No",
          "No",
          "No",
          "No",
          "No",
          "No",
          "No",
          "No",
          "No",
          "No",
          "No",
          "No",
          "No",
          "No",
          "No",
          "No",
          "No",
          "No",
          "No",
          "No",
          "No",
          "No",
          "No",
          "No",
          "No",
          "No",
          "No",
          "No",
          "No",
          "No",
          "No",
          "No",
          "No",
          "No",
          "No",
          "No",
          "No",
          "No",
          "No",
          "No",
          "No",
          "No",
          "No",
          "No",
          "No",
          "No",
          "No",
          "No",
          "No",
          "No",
          "No",
          "No",
          "No",
          "No",
          "No",
          "No",
          "No",
          "No",
          "No",
          "No",
          "No",
          "No",
          "No",
          "No",
          "No",
          "No",
          "No",
          "No",
          "No",
          "No",
          "No",
          "No",
          "No",
          "No",
          "No",
          "No",
          "No",
          "No",
          "No",
          "No",
          "No",
          "No",
          "No",
          "No",
          "No",
          "No",
          "No",
          "No",
          "No",
          "No",
          "No",
          "No",
          "No",
          "No",
          "No",
          "No",
          "No",
          "No",
          "No",
          "No",
          "No",
          "No",
          "No",
          "No",
          "No",
          "No",
          "No",
          "No",
          "No",
          "No",
          "No",
          "No",
          "No",
          "No",
          "No",
          "No"
         ],
         "xaxis": "x",
         "yaxis": "y"
        }
       ],
       "layout": {
        "autosize": true,
        "barmode": "relative",
        "legend": {
         "tracegroupgap": 0
        },
        "margin": {
         "t": 60
        },
        "template": {
         "data": {
          "bar": [
           {
            "error_x": {
             "color": "#2a3f5f"
            },
            "error_y": {
             "color": "#2a3f5f"
            },
            "marker": {
             "line": {
              "color": "#E5ECF6",
              "width": 0.5
             }
            },
            "type": "bar"
           }
          ],
          "barpolar": [
           {
            "marker": {
             "line": {
              "color": "#E5ECF6",
              "width": 0.5
             }
            },
            "type": "barpolar"
           }
          ],
          "carpet": [
           {
            "aaxis": {
             "endlinecolor": "#2a3f5f",
             "gridcolor": "white",
             "linecolor": "white",
             "minorgridcolor": "white",
             "startlinecolor": "#2a3f5f"
            },
            "baxis": {
             "endlinecolor": "#2a3f5f",
             "gridcolor": "white",
             "linecolor": "white",
             "minorgridcolor": "white",
             "startlinecolor": "#2a3f5f"
            },
            "type": "carpet"
           }
          ],
          "choropleth": [
           {
            "colorbar": {
             "outlinewidth": 0,
             "ticks": ""
            },
            "type": "choropleth"
           }
          ],
          "contour": [
           {
            "colorbar": {
             "outlinewidth": 0,
             "ticks": ""
            },
            "colorscale": [
             [
              0,
              "#0d0887"
             ],
             [
              0.1111111111111111,
              "#46039f"
             ],
             [
              0.2222222222222222,
              "#7201a8"
             ],
             [
              0.3333333333333333,
              "#9c179e"
             ],
             [
              0.4444444444444444,
              "#bd3786"
             ],
             [
              0.5555555555555556,
              "#d8576b"
             ],
             [
              0.6666666666666666,
              "#ed7953"
             ],
             [
              0.7777777777777778,
              "#fb9f3a"
             ],
             [
              0.8888888888888888,
              "#fdca26"
             ],
             [
              1,
              "#f0f921"
             ]
            ],
            "type": "contour"
           }
          ],
          "contourcarpet": [
           {
            "colorbar": {
             "outlinewidth": 0,
             "ticks": ""
            },
            "type": "contourcarpet"
           }
          ],
          "heatmap": [
           {
            "colorbar": {
             "outlinewidth": 0,
             "ticks": ""
            },
            "colorscale": [
             [
              0,
              "#0d0887"
             ],
             [
              0.1111111111111111,
              "#46039f"
             ],
             [
              0.2222222222222222,
              "#7201a8"
             ],
             [
              0.3333333333333333,
              "#9c179e"
             ],
             [
              0.4444444444444444,
              "#bd3786"
             ],
             [
              0.5555555555555556,
              "#d8576b"
             ],
             [
              0.6666666666666666,
              "#ed7953"
             ],
             [
              0.7777777777777778,
              "#fb9f3a"
             ],
             [
              0.8888888888888888,
              "#fdca26"
             ],
             [
              1,
              "#f0f921"
             ]
            ],
            "type": "heatmap"
           }
          ],
          "heatmapgl": [
           {
            "colorbar": {
             "outlinewidth": 0,
             "ticks": ""
            },
            "colorscale": [
             [
              0,
              "#0d0887"
             ],
             [
              0.1111111111111111,
              "#46039f"
             ],
             [
              0.2222222222222222,
              "#7201a8"
             ],
             [
              0.3333333333333333,
              "#9c179e"
             ],
             [
              0.4444444444444444,
              "#bd3786"
             ],
             [
              0.5555555555555556,
              "#d8576b"
             ],
             [
              0.6666666666666666,
              "#ed7953"
             ],
             [
              0.7777777777777778,
              "#fb9f3a"
             ],
             [
              0.8888888888888888,
              "#fdca26"
             ],
             [
              1,
              "#f0f921"
             ]
            ],
            "type": "heatmapgl"
           }
          ],
          "histogram": [
           {
            "marker": {
             "colorbar": {
              "outlinewidth": 0,
              "ticks": ""
             }
            },
            "type": "histogram"
           }
          ],
          "histogram2d": [
           {
            "colorbar": {
             "outlinewidth": 0,
             "ticks": ""
            },
            "colorscale": [
             [
              0,
              "#0d0887"
             ],
             [
              0.1111111111111111,
              "#46039f"
             ],
             [
              0.2222222222222222,
              "#7201a8"
             ],
             [
              0.3333333333333333,
              "#9c179e"
             ],
             [
              0.4444444444444444,
              "#bd3786"
             ],
             [
              0.5555555555555556,
              "#d8576b"
             ],
             [
              0.6666666666666666,
              "#ed7953"
             ],
             [
              0.7777777777777778,
              "#fb9f3a"
             ],
             [
              0.8888888888888888,
              "#fdca26"
             ],
             [
              1,
              "#f0f921"
             ]
            ],
            "type": "histogram2d"
           }
          ],
          "histogram2dcontour": [
           {
            "colorbar": {
             "outlinewidth": 0,
             "ticks": ""
            },
            "colorscale": [
             [
              0,
              "#0d0887"
             ],
             [
              0.1111111111111111,
              "#46039f"
             ],
             [
              0.2222222222222222,
              "#7201a8"
             ],
             [
              0.3333333333333333,
              "#9c179e"
             ],
             [
              0.4444444444444444,
              "#bd3786"
             ],
             [
              0.5555555555555556,
              "#d8576b"
             ],
             [
              0.6666666666666666,
              "#ed7953"
             ],
             [
              0.7777777777777778,
              "#fb9f3a"
             ],
             [
              0.8888888888888888,
              "#fdca26"
             ],
             [
              1,
              "#f0f921"
             ]
            ],
            "type": "histogram2dcontour"
           }
          ],
          "mesh3d": [
           {
            "colorbar": {
             "outlinewidth": 0,
             "ticks": ""
            },
            "type": "mesh3d"
           }
          ],
          "parcoords": [
           {
            "line": {
             "colorbar": {
              "outlinewidth": 0,
              "ticks": ""
             }
            },
            "type": "parcoords"
           }
          ],
          "pie": [
           {
            "automargin": true,
            "type": "pie"
           }
          ],
          "scatter": [
           {
            "marker": {
             "colorbar": {
              "outlinewidth": 0,
              "ticks": ""
             }
            },
            "type": "scatter"
           }
          ],
          "scatter3d": [
           {
            "line": {
             "colorbar": {
              "outlinewidth": 0,
              "ticks": ""
             }
            },
            "marker": {
             "colorbar": {
              "outlinewidth": 0,
              "ticks": ""
             }
            },
            "type": "scatter3d"
           }
          ],
          "scattercarpet": [
           {
            "marker": {
             "colorbar": {
              "outlinewidth": 0,
              "ticks": ""
             }
            },
            "type": "scattercarpet"
           }
          ],
          "scattergeo": [
           {
            "marker": {
             "colorbar": {
              "outlinewidth": 0,
              "ticks": ""
             }
            },
            "type": "scattergeo"
           }
          ],
          "scattergl": [
           {
            "marker": {
             "colorbar": {
              "outlinewidth": 0,
              "ticks": ""
             }
            },
            "type": "scattergl"
           }
          ],
          "scattermapbox": [
           {
            "marker": {
             "colorbar": {
              "outlinewidth": 0,
              "ticks": ""
             }
            },
            "type": "scattermapbox"
           }
          ],
          "scatterpolar": [
           {
            "marker": {
             "colorbar": {
              "outlinewidth": 0,
              "ticks": ""
             }
            },
            "type": "scatterpolar"
           }
          ],
          "scatterpolargl": [
           {
            "marker": {
             "colorbar": {
              "outlinewidth": 0,
              "ticks": ""
             }
            },
            "type": "scatterpolargl"
           }
          ],
          "scatterternary": [
           {
            "marker": {
             "colorbar": {
              "outlinewidth": 0,
              "ticks": ""
             }
            },
            "type": "scatterternary"
           }
          ],
          "surface": [
           {
            "colorbar": {
             "outlinewidth": 0,
             "ticks": ""
            },
            "colorscale": [
             [
              0,
              "#0d0887"
             ],
             [
              0.1111111111111111,
              "#46039f"
             ],
             [
              0.2222222222222222,
              "#7201a8"
             ],
             [
              0.3333333333333333,
              "#9c179e"
             ],
             [
              0.4444444444444444,
              "#bd3786"
             ],
             [
              0.5555555555555556,
              "#d8576b"
             ],
             [
              0.6666666666666666,
              "#ed7953"
             ],
             [
              0.7777777777777778,
              "#fb9f3a"
             ],
             [
              0.8888888888888888,
              "#fdca26"
             ],
             [
              1,
              "#f0f921"
             ]
            ],
            "type": "surface"
           }
          ],
          "table": [
           {
            "cells": {
             "fill": {
              "color": "#EBF0F8"
             },
             "line": {
              "color": "white"
             }
            },
            "header": {
             "fill": {
              "color": "#C8D4E3"
             },
             "line": {
              "color": "white"
             }
            },
            "type": "table"
           }
          ]
         },
         "layout": {
          "annotationdefaults": {
           "arrowcolor": "#2a3f5f",
           "arrowhead": 0,
           "arrowwidth": 1
          },
          "autotypenumbers": "strict",
          "coloraxis": {
           "colorbar": {
            "outlinewidth": 0,
            "ticks": ""
           }
          },
          "colorscale": {
           "diverging": [
            [
             0,
             "#8e0152"
            ],
            [
             0.1,
             "#c51b7d"
            ],
            [
             0.2,
             "#de77ae"
            ],
            [
             0.3,
             "#f1b6da"
            ],
            [
             0.4,
             "#fde0ef"
            ],
            [
             0.5,
             "#f7f7f7"
            ],
            [
             0.6,
             "#e6f5d0"
            ],
            [
             0.7,
             "#b8e186"
            ],
            [
             0.8,
             "#7fbc41"
            ],
            [
             0.9,
             "#4d9221"
            ],
            [
             1,
             "#276419"
            ]
           ],
           "sequential": [
            [
             0,
             "#0d0887"
            ],
            [
             0.1111111111111111,
             "#46039f"
            ],
            [
             0.2222222222222222,
             "#7201a8"
            ],
            [
             0.3333333333333333,
             "#9c179e"
            ],
            [
             0.4444444444444444,
             "#bd3786"
            ],
            [
             0.5555555555555556,
             "#d8576b"
            ],
            [
             0.6666666666666666,
             "#ed7953"
            ],
            [
             0.7777777777777778,
             "#fb9f3a"
            ],
            [
             0.8888888888888888,
             "#fdca26"
            ],
            [
             1,
             "#f0f921"
            ]
           ],
           "sequentialminus": [
            [
             0,
             "#0d0887"
            ],
            [
             0.1111111111111111,
             "#46039f"
            ],
            [
             0.2222222222222222,
             "#7201a8"
            ],
            [
             0.3333333333333333,
             "#9c179e"
            ],
            [
             0.4444444444444444,
             "#bd3786"
            ],
            [
             0.5555555555555556,
             "#d8576b"
            ],
            [
             0.6666666666666666,
             "#ed7953"
            ],
            [
             0.7777777777777778,
             "#fb9f3a"
            ],
            [
             0.8888888888888888,
             "#fdca26"
            ],
            [
             1,
             "#f0f921"
            ]
           ]
          },
          "colorway": [
           "#636efa",
           "#EF553B",
           "#00cc96",
           "#ab63fa",
           "#FFA15A",
           "#19d3f3",
           "#FF6692",
           "#B6E880",
           "#FF97FF",
           "#FECB52"
          ],
          "font": {
           "color": "#2a3f5f"
          },
          "geo": {
           "bgcolor": "white",
           "lakecolor": "white",
           "landcolor": "#E5ECF6",
           "showlakes": true,
           "showland": true,
           "subunitcolor": "white"
          },
          "hoverlabel": {
           "align": "left"
          },
          "hovermode": "closest",
          "mapbox": {
           "style": "light"
          },
          "paper_bgcolor": "white",
          "plot_bgcolor": "#E5ECF6",
          "polar": {
           "angularaxis": {
            "gridcolor": "white",
            "linecolor": "white",
            "ticks": ""
           },
           "bgcolor": "#E5ECF6",
           "radialaxis": {
            "gridcolor": "white",
            "linecolor": "white",
            "ticks": ""
           }
          },
          "scene": {
           "xaxis": {
            "backgroundcolor": "#E5ECF6",
            "gridcolor": "white",
            "gridwidth": 2,
            "linecolor": "white",
            "showbackground": true,
            "ticks": "",
            "zerolinecolor": "white"
           },
           "yaxis": {
            "backgroundcolor": "#E5ECF6",
            "gridcolor": "white",
            "gridwidth": 2,
            "linecolor": "white",
            "showbackground": true,
            "ticks": "",
            "zerolinecolor": "white"
           },
           "zaxis": {
            "backgroundcolor": "#E5ECF6",
            "gridcolor": "white",
            "gridwidth": 2,
            "linecolor": "white",
            "showbackground": true,
            "ticks": "",
            "zerolinecolor": "white"
           }
          },
          "shapedefaults": {
           "line": {
            "color": "#2a3f5f"
           }
          },
          "ternary": {
           "aaxis": {
            "gridcolor": "white",
            "linecolor": "white",
            "ticks": ""
           },
           "baxis": {
            "gridcolor": "white",
            "linecolor": "white",
            "ticks": ""
           },
           "bgcolor": "#E5ECF6",
           "caxis": {
            "gridcolor": "white",
            "linecolor": "white",
            "ticks": ""
           }
          },
          "title": {
           "x": 0.05
          },
          "xaxis": {
           "automargin": true,
           "gridcolor": "white",
           "linecolor": "white",
           "ticks": "",
           "title": {
            "standoff": 15
           },
           "zerolinecolor": "white",
           "zerolinewidth": 2
          },
          "yaxis": {
           "automargin": true,
           "gridcolor": "white",
           "linecolor": "white",
           "ticks": "",
           "title": {
            "standoff": 15
           },
           "zerolinecolor": "white",
           "zerolinewidth": 2
          }
         }
        },
        "xaxis": {
         "anchor": "y",
         "autorange": true,
         "domain": [
          0,
          1
         ],
         "range": [
          -0.5,
          1.5
         ],
         "title": {
          "text": "Awards"
         },
         "type": "category"
        },
        "yaxis": {
         "anchor": "x",
         "autorange": true,
         "domain": [
          0,
          1
         ],
         "range": [
          0,
          1574.7368421052631
         ],
         "title": {
          "text": "count"
         }
        }
       }
      },
      "image/png": "[encoded data removed]",
      "text/html": [
       "<div>                            <div id=\"fb5b156b-429a-4891-8ddb-d7d262d0ff3e\" class=\"plotly-graph-div\" style=\"height:525px; width:100%;\"></div>            <script type=\"text/javascript\">                require([\"plotly\"], function(Plotly) {                    window.PLOTLYENV=window.PLOTLYENV || {};                                    if (document.getElementById(\"fb5b156b-429a-4891-8ddb-d7d262d0ff3e\")) {                    Plotly.newPlot(                        \"fb5b156b-429a-4891-8ddb-d7d262d0ff3e\",                        [{\"alignmentgroup\": \"True\", \"bingroup\": \"x\", \"hovertemplate\": \"Awards=%{x}<br>count=%{y}<extra></extra>\", \"legendgroup\": \"\", \"marker\": {\"color\": \"#636efa\"}, \"name\": \"\", \"offsetgroup\": \"\", \"orientation\": \"v\", \"showlegend\": false, \"type\": \"histogram\", \"x\": [\"No\", \"No\", \"No\", \"No\", \"No\", \"No\", \"No\", \"No\", \"No\", \"No\", \"Yes\", \"No\", \"Yes\", \"No\", \"Yes\", \"Yes\", \"No\", \"No\", \"No\", \"No\", \"No\", \"No\", \"No\", \"No\", \"No\", \"No\", \"No\", \"No\", \"No\", \"No\", \"No\", \"Yes\", \"No\", \"No\", \"No\", \"No\", \"Yes\", \"Yes\", \"No\", \"No\", \"No\", \"No\", \"No\", \"No\", \"No\", \"No\", \"No\", \"Yes\", \"No\", \"No\", \"No\", \"No\", \"No\", \"No\", \"No\", \"No\", \"No\", \"No\", \"No\", \"No\", \"No\", \"No\", \"No\", \"No\", \"No\", \"No\", \"No\", \"No\", \"No\", \"No\", \"Yes\", \"No\", \"No\", \"No\", \"No\", \"Yes\", \"No\", \"No\", \"No\", \"No\", \"No\", \"No\", \"No\", \"Yes\", \"No\", \"No\", \"No\", \"No\", \"No\", \"No\", \"No\", \"No\", \"No\", \"No\", \"No\", \"No\", \"No\", \"No\", \"No\", \"No\", \"No\", \"No\", \"No\", \"No\", \"No\", \"No\", \"Yes\", \"No\", \"No\", \"No\", \"No\", \"No\", \"No\", \"No\", \"No\", \"No\", \"No\", \"No\", \"Yes\", \"No\", \"No\", \"No\", \"No\", \"No\", \"No\", \"No\", \"No\", \"No\", \"No\", \"No\", \"No\", \"No\", \"No\", \"No\", \"No\", \"Yes\", \"No\", \"No\", \"No\", \"No\", \"No\", \"Yes\", \"Yes\", \"No\", \"No\", \"No\", \"Yes\", \"No\", \"No\", \"No\", \"No\", \"No\", \"Yes\", \"No\", \"No\", \"No\", \"No\", \"No\", \"No\", \"No\", \"No\", \"No\", \"No\", \"No\", \"Yes\", \"No\", \"No\", \"No\", \"No\", \"No\", \"No\", \"No\", \"No\", \"Yes\", \"No\", \"Yes\", \"No\", \"Yes\", \"Yes\", \"No\", \"No\", \"No\", \"No\", \"No\", \"No\", \"No\", \"No\", \"No\", \"Yes\", \"No\", \"No\", \"No\", \"No\", \"No\", \"No\", \"No\", \"No\", \"No\", \"No\", \"Yes\", \"No\", \"No\", \"Yes\", \"No\", \"Yes\", \"No\", \"No\", \"No\", \"No\", \"No\", \"No\", \"No\", \"No\", \"No\", \"No\", \"No\", \"Yes\", \"Yes\", \"No\", \"No\", \"No\", \"No\", \"No\", \"No\", \"No\", \"No\", \"No\", \"No\", \"No\", \"No\", \"Yes\", \"No\", \"No\", \"No\", \"Yes\", \"No\", \"No\", \"No\", \"No\", \"No\", \"No\", \"No\", \"No\", \"No\", \"No\", \"No\", \"No\", \"No\", \"No\", \"No\", \"No\", \"Yes\", \"No\", \"No\", \"No\", \"No\", \"No\", \"Yes\", \"No\", \"Yes\", \"No\", \"No\", \"No\", \"No\", \"No\", \"No\", \"No\", \"No\", \"No\", \"Yes\", \"No\", \"No\", \"No\", \"No\", \"No\", \"No\", \"No\", \"No\", \"No\", \"No\", \"No\", \"No\", \"Yes\", \"No\", \"No\", \"No\", \"No\", \"No\", \"No\", \"Yes\", \"No\", \"No\", \"No\", \"No\", \"No\", \"Yes\", \"No\", \"No\", \"No\", \"No\", \"Yes\", \"No\", \"No\", \"No\", \"No\", \"No\", \"Yes\", \"No\", \"No\", \"No\", \"No\", \"No\", \"No\", \"No\", \"Yes\", \"No\", \"No\", \"No\", \"No\", \"No\", \"No\", \"No\", \"No\", \"No\", \"No\", \"No\", \"No\", \"No\", \"No\", \"No\", \"No\", \"Yes\", \"No\", \"No\", \"No\", \"No\", \"No\", \"No\", \"No\", \"No\", \"Yes\", \"No\", \"No\", \"No\", \"No\", \"No\", \"No\", \"No\", \"No\", \"No\", \"No\", \"No\", \"No\", \"No\", \"No\", \"No\", \"No\", \"Yes\", \"Yes\", \"No\", \"No\", \"No\", \"No\", \"No\", \"No\", \"No\", \"No\", \"No\", \"No\", \"No\", \"No\", \"No\", \"No\", \"No\", \"No\", \"No\", \"No\", \"No\", \"No\", \"No\", \"No\", \"No\", \"No\", \"No\", \"Yes\", \"No\", \"No\", \"Yes\", \"No\", \"No\", \"No\", \"No\", \"No\", \"No\", \"No\", \"No\", \"No\", \"Yes\", \"No\", \"No\", \"No\", \"Yes\", \"No\", \"No\", \"No\", \"No\", \"No\", \"No\", \"No\", \"No\", \"No\", \"No\", \"No\", \"No\", \"No\", \"Yes\", \"No\", \"Yes\", \"Yes\", \"Yes\", \"No\", \"No\", \"No\", \"No\", \"No\", \"No\", \"Yes\", \"No\", \"No\", \"No\", \"No\", \"Yes\", \"No\", \"No\", \"No\", \"No\", \"No\", \"No\", \"Yes\", \"No\", \"No\", \"No\", \"Yes\", \"No\", \"No\", \"No\", \"No\", \"No\", \"No\", \"No\", \"No\", \"No\", \"Yes\", \"No\", \"No\", \"No\", \"No\", \"No\", \"No\", \"No\", \"No\", \"No\", \"No\", \"No\", \"Yes\", \"No\", \"No\", \"No\", \"No\", \"No\", \"Yes\", \"No\", \"No\", \"No\", \"No\", \"No\", \"No\", \"No\", \"No\", \"No\", \"No\", \"No\", \"No\", \"No\", \"No\", \"No\", \"No\", \"No\", \"No\", \"No\", \"No\", \"No\", \"No\", \"No\", \"No\", \"No\", \"Yes\", \"No\", \"No\", \"No\", \"No\", \"No\", \"No\", \"Yes\", \"No\", \"No\", \"No\", \"No\", \"No\", \"No\", \"No\", \"No\", \"No\", \"No\", \"Yes\", \"No\", \"No\", \"No\", \"No\", \"No\", \"No\", \"No\", \"No\", \"No\", \"No\", \"No\", \"No\", \"No\", \"No\", \"No\", \"No\", \"No\", \"No\", \"No\", \"No\", \"No\", \"No\", \"No\", \"Yes\", \"No\", \"No\", \"No\", \"No\", \"No\", \"Yes\", \"No\", \"Yes\", \"No\", \"No\", \"Yes\", \"No\", \"No\", \"No\", \"No\", \"No\", \"No\", \"No\", \"No\", \"No\", \"No\", \"No\", \"No\", \"No\", \"Yes\", \"No\", \"No\", \"No\", \"No\", \"No\", \"No\", \"No\", \"No\", \"No\", \"No\", \"No\", \"No\", \"No\", \"No\", \"No\", \"No\", \"No\", \"No\", \"No\", \"No\", \"No\", \"No\", \"No\", \"No\", \"No\", \"No\", \"No\", \"No\", \"No\", \"No\", \"No\", \"Yes\", \"No\", \"No\", \"No\", \"No\", \"No\", \"Yes\", \"No\", \"No\", \"No\", \"No\", \"No\", \"No\", \"No\", \"No\", \"No\", \"No\", \"No\", \"Yes\", \"No\", \"No\", \"No\", \"No\", \"No\", \"No\", \"No\", \"Yes\", \"No\", \"Yes\", \"Yes\", \"Yes\", \"No\", \"No\", \"Yes\", \"Yes\", \"No\", \"No\", \"No\", \"No\", \"No\", \"No\", \"No\", \"No\", \"No\", \"No\", \"No\", \"No\", \"No\", \"No\", \"No\", \"No\", \"No\", \"No\", \"No\", \"No\", \"No\", \"No\", \"No\", \"No\", \"No\", \"No\", \"No\", \"No\", \"No\", \"No\", \"No\", \"No\", \"No\", \"No\", \"No\", \"No\", \"No\", \"No\", \"No\", \"No\", \"No\", \"No\", \"No\", \"No\", \"No\", \"No\", \"No\", \"No\", \"No\", \"No\", \"No\", \"No\", \"No\", \"No\", \"No\", \"No\", \"No\", \"No\", \"No\", \"No\", \"No\", \"No\", \"Yes\", \"No\", \"No\", \"No\", \"No\", \"No\", \"Yes\", \"No\", \"No\", \"No\", \"No\", \"No\", \"No\", \"No\", \"No\", \"No\", \"No\", \"No\", \"No\", \"No\", \"No\", \"No\", \"No\", \"No\", \"No\", \"No\", \"No\", \"Yes\", \"No\", \"Yes\", \"No\", \"No\", \"No\", \"No\", \"No\", \"No\", \"No\", \"No\", \"Yes\", \"No\", \"No\", \"No\", \"No\", \"No\", \"No\", \"No\", \"No\", \"No\", \"No\", \"No\", \"No\", \"No\", \"No\", \"Yes\", \"No\", \"No\", \"Yes\", \"Yes\", \"No\", \"No\", \"No\", \"No\", \"No\", \"No\", \"No\", \"No\", \"No\", \"No\", \"No\", \"No\", \"No\", \"No\", \"No\", \"No\", \"No\", \"Yes\", \"No\", \"No\", \"No\", \"No\", \"No\", \"No\", \"No\", \"No\", \"Yes\", \"No\", \"No\", \"No\", \"No\", \"Yes\", \"Yes\", \"No\", \"No\", \"No\", \"No\", \"No\", \"No\", \"No\", \"No\", \"No\", \"Yes\", \"No\", \"Yes\", \"No\", \"No\", \"No\", \"Yes\", \"No\", \"No\", \"No\", \"No\", \"No\", \"No\", \"No\", \"No\", \"No\", \"No\", \"No\", \"No\", \"No\", \"Yes\", \"Yes\", \"No\", \"No\", \"No\", \"No\", \"No\", \"No\", \"Yes\", \"No\", \"No\", \"No\", \"No\", \"No\", \"Yes\", \"Yes\", \"No\", \"No\", \"No\", \"No\", \"No\", \"No\", \"No\", \"No\", \"No\", \"No\", \"No\", \"No\", \"No\", \"No\", \"Yes\", \"No\", \"No\", \"No\", \"Yes\", \"No\", \"No\", \"No\", \"No\", \"No\", \"No\", \"No\", \"No\", \"No\", \"No\", \"No\", \"No\", \"No\", \"No\", \"Yes\", \"No\", \"No\", \"No\", \"No\", \"No\", \"No\", \"No\", \"No\", \"No\", \"No\", \"No\", \"No\", \"No\", \"No\", \"No\", \"No\", \"No\", \"No\", \"No\", \"No\", \"No\", \"No\", \"No\", \"No\", \"No\", \"No\", \"No\", \"No\", \"No\", \"No\", \"No\", \"No\", \"No\", \"No\", \"No\", \"No\", \"No\", \"No\", \"Yes\", \"Yes\", \"Yes\", \"No\", \"No\", \"No\", \"No\", \"No\", \"No\", \"No\", \"No\", \"No\", \"No\", \"No\", \"No\", \"No\", \"No\", \"No\", \"No\", \"No\", \"No\", \"No\", \"No\", \"No\", \"No\", \"No\", \"No\", \"No\", \"No\", \"No\", \"No\", \"No\", \"No\", \"No\", \"No\", \"No\", \"No\", \"No\", \"No\", \"No\", \"No\", \"No\", \"No\", \"No\", \"No\", \"No\", \"No\", \"No\", \"No\", \"No\", \"No\", \"No\", \"No\", \"No\", \"No\", \"No\", \"No\", \"No\", \"No\", \"No\", \"No\", \"No\", \"No\", \"No\", \"No\", \"Yes\", \"No\", \"No\", \"No\", \"No\", \"No\", \"No\", \"No\", \"No\", \"No\", \"No\", \"No\", \"No\", \"No\", \"No\", \"No\", \"No\", \"No\", \"No\", \"No\", \"No\", \"No\", \"No\", \"No\", \"No\", \"No\", \"No\", \"No\", \"Yes\", \"No\", \"No\", \"No\", \"No\", \"Yes\", \"No\", \"No\", \"No\", \"Yes\", \"No\", \"No\", \"No\", \"No\", \"No\", \"No\", \"No\", \"No\", \"No\", \"No\", \"No\", \"No\", \"No\", \"No\", \"No\", \"No\", \"No\", \"Yes\", \"No\", \"No\", \"No\", \"Yes\", \"No\", \"No\", \"No\", \"No\", \"No\", \"No\", \"No\", \"No\", \"No\", \"No\", \"Yes\", \"No\", \"No\", \"No\", \"No\", \"No\", \"No\", \"No\", \"No\", \"No\", \"No\", \"No\", \"No\", \"No\", \"Yes\", \"No\", \"No\", \"No\", \"Yes\", \"No\", \"No\", \"Yes\", \"No\", \"No\", \"Yes\", \"No\", \"No\", \"Yes\", \"Yes\", \"No\", \"No\", \"Yes\", \"No\", \"No\", \"No\", \"Yes\", \"No\", \"No\", \"Yes\", \"No\", \"No\", \"No\", \"No\", \"No\", \"No\", \"No\", \"No\", \"No\", \"No\", \"No\", \"No\", \"No\", \"Yes\", \"No\", \"No\", \"No\", \"No\", \"No\", \"No\", \"No\", \"No\", \"No\", \"No\", \"Yes\", \"No\", \"No\", \"Yes\", \"No\", \"No\", \"No\", \"Yes\", \"Yes\", \"No\", \"No\", \"No\", \"No\", \"No\", \"No\", \"No\", \"No\", \"No\", \"Yes\", \"No\", \"No\", \"No\", \"No\", \"No\", \"No\", \"Yes\", \"No\", \"No\", \"No\", \"No\", \"No\", \"No\", \"No\", \"No\", \"No\", \"Yes\", \"No\", \"Yes\", \"No\", \"No\", \"No\", \"No\", \"No\", \"No\", \"No\", \"No\", \"Yes\", \"No\", \"No\", \"No\", \"No\", \"No\", \"No\", \"No\", \"No\", \"No\", \"No\", \"Yes\", \"No\", \"No\", \"No\", \"No\", \"No\", \"No\", \"No\", \"No\", \"No\", \"No\", \"No\", \"No\", \"No\", \"No\", \"No\", \"No\", \"No\", \"No\", \"Yes\", \"No\", \"No\", \"No\", \"No\", \"Yes\", \"No\", \"No\", \"No\", \"No\", \"No\", \"Yes\", \"Yes\", \"No\", \"No\", \"Yes\", \"Yes\", \"No\", \"No\", \"No\", \"Yes\", \"Yes\", \"No\", \"No\", \"No\", \"Yes\", \"No\", \"No\", \"No\", \"No\", \"No\", \"No\", \"No\", \"No\", \"No\", \"No\", \"No\", \"No\", \"No\", \"No\", \"No\", \"No\", \"No\", \"No\", \"No\", \"No\", \"No\", \"No\", \"No\", \"No\", \"No\", \"No\", \"No\", \"No\", \"Yes\", \"No\", \"No\", \"No\", \"No\", \"No\", \"No\", \"No\", \"Yes\", \"Yes\", \"No\", \"No\", \"No\", \"No\", \"No\", \"No\", \"No\", \"Yes\", \"No\", \"No\", \"No\", \"No\", \"No\", \"No\", \"No\", \"No\", \"No\", \"No\", \"No\", \"No\", \"No\", \"No\", \"Yes\", \"No\", \"No\", \"No\", \"No\", \"No\", \"No\", \"No\", \"No\", \"No\", \"No\", \"No\", \"No\", \"No\", \"No\", \"No\", \"No\", \"No\", \"No\", \"No\", \"No\", \"No\", \"No\", \"No\", \"No\", \"No\", \"No\", \"No\", \"No\", \"No\", \"No\", \"No\", \"Yes\", \"No\", \"No\", \"Yes\", \"No\", \"No\", \"No\", \"No\", \"No\", \"No\", \"No\", \"No\", \"No\", \"No\", \"No\", \"No\", \"No\", \"No\", \"No\", \"No\", \"No\", \"No\", \"No\", \"No\", \"No\", \"Yes\", \"No\", \"No\", \"No\", \"No\", \"No\", \"No\", \"No\", \"No\", \"No\", \"No\", \"No\", \"No\", \"No\", \"No\", \"No\", \"No\", \"No\", \"No\", \"No\", \"No\", \"No\", \"No\", \"Yes\", \"No\", \"No\", \"No\", \"No\", \"No\", \"No\", \"No\", \"No\", \"No\", \"No\", \"No\", \"No\", \"No\", \"No\", \"No\", \"No\", \"No\", \"No\", \"No\", \"No\", \"Yes\", \"No\", \"No\", \"No\", \"No\", \"No\", \"No\", \"No\", \"No\", \"Yes\", \"No\", \"No\", \"No\", \"No\", \"No\", \"Yes\", \"No\", \"No\", \"No\", \"No\", \"Yes\", \"Yes\", \"No\", \"No\", \"No\", \"No\", \"No\", \"No\", \"Yes\", \"No\", \"No\", \"No\", \"No\", \"Yes\", \"No\", \"No\", \"No\", \"No\", \"No\", \"No\", \"No\", \"No\", \"No\", \"No\", \"No\", \"No\", \"No\", \"No\", \"No\", \"No\", \"No\", \"No\", \"No\", \"No\", \"No\", \"No\", \"No\", \"No\", \"No\", \"No\", \"No\", \"No\", \"No\", \"No\", \"No\", \"No\", \"No\", \"No\", \"No\", \"No\", \"No\", \"No\", \"Yes\", \"No\", \"No\", \"No\", \"No\", \"No\", \"No\", \"No\", \"No\", \"No\", \"No\", \"No\", \"No\", \"No\", \"No\", \"No\", \"No\", \"No\", \"No\", \"Yes\", \"No\", \"No\", \"No\", \"No\", \"No\", \"No\", \"No\", \"No\", \"No\", \"No\", \"No\", \"No\", \"Yes\", \"No\", \"No\", \"No\", \"No\", \"No\", \"No\", \"No\", \"No\", \"No\", \"No\", \"No\", \"No\", \"Yes\", \"Yes\", \"No\", \"No\", \"No\", \"No\", \"No\", \"No\", \"No\", \"No\", \"No\", \"No\", \"No\", \"No\", \"No\", \"No\", \"No\", \"No\", \"Yes\", \"No\", \"No\", \"No\", \"No\", \"Yes\", \"No\", \"No\", \"No\", \"No\", \"No\", \"No\", \"No\", \"No\", \"No\", \"No\", \"No\", \"No\", \"No\", \"No\", \"No\", \"No\", \"No\", \"No\", \"No\", \"No\", \"Yes\", \"No\", \"No\", \"No\", \"No\", \"No\", \"No\", \"No\", \"No\", \"No\", \"No\", \"No\", \"No\", \"No\", \"No\", \"No\", \"No\", \"No\", \"No\", \"No\", \"No\", \"No\", \"No\", \"No\", \"No\", \"No\", \"No\", \"No\", \"No\", \"No\", \"No\", \"No\", \"No\", \"No\", \"No\", \"No\", \"No\", \"No\", \"No\", \"No\", \"No\", \"No\", \"No\", \"No\", \"No\", \"No\", \"No\", \"No\", \"No\", \"No\", \"No\", \"No\", \"No\", \"No\", \"No\", \"No\", \"No\", \"No\", \"No\", \"No\", \"No\", \"No\", \"No\", \"No\", \"No\", \"No\", \"No\", \"No\", \"No\", \"No\", \"No\", \"No\", \"No\", \"No\", \"No\", \"No\", \"No\", \"No\", \"No\", \"No\", \"No\", \"No\", \"No\", \"No\", \"No\", \"No\", \"No\", \"No\", \"No\", \"No\", \"No\", \"No\", \"No\", \"No\", \"No\", \"No\", \"No\", \"No\", \"No\", \"No\", \"No\", \"No\", \"No\", \"No\", \"No\", \"No\", \"No\", \"No\", \"No\", \"No\", \"No\", \"No\", \"No\", \"No\", \"No\", \"No\", \"No\", \"No\", \"No\", \"No\", \"No\", \"No\", \"No\", \"No\", \"No\", \"No\", \"No\", \"No\", \"No\", \"No\", \"No\", \"No\", \"No\", \"No\", \"No\", \"No\", \"No\"], \"xaxis\": \"x\", \"yaxis\": \"y\"}],                        {\"barmode\": \"relative\", \"legend\": {\"tracegroupgap\": 0}, \"margin\": {\"t\": 60}, \"template\": {\"data\": {\"bar\": [{\"error_x\": {\"color\": \"#2a3f5f\"}, \"error_y\": {\"color\": \"#2a3f5f\"}, \"marker\": {\"line\": {\"color\": \"#E5ECF6\", \"width\": 0.5}}, \"type\": \"bar\"}], \"barpolar\": [{\"marker\": {\"line\": {\"color\": \"#E5ECF6\", \"width\": 0.5}}, \"type\": \"barpolar\"}], \"carpet\": [{\"aaxis\": {\"endlinecolor\": \"#2a3f5f\", \"gridcolor\": \"white\", \"linecolor\": \"white\", \"minorgridcolor\": \"white\", \"startlinecolor\": \"#2a3f5f\"}, \"baxis\": {\"endlinecolor\": \"#2a3f5f\", \"gridcolor\": \"white\", \"linecolor\": \"white\", \"minorgridcolor\": \"white\", \"startlinecolor\": \"#2a3f5f\"}, \"type\": \"carpet\"}], \"choropleth\": [{\"colorbar\": {\"outlinewidth\": 0, \"ticks\": \"\"}, \"type\": \"choropleth\"}], \"contour\": [{\"colorbar\": {\"outlinewidth\": 0, \"ticks\": \"\"}, \"colorscale\": [[0.0, \"#0d0887\"], [0.1111111111111111, \"#46039f\"], [0.2222222222222222, \"#7201a8\"], [0.3333333333333333, \"#9c179e\"], [0.4444444444444444, \"#bd3786\"], [0.5555555555555556, \"#d8576b\"], [0.6666666666666666, \"#ed7953\"], [0.7777777777777778, \"#fb9f3a\"], [0.8888888888888888, \"#fdca26\"], [1.0, \"#f0f921\"]], \"type\": \"contour\"}], \"contourcarpet\": [{\"colorbar\": {\"outlinewidth\": 0, \"ticks\": \"\"}, \"type\": \"contourcarpet\"}], \"heatmap\": [{\"colorbar\": {\"outlinewidth\": 0, \"ticks\": \"\"}, \"colorscale\": [[0.0, \"#0d0887\"], [0.1111111111111111, \"#46039f\"], [0.2222222222222222, \"#7201a8\"], [0.3333333333333333, \"#9c179e\"], [0.4444444444444444, \"#bd3786\"], [0.5555555555555556, \"#d8576b\"], [0.6666666666666666, \"#ed7953\"], [0.7777777777777778, \"#fb9f3a\"], [0.8888888888888888, \"#fdca26\"], [1.0, \"#f0f921\"]], \"type\": \"heatmap\"}], \"heatmapgl\": [{\"colorbar\": {\"outlinewidth\": 0, \"ticks\": \"\"}, \"colorscale\": [[0.0, \"#0d0887\"], [0.1111111111111111, \"#46039f\"], [0.2222222222222222, \"#7201a8\"], [0.3333333333333333, \"#9c179e\"], [0.4444444444444444, \"#bd3786\"], [0.5555555555555556, \"#d8576b\"], [0.6666666666666666, \"#ed7953\"], [0.7777777777777778, \"#fb9f3a\"], [0.8888888888888888, \"#fdca26\"], [1.0, \"#f0f921\"]], \"type\": \"heatmapgl\"}], \"histogram\": [{\"marker\": {\"colorbar\": {\"outlinewidth\": 0, \"ticks\": \"\"}}, \"type\": \"histogram\"}], \"histogram2d\": [{\"colorbar\": {\"outlinewidth\": 0, \"ticks\": \"\"}, \"colorscale\": [[0.0, \"#0d0887\"], [0.1111111111111111, \"#46039f\"], [0.2222222222222222, \"#7201a8\"], [0.3333333333333333, \"#9c179e\"], [0.4444444444444444, \"#bd3786\"], [0.5555555555555556, \"#d8576b\"], [0.6666666666666666, \"#ed7953\"], [0.7777777777777778, \"#fb9f3a\"], [0.8888888888888888, \"#fdca26\"], [1.0, \"#f0f921\"]], \"type\": \"histogram2d\"}], \"histogram2dcontour\": [{\"colorbar\": {\"outlinewidth\": 0, \"ticks\": \"\"}, \"colorscale\": [[0.0, \"#0d0887\"], [0.1111111111111111, \"#46039f\"], [0.2222222222222222, \"#7201a8\"], [0.3333333333333333, \"#9c179e\"], [0.4444444444444444, \"#bd3786\"], [0.5555555555555556, \"#d8576b\"], [0.6666666666666666, \"#ed7953\"], [0.7777777777777778, \"#fb9f3a\"], [0.8888888888888888, \"#fdca26\"], [1.0, \"#f0f921\"]], \"type\": \"histogram2dcontour\"}], \"mesh3d\": [{\"colorbar\": {\"outlinewidth\": 0, \"ticks\": \"\"}, \"type\": \"mesh3d\"}], \"parcoords\": [{\"line\": {\"colorbar\": {\"outlinewidth\": 0, \"ticks\": \"\"}}, \"type\": \"parcoords\"}], \"pie\": [{\"automargin\": true, \"type\": \"pie\"}], \"scatter\": [{\"marker\": {\"colorbar\": {\"outlinewidth\": 0, \"ticks\": \"\"}}, \"type\": \"scatter\"}], \"scatter3d\": [{\"line\": {\"colorbar\": {\"outlinewidth\": 0, \"ticks\": \"\"}}, \"marker\": {\"colorbar\": {\"outlinewidth\": 0, \"ticks\": \"\"}}, \"type\": \"scatter3d\"}], \"scattercarpet\": [{\"marker\": {\"colorbar\": {\"outlinewidth\": 0, \"ticks\": \"\"}}, \"type\": \"scattercarpet\"}], \"scattergeo\": [{\"marker\": {\"colorbar\": {\"outlinewidth\": 0, \"ticks\": \"\"}}, \"type\": \"scattergeo\"}], \"scattergl\": [{\"marker\": {\"colorbar\": {\"outlinewidth\": 0, \"ticks\": \"\"}}, \"type\": \"scattergl\"}], \"scattermapbox\": [{\"marker\": {\"colorbar\": {\"outlinewidth\": 0, \"ticks\": \"\"}}, \"type\": \"scattermapbox\"}], \"scatterpolar\": [{\"marker\": {\"colorbar\": {\"outlinewidth\": 0, \"ticks\": \"\"}}, \"type\": \"scatterpolar\"}], \"scatterpolargl\": [{\"marker\": {\"colorbar\": {\"outlinewidth\": 0, \"ticks\": \"\"}}, \"type\": \"scatterpolargl\"}], \"scatterternary\": [{\"marker\": {\"colorbar\": {\"outlinewidth\": 0, \"ticks\": \"\"}}, \"type\": \"scatterternary\"}], \"surface\": [{\"colorbar\": {\"outlinewidth\": 0, \"ticks\": \"\"}, \"colorscale\": [[0.0, \"#0d0887\"], [0.1111111111111111, \"#46039f\"], [0.2222222222222222, \"#7201a8\"], [0.3333333333333333, \"#9c179e\"], [0.4444444444444444, \"#bd3786\"], [0.5555555555555556, \"#d8576b\"], [0.6666666666666666, \"#ed7953\"], [0.7777777777777778, \"#fb9f3a\"], [0.8888888888888888, \"#fdca26\"], [1.0, \"#f0f921\"]], \"type\": \"surface\"}], \"table\": [{\"cells\": {\"fill\": {\"color\": \"#EBF0F8\"}, \"line\": {\"color\": \"white\"}}, \"header\": {\"fill\": {\"color\": \"#C8D4E3\"}, \"line\": {\"color\": \"white\"}}, \"type\": \"table\"}]}, \"layout\": {\"annotationdefaults\": {\"arrowcolor\": \"#2a3f5f\", \"arrowhead\": 0, \"arrowwidth\": 1}, \"autotypenumbers\": \"strict\", \"coloraxis\": {\"colorbar\": {\"outlinewidth\": 0, \"ticks\": \"\"}}, \"colorscale\": {\"diverging\": [[0, \"#8e0152\"], [0.1, \"#c51b7d\"], [0.2, \"#de77ae\"], [0.3, \"#f1b6da\"], [0.4, \"#fde0ef\"], [0.5, \"#f7f7f7\"], [0.6, \"#e6f5d0\"], [0.7, \"#b8e186\"], [0.8, \"#7fbc41\"], [0.9, \"#4d9221\"], [1, \"#276419\"]], \"sequential\": [[0.0, \"#0d0887\"], [0.1111111111111111, \"#46039f\"], [0.2222222222222222, \"#7201a8\"], [0.3333333333333333, \"#9c179e\"], [0.4444444444444444, \"#bd3786\"], [0.5555555555555556, \"#d8576b\"], [0.6666666666666666, \"#ed7953\"], [0.7777777777777778, \"#fb9f3a\"], [0.8888888888888888, \"#fdca26\"], [1.0, \"#f0f921\"]], \"sequentialminus\": [[0.0, \"#0d0887\"], [0.1111111111111111, \"#46039f\"], [0.2222222222222222, \"#7201a8\"], [0.3333333333333333, \"#9c179e\"], [0.4444444444444444, \"#bd3786\"], [0.5555555555555556, \"#d8576b\"], [0.6666666666666666, \"#ed7953\"], [0.7777777777777778, \"#fb9f3a\"], [0.8888888888888888, \"#fdca26\"], [1.0, \"#f0f921\"]]}, \"colorway\": [\"#636efa\", \"#EF553B\", \"#00cc96\", \"#ab63fa\", \"#FFA15A\", \"#19d3f3\", \"#FF6692\", \"#B6E880\", \"#FF97FF\", \"#FECB52\"], \"font\": {\"color\": \"#2a3f5f\"}, \"geo\": {\"bgcolor\": \"white\", \"lakecolor\": \"white\", \"landcolor\": \"#E5ECF6\", \"showlakes\": true, \"showland\": true, \"subunitcolor\": \"white\"}, \"hoverlabel\": {\"align\": \"left\"}, \"hovermode\": \"closest\", \"mapbox\": {\"style\": \"light\"}, \"paper_bgcolor\": \"white\", \"plot_bgcolor\": \"#E5ECF6\", \"polar\": {\"angularaxis\": {\"gridcolor\": \"white\", \"linecolor\": \"white\", \"ticks\": \"\"}, \"bgcolor\": \"#E5ECF6\", \"radialaxis\": {\"gridcolor\": \"white\", \"linecolor\": \"white\", \"ticks\": \"\"}}, \"scene\": {\"xaxis\": {\"backgroundcolor\": \"#E5ECF6\", \"gridcolor\": \"white\", \"gridwidth\": 2, \"linecolor\": \"white\", \"showbackground\": true, \"ticks\": \"\", \"zerolinecolor\": \"white\"}, \"yaxis\": {\"backgroundcolor\": \"#E5ECF6\", \"gridcolor\": \"white\", \"gridwidth\": 2, \"linecolor\": \"white\", \"showbackground\": true, \"ticks\": \"\", \"zerolinecolor\": \"white\"}, \"zaxis\": {\"backgroundcolor\": \"#E5ECF6\", \"gridcolor\": \"white\", \"gridwidth\": 2, \"linecolor\": \"white\", \"showbackground\": true, \"ticks\": \"\", \"zerolinecolor\": \"white\"}}, \"shapedefaults\": {\"line\": {\"color\": \"#2a3f5f\"}}, \"ternary\": {\"aaxis\": {\"gridcolor\": \"white\", \"linecolor\": \"white\", \"ticks\": \"\"}, \"baxis\": {\"gridcolor\": \"white\", \"linecolor\": \"white\", \"ticks\": \"\"}, \"bgcolor\": \"#E5ECF6\", \"caxis\": {\"gridcolor\": \"white\", \"linecolor\": \"white\", \"ticks\": \"\"}}, \"title\": {\"x\": 0.05}, \"xaxis\": {\"automargin\": true, \"gridcolor\": \"white\", \"linecolor\": \"white\", \"ticks\": \"\", \"title\": {\"standoff\": 15}, \"zerolinecolor\": \"white\", \"zerolinewidth\": 2}, \"yaxis\": {\"automargin\": true, \"gridcolor\": \"white\", \"linecolor\": \"white\", \"ticks\": \"\", \"title\": {\"standoff\": 15}, \"zerolinecolor\": \"white\", \"zerolinewidth\": 2}}}, \"xaxis\": {\"anchor\": \"y\", \"domain\": [0.0, 1.0], \"title\": {\"text\": \"Awards\"}}, \"yaxis\": {\"anchor\": \"x\", \"domain\": [0.0, 1.0], \"title\": {\"text\": \"count\"}}},                        {\"responsive\": true}                    ).then(function(){\n",
       "                            \n",
       "var gd = document.getElementById('fb5b156b-429a-4891-8ddb-d7d262d0ff3e');\n",
       "var x = new MutationObserver(function (mutations, observer) {{\n",
       "        var display = window.getComputedStyle(gd).display;\n",
       "        if (!display || display === 'none') {{\n",
       "            console.log([gd, 'removed!']);\n",
       "            Plotly.purge(gd);\n",
       "            observer.disconnect();\n",
       "        }}\n",
       "}});\n",
       "\n",
       "// Listen for the removal of the full notebook cells\n",
       "var notebookContainer = gd.closest('#notebook-container');\n",
       "if (notebookContainer) {{\n",
       "    x.observe(notebookContainer, {childList: true});\n",
       "}}\n",
       "\n",
       "// Listen for the clearing of the current output cell\n",
       "var outputEl = gd.closest('.output');\n",
       "if (outputEl) {{\n",
       "    x.observe(outputEl, {childList: true});\n",
       "}}\n",
       "\n",
       "                        })                };                });            </script>        </div>"
      ]
     },
     "metadata": {},
     "output_type": "display_data"
    }
   ],
   "source": [
    "##Copy and edit the code from the code cell above.\n",
    "fig = px.histogram(df, x='Awards')\n",
    "fig.show()"
   ]
  },
  {
   "cell_type": "markdown",
   "id": "82e76d7c-9c96-4f1f-9c57-7092e088f705",
   "metadata": {},
   "source": [
    "***Your Turn - Histogram Learnings:***\n",
    "\n",
    "What did you learn about the data from the histograms?\n",
    "\n",
    "- A large amount of the movies in the dataset were made in the 1980s-2000s.\n",
    "- A large amount of the movies averaged to a length of about 100 minutes.\n",
    "- Most of the movies did not receive awards of any kind.\n",
    "..."
   ]
  },
  {
   "cell_type": "markdown",
   "id": "5c60b691-e8a9-4f48-899f-5c05998d1a19",
   "metadata": {},
   "source": [
    "## Step 3 - Data Manipulation\n",
    "These plots are pretty fun and now I want to learn more. To learn more, I can employ a couple of strategies:\n",
    "- I can select and organize data subsets\n",
    "- I can group + calculate within a dataset\n",
    "- I can combine across datasets\n",
    "\n",
    "In this Work, we'll cover some methods of selecting data subsets and grouping + calculating within a dataset.\n",
    "\n",
    "As I look at the first histogram, I wonder if the average and median popularity of the movies changes as the number of movies generally increases. To do this, I'm going to:\\\n",
    "a. First, [select](https://www.geeksforgeeks.org/indexing-and-selecting-data-with-pandas/) only the Year and Popularity columns/series that I care about;\\\n",
    "b. Then, [group](https://www.geeksforgeeks.org/pandas-groupby/?ref=lbp) the data subset by Year;\\\n",
    "c. Then, calculate the count, average and median Popularity for each year (called [aggregation](https://www.geeksforgeeks.org/pandas-groupby/?ref=lbp#:~:text=Applying%20function%20to%20group));\\\n",
    "d. And finally, plot it.\n",
    "\n",
    "### Step 3a - Select my data\n",
    "You can read how I wrote my call [here](https://www.geeksforgeeks.org/indexing-and-selecting-data-with-pandas/#:~:text=Selecting%20some%20columns%20and%20all%20rows). Run the code cell bellow. "
   ]
  },
  {
   "cell_type": "code",
   "execution_count": 11,
   "id": "855cae8a-9bde-437f-9fd8-4b70ff2b3f0e",
   "metadata": {},
   "outputs": [
    {
     "data": {
      "text/html": [
       "<div>\n",
       "<style scoped>\n",
       "    .dataframe tbody tr th:only-of-type {\n",
       "        vertical-align: middle;\n",
       "    }\n",
       "\n",
       "    .dataframe tbody tr th {\n",
       "        vertical-align: top;\n",
       "    }\n",
       "\n",
       "    .dataframe thead th {\n",
       "        text-align: right;\n",
       "    }\n",
       "</style>\n",
       "<table border=\"1\" class=\"dataframe\">\n",
       "  <thead>\n",
       "    <tr style=\"text-align: right;\">\n",
       "      <th></th>\n",
       "      <th>Year</th>\n",
       "      <th>Popularity</th>\n",
       "    </tr>\n",
       "  </thead>\n",
       "  <tbody>\n",
       "    <tr>\n",
       "      <th>0</th>\n",
       "      <td>1990</td>\n",
       "      <td>68.0</td>\n",
       "    </tr>\n",
       "    <tr>\n",
       "      <th>1</th>\n",
       "      <td>1991</td>\n",
       "      <td>68.0</td>\n",
       "    </tr>\n",
       "    <tr>\n",
       "      <th>2</th>\n",
       "      <td>1983</td>\n",
       "      <td>79.0</td>\n",
       "    </tr>\n",
       "    <tr>\n",
       "      <th>3</th>\n",
       "      <td>1979</td>\n",
       "      <td>6.0</td>\n",
       "    </tr>\n",
       "    <tr>\n",
       "      <th>4</th>\n",
       "      <td>1978</td>\n",
       "      <td>14.0</td>\n",
       "    </tr>\n",
       "  </tbody>\n",
       "</table>\n",
       "</div>"
      ],
      "text/plain": [
       "   Year  Popularity\n",
       "0  1990        68.0\n",
       "1  1991        68.0\n",
       "2  1983        79.0\n",
       "3  1979         6.0\n",
       "4  1978        14.0"
      ]
     },
     "execution_count": 11,
     "metadata": {},
     "output_type": "execute_result"
    }
   ],
   "source": [
    "df_yvp = df[['Year', 'Popularity']]\n",
    "df_yvp.head()"
   ]
  },
  {
   "cell_type": "markdown",
   "id": "f8e89f1b-91de-439d-b7e6-83b98a938e48",
   "metadata": {},
   "source": [
    "I see that the years are not in order and I'd like to fix that. Run the code cell below to [sort](https://www.geeksforgeeks.org/how-to-sort-pandas-dataframe/) by year."
   ]
  },
  {
   "cell_type": "code",
   "execution_count": 12,
   "id": "94975b52-f42c-4ae5-932a-4f95af9a7c44",
   "metadata": {},
   "outputs": [
    {
     "data": {
      "text/html": [
       "<div>\n",
       "<style scoped>\n",
       "    .dataframe tbody tr th:only-of-type {\n",
       "        vertical-align: middle;\n",
       "    }\n",
       "\n",
       "    .dataframe tbody tr th {\n",
       "        vertical-align: top;\n",
       "    }\n",
       "\n",
       "    .dataframe thead th {\n",
       "        text-align: right;\n",
       "    }\n",
       "</style>\n",
       "<table border=\"1\" class=\"dataframe\">\n",
       "  <thead>\n",
       "    <tr style=\"text-align: right;\">\n",
       "      <th></th>\n",
       "      <th>Year</th>\n",
       "      <th>Popularity</th>\n",
       "    </tr>\n",
       "  </thead>\n",
       "  <tbody>\n",
       "    <tr>\n",
       "      <th>1400</th>\n",
       "      <td>1920</td>\n",
       "      <td>29.0</td>\n",
       "    </tr>\n",
       "    <tr>\n",
       "      <th>869</th>\n",
       "      <td>1923</td>\n",
       "      <td>NaN</td>\n",
       "    </tr>\n",
       "    <tr>\n",
       "      <th>60</th>\n",
       "      <td>1924</td>\n",
       "      <td>79.0</td>\n",
       "    </tr>\n",
       "    <tr>\n",
       "      <th>1045</th>\n",
       "      <td>1924</td>\n",
       "      <td>74.0</td>\n",
       "    </tr>\n",
       "    <tr>\n",
       "      <th>1495</th>\n",
       "      <td>1924</td>\n",
       "      <td>63.0</td>\n",
       "    </tr>\n",
       "    <tr>\n",
       "      <th>...</th>\n",
       "      <td>...</td>\n",
       "      <td>...</td>\n",
       "    </tr>\n",
       "    <tr>\n",
       "      <th>346</th>\n",
       "      <td>1993</td>\n",
       "      <td>60.0</td>\n",
       "    </tr>\n",
       "    <tr>\n",
       "      <th>196</th>\n",
       "      <td>1993</td>\n",
       "      <td>62.0</td>\n",
       "    </tr>\n",
       "    <tr>\n",
       "      <th>1556</th>\n",
       "      <td>1993</td>\n",
       "      <td>26.0</td>\n",
       "    </tr>\n",
       "    <tr>\n",
       "      <th>81</th>\n",
       "      <td>1996</td>\n",
       "      <td>39.0</td>\n",
       "    </tr>\n",
       "    <tr>\n",
       "      <th>1209</th>\n",
       "      <td>1997</td>\n",
       "      <td>60.0</td>\n",
       "    </tr>\n",
       "  </tbody>\n",
       "</table>\n",
       "<p>1659 rows × 2 columns</p>\n",
       "</div>"
      ],
      "text/plain": [
       "      Year  Popularity\n",
       "1400  1920        29.0\n",
       "869   1923         NaN\n",
       "60    1924        79.0\n",
       "1045  1924        74.0\n",
       "1495  1924        63.0\n",
       "...    ...         ...\n",
       "346   1993        60.0\n",
       "196   1993        62.0\n",
       "1556  1993        26.0\n",
       "81    1996        39.0\n",
       "1209  1997        60.0\n",
       "\n",
       "[1659 rows x 2 columns]"
      ]
     },
     "execution_count": 12,
     "metadata": {},
     "output_type": "execute_result"
    }
   ],
   "source": [
    "df_yvp.sort_values(by=['Year'])"
   ]
  },
  {
   "cell_type": "markdown",
   "id": "8d12c068-eee3-401e-9e4e-84f8567d9356",
   "metadata": {},
   "source": [
    "Much better! Now I'm going to [select the rows where the year is between](https://www.geeksforgeeks.org/selecting-rows-in-pandas-dataframe-based-on-conditions/) 1930 and 1990. Run the code cell below."
   ]
  },
  {
   "cell_type": "code",
   "execution_count": 13,
   "id": "71796ddf-fdee-443e-8ee4-42d6837a3fa4",
   "metadata": {},
   "outputs": [
    {
     "data": {
      "text/html": [
       "<div>\n",
       "<style scoped>\n",
       "    .dataframe tbody tr th:only-of-type {\n",
       "        vertical-align: middle;\n",
       "    }\n",
       "\n",
       "    .dataframe tbody tr th {\n",
       "        vertical-align: top;\n",
       "    }\n",
       "\n",
       "    .dataframe thead th {\n",
       "        text-align: right;\n",
       "    }\n",
       "</style>\n",
       "<table border=\"1\" class=\"dataframe\">\n",
       "  <thead>\n",
       "    <tr style=\"text-align: right;\">\n",
       "      <th></th>\n",
       "      <th>Year</th>\n",
       "      <th>Popularity</th>\n",
       "    </tr>\n",
       "  </thead>\n",
       "  <tbody>\n",
       "    <tr>\n",
       "      <th>0</th>\n",
       "      <td>1990</td>\n",
       "      <td>68.0</td>\n",
       "    </tr>\n",
       "    <tr>\n",
       "      <th>2</th>\n",
       "      <td>1983</td>\n",
       "      <td>79.0</td>\n",
       "    </tr>\n",
       "    <tr>\n",
       "      <th>3</th>\n",
       "      <td>1979</td>\n",
       "      <td>6.0</td>\n",
       "    </tr>\n",
       "    <tr>\n",
       "      <th>4</th>\n",
       "      <td>1978</td>\n",
       "      <td>14.0</td>\n",
       "    </tr>\n",
       "    <tr>\n",
       "      <th>5</th>\n",
       "      <td>1983</td>\n",
       "      <td>68.0</td>\n",
       "    </tr>\n",
       "    <tr>\n",
       "      <th>...</th>\n",
       "      <td>...</td>\n",
       "      <td>...</td>\n",
       "    </tr>\n",
       "    <tr>\n",
       "      <th>1653</th>\n",
       "      <td>1990</td>\n",
       "      <td>23.0</td>\n",
       "    </tr>\n",
       "    <tr>\n",
       "      <th>1654</th>\n",
       "      <td>1932</td>\n",
       "      <td>19.0</td>\n",
       "    </tr>\n",
       "    <tr>\n",
       "      <th>1655</th>\n",
       "      <td>1989</td>\n",
       "      <td>43.0</td>\n",
       "    </tr>\n",
       "    <tr>\n",
       "      <th>1656</th>\n",
       "      <td>1988</td>\n",
       "      <td>19.0</td>\n",
       "    </tr>\n",
       "    <tr>\n",
       "      <th>1657</th>\n",
       "      <td>1977</td>\n",
       "      <td>18.0</td>\n",
       "    </tr>\n",
       "  </tbody>\n",
       "</table>\n",
       "<p>1396 rows × 2 columns</p>\n",
       "</div>"
      ],
      "text/plain": [
       "      Year  Popularity\n",
       "0     1990        68.0\n",
       "2     1983        79.0\n",
       "3     1979         6.0\n",
       "4     1978        14.0\n",
       "5     1983        68.0\n",
       "...    ...         ...\n",
       "1653  1990        23.0\n",
       "1654  1932        19.0\n",
       "1655  1989        43.0\n",
       "1656  1988        19.0\n",
       "1657  1977        18.0\n",
       "\n",
       "[1396 rows x 2 columns]"
      ]
     },
     "execution_count": 13,
     "metadata": {},
     "output_type": "execute_result"
    }
   ],
   "source": [
    "df_yvp = df_yvp[(df_yvp['Year'] >= 1930) &\n",
    "          (df_yvp['Year'] <= 1990)]\n",
    "\n",
    "df_yvp"
   ]
  },
  {
   "cell_type": "markdown",
   "id": "304cad74-a2d7-4fe6-ae46-b8299e28fb39",
   "metadata": {},
   "source": [
    "### Step 3b - Group by Year\n",
    "Now I'm going to group my data by year. Run the code cell below."
   ]
  },
  {
   "cell_type": "code",
   "execution_count": 14,
   "id": "c561322e-96f6-4cf1-a342-a45a19faee0f",
   "metadata": {},
   "outputs": [
    {
     "data": {
      "text/plain": [
       "<pandas.core.groupby.generic.DataFrameGroupBy object at 0x000001E7686D0F70>"
      ]
     },
     "execution_count": 14,
     "metadata": {},
     "output_type": "execute_result"
    }
   ],
   "source": [
    "df_yvp.groupby('Year')"
   ]
  },
  {
   "cell_type": "markdown",
   "id": "841b2345-4276-4d0e-9fa7-733d1eba8fc2",
   "metadata": {},
   "source": [
    "After running this code cell, I'm not seeing a table... is that ok? \n",
    "\n",
    "The answer is yes. Calling groupby creates a groupby object that pandas can use but nothing has been done to my data yet. **We need to apply our [aggregation functions](https://www.geeksforgeeks.org/pandas-groupby/?ref=lbp#:~:text=Applying%20function%20to%20group).**\n",
    "\n",
    "### Step 3c - Calculate average and median popularity for each year in the dataset\n",
    "I want to use the median and mean (average) aggregation functions - so I'll be [applying multiple aggregation functions at once](https://www.geeksforgeeks.org/pandas-groupby/?ref=lbp#:~:text=Applying%20multiple%20functions%20at%20once%20%3A) and [explicitly labeling the resulting columns](https://pandas.pydata.org/pandas-docs/stable/whatsnew/v0.25.0.html#groupby-aggregation-with-relabeling). There are a lot of aggregating functions available - check them out [here](https://cmdlinetips.com/2019/10/pandas-groupby-13-functions-to-aggregate/).Run the code cell below."
   ]
  },
  {
   "cell_type": "code",
   "execution_count": 15,
   "id": "336cf1b8-f3ff-48f9-bb8f-e804e5277761",
   "metadata": {},
   "outputs": [],
   "source": [
    "df_yvp = df_yvp.groupby('Year')['Popularity'].agg(\n",
    "    Popularity_count = 'count', \n",
    "    Popularity_mean = 'mean', \n",
    "    Popularity_median = 'median'\n",
    ")"
   ]
  },
  {
   "cell_type": "markdown",
   "id": "7802dee3-a985-40c7-9117-2b4519f59999",
   "metadata": {},
   "source": [
    "Looks great! Notice that I've re-defined the data frame using the same name. This is an important detail. If I had not redefined my new dataframe with each function, I would not have been storing those manipulations. As you write your code, if you are getting outputted data that is not following the functions, I advise that you check that this is not at play.\n",
    "\n",
    "### Step 3d - Plotting my data\n",
    "So we made it! After all this work, I'm interested to see how it plots. But first, I want to look at the data. Run the code cell below."
   ]
  },
  {
   "cell_type": "code",
   "execution_count": 16,
   "id": "742ae50b-2bcd-4cd7-a4e1-caaf5d7a55fe",
   "metadata": {},
   "outputs": [
    {
     "data": {
      "text/html": [
       "<div>\n",
       "<style scoped>\n",
       "    .dataframe tbody tr th:only-of-type {\n",
       "        vertical-align: middle;\n",
       "    }\n",
       "\n",
       "    .dataframe tbody tr th {\n",
       "        vertical-align: top;\n",
       "    }\n",
       "\n",
       "    .dataframe thead th {\n",
       "        text-align: right;\n",
       "    }\n",
       "</style>\n",
       "<table border=\"1\" class=\"dataframe\">\n",
       "  <thead>\n",
       "    <tr style=\"text-align: right;\">\n",
       "      <th></th>\n",
       "      <th>Popularity_count</th>\n",
       "      <th>Popularity_mean</th>\n",
       "      <th>Popularity_median</th>\n",
       "    </tr>\n",
       "    <tr>\n",
       "      <th>Year</th>\n",
       "      <th></th>\n",
       "      <th></th>\n",
       "      <th></th>\n",
       "    </tr>\n",
       "  </thead>\n",
       "  <tbody>\n",
       "    <tr>\n",
       "      <th>1930</th>\n",
       "      <td>3</td>\n",
       "      <td>37.333333</td>\n",
       "      <td>50.0</td>\n",
       "    </tr>\n",
       "    <tr>\n",
       "      <th>1931</th>\n",
       "      <td>9</td>\n",
       "      <td>58.222222</td>\n",
       "      <td>64.0</td>\n",
       "    </tr>\n",
       "    <tr>\n",
       "      <th>1932</th>\n",
       "      <td>8</td>\n",
       "      <td>55.500000</td>\n",
       "      <td>63.5</td>\n",
       "    </tr>\n",
       "    <tr>\n",
       "      <th>1933</th>\n",
       "      <td>3</td>\n",
       "      <td>50.666667</td>\n",
       "      <td>66.0</td>\n",
       "    </tr>\n",
       "    <tr>\n",
       "      <th>1934</th>\n",
       "      <td>4</td>\n",
       "      <td>34.250000</td>\n",
       "      <td>35.5</td>\n",
       "    </tr>\n",
       "    <tr>\n",
       "      <th>...</th>\n",
       "      <td>...</td>\n",
       "      <td>...</td>\n",
       "      <td>...</td>\n",
       "    </tr>\n",
       "    <tr>\n",
       "      <th>1986</th>\n",
       "      <td>93</td>\n",
       "      <td>40.870968</td>\n",
       "      <td>41.0</td>\n",
       "    </tr>\n",
       "    <tr>\n",
       "      <th>1987</th>\n",
       "      <td>102</td>\n",
       "      <td>38.862745</td>\n",
       "      <td>40.5</td>\n",
       "    </tr>\n",
       "    <tr>\n",
       "      <th>1988</th>\n",
       "      <td>96</td>\n",
       "      <td>40.104167</td>\n",
       "      <td>41.5</td>\n",
       "    </tr>\n",
       "    <tr>\n",
       "      <th>1989</th>\n",
       "      <td>101</td>\n",
       "      <td>41.108911</td>\n",
       "      <td>41.0</td>\n",
       "    </tr>\n",
       "    <tr>\n",
       "      <th>1990</th>\n",
       "      <td>105</td>\n",
       "      <td>36.933333</td>\n",
       "      <td>30.0</td>\n",
       "    </tr>\n",
       "  </tbody>\n",
       "</table>\n",
       "<p>61 rows × 3 columns</p>\n",
       "</div>"
      ],
      "text/plain": [
       "      Popularity_count  Popularity_mean  Popularity_median\n",
       "Year                                                      \n",
       "1930                 3        37.333333               50.0\n",
       "1931                 9        58.222222               64.0\n",
       "1932                 8        55.500000               63.5\n",
       "1933                 3        50.666667               66.0\n",
       "1934                 4        34.250000               35.5\n",
       "...                ...              ...                ...\n",
       "1986                93        40.870968               41.0\n",
       "1987               102        38.862745               40.5\n",
       "1988                96        40.104167               41.5\n",
       "1989               101        41.108911               41.0\n",
       "1990               105        36.933333               30.0\n",
       "\n",
       "[61 rows x 3 columns]"
      ]
     },
     "execution_count": 16,
     "metadata": {},
     "output_type": "execute_result"
    }
   ],
   "source": [
    "df_yvp"
   ]
  },
  {
   "cell_type": "markdown",
   "id": "b2390f1a-8d3b-48cd-ae8f-b5b020b2c3b3",
   "metadata": {},
   "source": [
    "Notice that the Year is now bold - this indicates that the Year has become the new index. This may cause issues for me down the road, so I'm going to remove 'Year' as the index by [resetting the index](https://www.geeksforgeeks.org/how-to-reset-index-after-groupby-pandas/)."
   ]
  },
  {
   "cell_type": "code",
   "execution_count": 17,
   "id": "f721b61a-9074-4e16-b583-f490f88e2593",
   "metadata": {},
   "outputs": [],
   "source": [
    "df_yvp = df_yvp.reset_index()"
   ]
  },
  {
   "cell_type": "markdown",
   "id": "6b0589f8-23b3-4a22-a6db-f5e4c70abe61",
   "metadata": {},
   "source": [
    "The data is still sorted by year but now the 'Year' column is not my index. Hooray! This will make my life much easier when I start plotting.\n",
    "\n",
    "The abridged table is a little anticlimatic - I'd like to see each row to get a better feel for the data. Since I'm coming to the end of my dataframe manipulation, I'll adjust some settings."
   ]
  },
  {
   "cell_type": "code",
   "execution_count": 18,
   "id": "d537e360-8963-42be-b13e-d031d4544f71",
   "metadata": {},
   "outputs": [
    {
     "data": {
      "text/html": [
       "<div>\n",
       "<style scoped>\n",
       "    .dataframe tbody tr th:only-of-type {\n",
       "        vertical-align: middle;\n",
       "    }\n",
       "\n",
       "    .dataframe tbody tr th {\n",
       "        vertical-align: top;\n",
       "    }\n",
       "\n",
       "    .dataframe thead th {\n",
       "        text-align: right;\n",
       "    }\n",
       "</style>\n",
       "<table border=\"1\" class=\"dataframe\">\n",
       "  <thead>\n",
       "    <tr style=\"text-align: right;\">\n",
       "      <th></th>\n",
       "      <th>Year</th>\n",
       "      <th>Popularity_count</th>\n",
       "      <th>Popularity_mean</th>\n",
       "      <th>Popularity_median</th>\n",
       "    </tr>\n",
       "  </thead>\n",
       "  <tbody>\n",
       "    <tr>\n",
       "      <th>0</th>\n",
       "      <td>1930</td>\n",
       "      <td>3</td>\n",
       "      <td>37.333333</td>\n",
       "      <td>50.0</td>\n",
       "    </tr>\n",
       "    <tr>\n",
       "      <th>1</th>\n",
       "      <td>1931</td>\n",
       "      <td>9</td>\n",
       "      <td>58.222222</td>\n",
       "      <td>64.0</td>\n",
       "    </tr>\n",
       "    <tr>\n",
       "      <th>2</th>\n",
       "      <td>1932</td>\n",
       "      <td>8</td>\n",
       "      <td>55.500000</td>\n",
       "      <td>63.5</td>\n",
       "    </tr>\n",
       "    <tr>\n",
       "      <th>3</th>\n",
       "      <td>1933</td>\n",
       "      <td>3</td>\n",
       "      <td>50.666667</td>\n",
       "      <td>66.0</td>\n",
       "    </tr>\n",
       "    <tr>\n",
       "      <th>4</th>\n",
       "      <td>1934</td>\n",
       "      <td>4</td>\n",
       "      <td>34.250000</td>\n",
       "      <td>35.5</td>\n",
       "    </tr>\n",
       "    <tr>\n",
       "      <th>5</th>\n",
       "      <td>1935</td>\n",
       "      <td>8</td>\n",
       "      <td>55.500000</td>\n",
       "      <td>60.5</td>\n",
       "    </tr>\n",
       "    <tr>\n",
       "      <th>6</th>\n",
       "      <td>1936</td>\n",
       "      <td>6</td>\n",
       "      <td>52.666667</td>\n",
       "      <td>62.0</td>\n",
       "    </tr>\n",
       "    <tr>\n",
       "      <th>7</th>\n",
       "      <td>1937</td>\n",
       "      <td>9</td>\n",
       "      <td>45.444444</td>\n",
       "      <td>45.0</td>\n",
       "    </tr>\n",
       "    <tr>\n",
       "      <th>8</th>\n",
       "      <td>1938</td>\n",
       "      <td>8</td>\n",
       "      <td>42.750000</td>\n",
       "      <td>30.5</td>\n",
       "    </tr>\n",
       "    <tr>\n",
       "      <th>9</th>\n",
       "      <td>1939</td>\n",
       "      <td>11</td>\n",
       "      <td>39.636364</td>\n",
       "      <td>30.0</td>\n",
       "    </tr>\n",
       "    <tr>\n",
       "      <th>10</th>\n",
       "      <td>1940</td>\n",
       "      <td>11</td>\n",
       "      <td>50.545455</td>\n",
       "      <td>52.0</td>\n",
       "    </tr>\n",
       "    <tr>\n",
       "      <th>11</th>\n",
       "      <td>1941</td>\n",
       "      <td>7</td>\n",
       "      <td>46.285714</td>\n",
       "      <td>38.0</td>\n",
       "    </tr>\n",
       "    <tr>\n",
       "      <th>12</th>\n",
       "      <td>1942</td>\n",
       "      <td>6</td>\n",
       "      <td>45.666667</td>\n",
       "      <td>47.5</td>\n",
       "    </tr>\n",
       "    <tr>\n",
       "      <th>13</th>\n",
       "      <td>1943</td>\n",
       "      <td>8</td>\n",
       "      <td>64.000000</td>\n",
       "      <td>78.0</td>\n",
       "    </tr>\n",
       "    <tr>\n",
       "      <th>14</th>\n",
       "      <td>1944</td>\n",
       "      <td>4</td>\n",
       "      <td>37.250000</td>\n",
       "      <td>39.5</td>\n",
       "    </tr>\n",
       "    <tr>\n",
       "      <th>15</th>\n",
       "      <td>1945</td>\n",
       "      <td>7</td>\n",
       "      <td>54.571429</td>\n",
       "      <td>54.0</td>\n",
       "    </tr>\n",
       "    <tr>\n",
       "      <th>16</th>\n",
       "      <td>1946</td>\n",
       "      <td>9</td>\n",
       "      <td>41.444444</td>\n",
       "      <td>42.0</td>\n",
       "    </tr>\n",
       "    <tr>\n",
       "      <th>17</th>\n",
       "      <td>1947</td>\n",
       "      <td>9</td>\n",
       "      <td>42.888889</td>\n",
       "      <td>43.0</td>\n",
       "    </tr>\n",
       "    <tr>\n",
       "      <th>18</th>\n",
       "      <td>1948</td>\n",
       "      <td>14</td>\n",
       "      <td>41.571429</td>\n",
       "      <td>37.0</td>\n",
       "    </tr>\n",
       "    <tr>\n",
       "      <th>19</th>\n",
       "      <td>1949</td>\n",
       "      <td>15</td>\n",
       "      <td>50.866667</td>\n",
       "      <td>62.0</td>\n",
       "    </tr>\n",
       "    <tr>\n",
       "      <th>20</th>\n",
       "      <td>1950</td>\n",
       "      <td>11</td>\n",
       "      <td>48.090909</td>\n",
       "      <td>54.0</td>\n",
       "    </tr>\n",
       "    <tr>\n",
       "      <th>21</th>\n",
       "      <td>1951</td>\n",
       "      <td>6</td>\n",
       "      <td>36.500000</td>\n",
       "      <td>31.5</td>\n",
       "    </tr>\n",
       "    <tr>\n",
       "      <th>22</th>\n",
       "      <td>1952</td>\n",
       "      <td>10</td>\n",
       "      <td>41.000000</td>\n",
       "      <td>42.0</td>\n",
       "    </tr>\n",
       "    <tr>\n",
       "      <th>23</th>\n",
       "      <td>1953</td>\n",
       "      <td>15</td>\n",
       "      <td>50.133333</td>\n",
       "      <td>57.0</td>\n",
       "    </tr>\n",
       "    <tr>\n",
       "      <th>24</th>\n",
       "      <td>1954</td>\n",
       "      <td>11</td>\n",
       "      <td>44.545455</td>\n",
       "      <td>48.0</td>\n",
       "    </tr>\n",
       "    <tr>\n",
       "      <th>25</th>\n",
       "      <td>1955</td>\n",
       "      <td>20</td>\n",
       "      <td>47.200000</td>\n",
       "      <td>54.5</td>\n",
       "    </tr>\n",
       "    <tr>\n",
       "      <th>26</th>\n",
       "      <td>1956</td>\n",
       "      <td>15</td>\n",
       "      <td>41.666667</td>\n",
       "      <td>45.0</td>\n",
       "    </tr>\n",
       "    <tr>\n",
       "      <th>27</th>\n",
       "      <td>1957</td>\n",
       "      <td>16</td>\n",
       "      <td>41.375000</td>\n",
       "      <td>42.5</td>\n",
       "    </tr>\n",
       "    <tr>\n",
       "      <th>28</th>\n",
       "      <td>1958</td>\n",
       "      <td>12</td>\n",
       "      <td>33.166667</td>\n",
       "      <td>33.5</td>\n",
       "    </tr>\n",
       "    <tr>\n",
       "      <th>29</th>\n",
       "      <td>1959</td>\n",
       "      <td>9</td>\n",
       "      <td>34.555556</td>\n",
       "      <td>26.0</td>\n",
       "    </tr>\n",
       "    <tr>\n",
       "      <th>30</th>\n",
       "      <td>1960</td>\n",
       "      <td>11</td>\n",
       "      <td>40.727273</td>\n",
       "      <td>32.0</td>\n",
       "    </tr>\n",
       "    <tr>\n",
       "      <th>31</th>\n",
       "      <td>1961</td>\n",
       "      <td>14</td>\n",
       "      <td>42.214286</td>\n",
       "      <td>41.0</td>\n",
       "    </tr>\n",
       "    <tr>\n",
       "      <th>32</th>\n",
       "      <td>1962</td>\n",
       "      <td>15</td>\n",
       "      <td>38.733333</td>\n",
       "      <td>35.0</td>\n",
       "    </tr>\n",
       "    <tr>\n",
       "      <th>33</th>\n",
       "      <td>1963</td>\n",
       "      <td>14</td>\n",
       "      <td>55.285714</td>\n",
       "      <td>68.0</td>\n",
       "    </tr>\n",
       "    <tr>\n",
       "      <th>34</th>\n",
       "      <td>1964</td>\n",
       "      <td>13</td>\n",
       "      <td>38.076923</td>\n",
       "      <td>34.0</td>\n",
       "    </tr>\n",
       "    <tr>\n",
       "      <th>35</th>\n",
       "      <td>1965</td>\n",
       "      <td>12</td>\n",
       "      <td>51.833333</td>\n",
       "      <td>55.0</td>\n",
       "    </tr>\n",
       "    <tr>\n",
       "      <th>36</th>\n",
       "      <td>1966</td>\n",
       "      <td>21</td>\n",
       "      <td>39.904762</td>\n",
       "      <td>35.0</td>\n",
       "    </tr>\n",
       "    <tr>\n",
       "      <th>37</th>\n",
       "      <td>1967</td>\n",
       "      <td>15</td>\n",
       "      <td>49.266667</td>\n",
       "      <td>50.0</td>\n",
       "    </tr>\n",
       "    <tr>\n",
       "      <th>38</th>\n",
       "      <td>1968</td>\n",
       "      <td>20</td>\n",
       "      <td>41.650000</td>\n",
       "      <td>34.5</td>\n",
       "    </tr>\n",
       "    <tr>\n",
       "      <th>39</th>\n",
       "      <td>1969</td>\n",
       "      <td>19</td>\n",
       "      <td>46.947368</td>\n",
       "      <td>48.0</td>\n",
       "    </tr>\n",
       "    <tr>\n",
       "      <th>40</th>\n",
       "      <td>1970</td>\n",
       "      <td>28</td>\n",
       "      <td>48.178571</td>\n",
       "      <td>49.5</td>\n",
       "    </tr>\n",
       "    <tr>\n",
       "      <th>41</th>\n",
       "      <td>1971</td>\n",
       "      <td>23</td>\n",
       "      <td>48.260870</td>\n",
       "      <td>60.0</td>\n",
       "    </tr>\n",
       "    <tr>\n",
       "      <th>42</th>\n",
       "      <td>1972</td>\n",
       "      <td>24</td>\n",
       "      <td>50.833333</td>\n",
       "      <td>55.0</td>\n",
       "    </tr>\n",
       "    <tr>\n",
       "      <th>43</th>\n",
       "      <td>1973</td>\n",
       "      <td>26</td>\n",
       "      <td>39.692308</td>\n",
       "      <td>39.0</td>\n",
       "    </tr>\n",
       "    <tr>\n",
       "      <th>44</th>\n",
       "      <td>1974</td>\n",
       "      <td>23</td>\n",
       "      <td>43.826087</td>\n",
       "      <td>41.0</td>\n",
       "    </tr>\n",
       "    <tr>\n",
       "      <th>45</th>\n",
       "      <td>1975</td>\n",
       "      <td>23</td>\n",
       "      <td>51.913043</td>\n",
       "      <td>64.0</td>\n",
       "    </tr>\n",
       "    <tr>\n",
       "      <th>46</th>\n",
       "      <td>1976</td>\n",
       "      <td>17</td>\n",
       "      <td>43.941176</td>\n",
       "      <td>41.0</td>\n",
       "    </tr>\n",
       "    <tr>\n",
       "      <th>47</th>\n",
       "      <td>1977</td>\n",
       "      <td>29</td>\n",
       "      <td>47.034483</td>\n",
       "      <td>44.0</td>\n",
       "    </tr>\n",
       "    <tr>\n",
       "      <th>48</th>\n",
       "      <td>1978</td>\n",
       "      <td>18</td>\n",
       "      <td>42.055556</td>\n",
       "      <td>43.0</td>\n",
       "    </tr>\n",
       "    <tr>\n",
       "      <th>49</th>\n",
       "      <td>1979</td>\n",
       "      <td>33</td>\n",
       "      <td>36.424242</td>\n",
       "      <td>32.0</td>\n",
       "    </tr>\n",
       "    <tr>\n",
       "      <th>50</th>\n",
       "      <td>1980</td>\n",
       "      <td>30</td>\n",
       "      <td>51.166667</td>\n",
       "      <td>59.5</td>\n",
       "    </tr>\n",
       "    <tr>\n",
       "      <th>51</th>\n",
       "      <td>1981</td>\n",
       "      <td>26</td>\n",
       "      <td>47.538462</td>\n",
       "      <td>53.0</td>\n",
       "    </tr>\n",
       "    <tr>\n",
       "      <th>52</th>\n",
       "      <td>1982</td>\n",
       "      <td>37</td>\n",
       "      <td>50.405405</td>\n",
       "      <td>64.0</td>\n",
       "    </tr>\n",
       "    <tr>\n",
       "      <th>53</th>\n",
       "      <td>1983</td>\n",
       "      <td>40</td>\n",
       "      <td>34.250000</td>\n",
       "      <td>29.5</td>\n",
       "    </tr>\n",
       "    <tr>\n",
       "      <th>54</th>\n",
       "      <td>1984</td>\n",
       "      <td>38</td>\n",
       "      <td>39.921053</td>\n",
       "      <td>36.0</td>\n",
       "    </tr>\n",
       "    <tr>\n",
       "      <th>55</th>\n",
       "      <td>1985</td>\n",
       "      <td>42</td>\n",
       "      <td>51.500000</td>\n",
       "      <td>56.0</td>\n",
       "    </tr>\n",
       "    <tr>\n",
       "      <th>56</th>\n",
       "      <td>1986</td>\n",
       "      <td>93</td>\n",
       "      <td>40.870968</td>\n",
       "      <td>41.0</td>\n",
       "    </tr>\n",
       "    <tr>\n",
       "      <th>57</th>\n",
       "      <td>1987</td>\n",
       "      <td>102</td>\n",
       "      <td>38.862745</td>\n",
       "      <td>40.5</td>\n",
       "    </tr>\n",
       "    <tr>\n",
       "      <th>58</th>\n",
       "      <td>1988</td>\n",
       "      <td>96</td>\n",
       "      <td>40.104167</td>\n",
       "      <td>41.5</td>\n",
       "    </tr>\n",
       "    <tr>\n",
       "      <th>59</th>\n",
       "      <td>1989</td>\n",
       "      <td>101</td>\n",
       "      <td>41.108911</td>\n",
       "      <td>41.0</td>\n",
       "    </tr>\n",
       "    <tr>\n",
       "      <th>60</th>\n",
       "      <td>1990</td>\n",
       "      <td>105</td>\n",
       "      <td>36.933333</td>\n",
       "      <td>30.0</td>\n",
       "    </tr>\n",
       "  </tbody>\n",
       "</table>\n",
       "</div>"
      ],
      "text/plain": [
       "    Year  Popularity_count  Popularity_mean  Popularity_median\n",
       "0   1930                 3        37.333333               50.0\n",
       "1   1931                 9        58.222222               64.0\n",
       "2   1932                 8        55.500000               63.5\n",
       "3   1933                 3        50.666667               66.0\n",
       "4   1934                 4        34.250000               35.5\n",
       "5   1935                 8        55.500000               60.5\n",
       "6   1936                 6        52.666667               62.0\n",
       "7   1937                 9        45.444444               45.0\n",
       "8   1938                 8        42.750000               30.5\n",
       "9   1939                11        39.636364               30.0\n",
       "10  1940                11        50.545455               52.0\n",
       "11  1941                 7        46.285714               38.0\n",
       "12  1942                 6        45.666667               47.5\n",
       "13  1943                 8        64.000000               78.0\n",
       "14  1944                 4        37.250000               39.5\n",
       "15  1945                 7        54.571429               54.0\n",
       "16  1946                 9        41.444444               42.0\n",
       "17  1947                 9        42.888889               43.0\n",
       "18  1948                14        41.571429               37.0\n",
       "19  1949                15        50.866667               62.0\n",
       "20  1950                11        48.090909               54.0\n",
       "21  1951                 6        36.500000               31.5\n",
       "22  1952                10        41.000000               42.0\n",
       "23  1953                15        50.133333               57.0\n",
       "24  1954                11        44.545455               48.0\n",
       "25  1955                20        47.200000               54.5\n",
       "26  1956                15        41.666667               45.0\n",
       "27  1957                16        41.375000               42.5\n",
       "28  1958                12        33.166667               33.5\n",
       "29  1959                 9        34.555556               26.0\n",
       "30  1960                11        40.727273               32.0\n",
       "31  1961                14        42.214286               41.0\n",
       "32  1962                15        38.733333               35.0\n",
       "33  1963                14        55.285714               68.0\n",
       "34  1964                13        38.076923               34.0\n",
       "35  1965                12        51.833333               55.0\n",
       "36  1966                21        39.904762               35.0\n",
       "37  1967                15        49.266667               50.0\n",
       "38  1968                20        41.650000               34.5\n",
       "39  1969                19        46.947368               48.0\n",
       "40  1970                28        48.178571               49.5\n",
       "41  1971                23        48.260870               60.0\n",
       "42  1972                24        50.833333               55.0\n",
       "43  1973                26        39.692308               39.0\n",
       "44  1974                23        43.826087               41.0\n",
       "45  1975                23        51.913043               64.0\n",
       "46  1976                17        43.941176               41.0\n",
       "47  1977                29        47.034483               44.0\n",
       "48  1978                18        42.055556               43.0\n",
       "49  1979                33        36.424242               32.0\n",
       "50  1980                30        51.166667               59.5\n",
       "51  1981                26        47.538462               53.0\n",
       "52  1982                37        50.405405               64.0\n",
       "53  1983                40        34.250000               29.5\n",
       "54  1984                38        39.921053               36.0\n",
       "55  1985                42        51.500000               56.0\n",
       "56  1986                93        40.870968               41.0\n",
       "57  1987               102        38.862745               40.5\n",
       "58  1988                96        40.104167               41.5\n",
       "59  1989               101        41.108911               41.0\n",
       "60  1990               105        36.933333               30.0"
      ]
     },
     "execution_count": 18,
     "metadata": {},
     "output_type": "execute_result"
    }
   ],
   "source": [
    "pd.set_option('display.max_rows', None)\n",
    "df_yvp"
   ]
  },
  {
   "cell_type": "markdown",
   "id": "67b3f6ad-eebb-4bdd-8183-d57b0a182747",
   "metadata": {
    "tags": []
   },
   "source": [
    "I'm now going to make a couple of plots. First I want to compare between the mean and median Popularity - this requires slightly different coding than you've seen so ready the cell below carefully. Run the code cell below."
   ]
  },
  {
   "cell_type": "code",
   "execution_count": 19,
   "id": "0dd626d0-35c8-4b7e-875d-8c8ca2b7a4df",
   "metadata": {},
   "outputs": [
    {
     "data": {
      "application/vnd.plotly.v1+json": {
       "config": {
        "plotlyServerURL": "https://plot.ly"
       },
       "data": [
        {
         "alignmentgroup": "True",
         "hovertemplate": "variable=Popularity_mean<br>Year=%{x}<br>value=%{y}<extra></extra>",
         "legendgroup": "Popularity_mean",
         "marker": {
          "color": "#636efa"
         },
         "name": "Popularity_mean",
         "offsetgroup": "Popularity_mean",
         "orientation": "v",
         "showlegend": true,
         "textposition": "auto",
         "type": "bar",
         "x": [
          1930,
          1931,
          1932,
          1933,
          1934,
          1935,
          1936,
          1937,
          1938,
          1939,
          1940,
          1941,
          1942,
          1943,
          1944,
          1945,
          1946,
          1947,
          1948,
          1949,
          1950,
          1951,
          1952,
          1953,
          1954,
          1955,
          1956,
          1957,
          1958,
          1959,
          1960,
          1961,
          1962,
          1963,
          1964,
          1965,
          1966,
          1967,
          1968,
          1969,
          1970,
          1971,
          1972,
          1973,
          1974,
          1975,
          1976,
          1977,
          1978,
          1979,
          1980,
          1981,
          1982,
          1983,
          1984,
          1985,
          1986,
          1987,
          1988,
          1989,
          1990
         ],
         "xaxis": "x",
         "y": [
          37.333333333333336,
          58.22222222222222,
          55.5,
          50.666666666666664,
          34.25,
          55.5,
          52.666666666666664,
          45.44444444444444,
          42.75,
          39.63636363636363,
          50.54545454545455,
          46.285714285714285,
          45.666666666666664,
          64,
          37.25,
          54.57142857142857,
          41.44444444444444,
          42.888888888888886,
          41.57142857142857,
          50.86666666666667,
          48.09090909090909,
          36.5,
          41,
          50.13333333333333,
          44.54545454545455,
          47.2,
          41.666666666666664,
          41.375,
          33.166666666666664,
          34.55555555555556,
          40.72727272727273,
          42.214285714285715,
          38.733333333333334,
          55.285714285714285,
          38.07692307692308,
          51.833333333333336,
          39.904761904761905,
          49.266666666666666,
          41.65,
          46.94736842105263,
          48.17857142857143,
          48.26086956521739,
          50.833333333333336,
          39.69230769230769,
          43.82608695652174,
          51.91304347826087,
          43.94117647058823,
          47.03448275862069,
          42.05555555555556,
          36.42424242424242,
          51.166666666666664,
          47.53846153846154,
          50.4054054054054,
          34.25,
          39.921052631578945,
          51.5,
          40.87096774193548,
          38.86274509803921,
          40.104166666666664,
          41.10891089108911,
          36.93333333333333
         ],
         "yaxis": "y"
        },
        {
         "alignmentgroup": "True",
         "hovertemplate": "variable=Popularity_median<br>Year=%{x}<br>value=%{y}<extra></extra>",
         "legendgroup": "Popularity_median",
         "marker": {
          "color": "#EF553B"
         },
         "name": "Popularity_median",
         "offsetgroup": "Popularity_median",
         "orientation": "v",
         "showlegend": true,
         "textposition": "auto",
         "type": "bar",
         "x": [
          1930,
          1931,
          1932,
          1933,
          1934,
          1935,
          1936,
          1937,
          1938,
          1939,
          1940,
          1941,
          1942,
          1943,
          1944,
          1945,
          1946,
          1947,
          1948,
          1949,
          1950,
          1951,
          1952,
          1953,
          1954,
          1955,
          1956,
          1957,
          1958,
          1959,
          1960,
          1961,
          1962,
          1963,
          1964,
          1965,
          1966,
          1967,
          1968,
          1969,
          1970,
          1971,
          1972,
          1973,
          1974,
          1975,
          1976,
          1977,
          1978,
          1979,
          1980,
          1981,
          1982,
          1983,
          1984,
          1985,
          1986,
          1987,
          1988,
          1989,
          1990
         ],
         "xaxis": "x",
         "y": [
          50,
          64,
          63.5,
          66,
          35.5,
          60.5,
          62,
          45,
          30.5,
          30,
          52,
          38,
          47.5,
          78,
          39.5,
          54,
          42,
          43,
          37,
          62,
          54,
          31.5,
          42,
          57,
          48,
          54.5,
          45,
          42.5,
          33.5,
          26,
          32,
          41,
          35,
          68,
          34,
          55,
          35,
          50,
          34.5,
          48,
          49.5,
          60,
          55,
          39,
          41,
          64,
          41,
          44,
          43,
          32,
          59.5,
          53,
          64,
          29.5,
          36,
          56,
          41,
          40.5,
          41.5,
          41,
          30
         ],
         "yaxis": "y"
        }
       ],
       "layout": {
        "autosize": true,
        "barmode": "group",
        "legend": {
         "title": {
          "text": "variable"
         },
         "tracegroupgap": 0
        },
        "margin": {
         "t": 60
        },
        "template": {
         "data": {
          "bar": [
           {
            "error_x": {
             "color": "#2a3f5f"
            },
            "error_y": {
             "color": "#2a3f5f"
            },
            "marker": {
             "line": {
              "color": "#E5ECF6",
              "width": 0.5
             }
            },
            "type": "bar"
           }
          ],
          "barpolar": [
           {
            "marker": {
             "line": {
              "color": "#E5ECF6",
              "width": 0.5
             }
            },
            "type": "barpolar"
           }
          ],
          "carpet": [
           {
            "aaxis": {
             "endlinecolor": "#2a3f5f",
             "gridcolor": "white",
             "linecolor": "white",
             "minorgridcolor": "white",
             "startlinecolor": "#2a3f5f"
            },
            "baxis": {
             "endlinecolor": "#2a3f5f",
             "gridcolor": "white",
             "linecolor": "white",
             "minorgridcolor": "white",
             "startlinecolor": "#2a3f5f"
            },
            "type": "carpet"
           }
          ],
          "choropleth": [
           {
            "colorbar": {
             "outlinewidth": 0,
             "ticks": ""
            },
            "type": "choropleth"
           }
          ],
          "contour": [
           {
            "colorbar": {
             "outlinewidth": 0,
             "ticks": ""
            },
            "colorscale": [
             [
              0,
              "#0d0887"
             ],
             [
              0.1111111111111111,
              "#46039f"
             ],
             [
              0.2222222222222222,
              "#7201a8"
             ],
             [
              0.3333333333333333,
              "#9c179e"
             ],
             [
              0.4444444444444444,
              "#bd3786"
             ],
             [
              0.5555555555555556,
              "#d8576b"
             ],
             [
              0.6666666666666666,
              "#ed7953"
             ],
             [
              0.7777777777777778,
              "#fb9f3a"
             ],
             [
              0.8888888888888888,
              "#fdca26"
             ],
             [
              1,
              "#f0f921"
             ]
            ],
            "type": "contour"
           }
          ],
          "contourcarpet": [
           {
            "colorbar": {
             "outlinewidth": 0,
             "ticks": ""
            },
            "type": "contourcarpet"
           }
          ],
          "heatmap": [
           {
            "colorbar": {
             "outlinewidth": 0,
             "ticks": ""
            },
            "colorscale": [
             [
              0,
              "#0d0887"
             ],
             [
              0.1111111111111111,
              "#46039f"
             ],
             [
              0.2222222222222222,
              "#7201a8"
             ],
             [
              0.3333333333333333,
              "#9c179e"
             ],
             [
              0.4444444444444444,
              "#bd3786"
             ],
             [
              0.5555555555555556,
              "#d8576b"
             ],
             [
              0.6666666666666666,
              "#ed7953"
             ],
             [
              0.7777777777777778,
              "#fb9f3a"
             ],
             [
              0.8888888888888888,
              "#fdca26"
             ],
             [
              1,
              "#f0f921"
             ]
            ],
            "type": "heatmap"
           }
          ],
          "heatmapgl": [
           {
            "colorbar": {
             "outlinewidth": 0,
             "ticks": ""
            },
            "colorscale": [
             [
              0,
              "#0d0887"
             ],
             [
              0.1111111111111111,
              "#46039f"
             ],
             [
              0.2222222222222222,
              "#7201a8"
             ],
             [
              0.3333333333333333,
              "#9c179e"
             ],
             [
              0.4444444444444444,
              "#bd3786"
             ],
             [
              0.5555555555555556,
              "#d8576b"
             ],
             [
              0.6666666666666666,
              "#ed7953"
             ],
             [
              0.7777777777777778,
              "#fb9f3a"
             ],
             [
              0.8888888888888888,
              "#fdca26"
             ],
             [
              1,
              "#f0f921"
             ]
            ],
            "type": "heatmapgl"
           }
          ],
          "histogram": [
           {
            "marker": {
             "colorbar": {
              "outlinewidth": 0,
              "ticks": ""
             }
            },
            "type": "histogram"
           }
          ],
          "histogram2d": [
           {
            "colorbar": {
             "outlinewidth": 0,
             "ticks": ""
            },
            "colorscale": [
             [
              0,
              "#0d0887"
             ],
             [
              0.1111111111111111,
              "#46039f"
             ],
             [
              0.2222222222222222,
              "#7201a8"
             ],
             [
              0.3333333333333333,
              "#9c179e"
             ],
             [
              0.4444444444444444,
              "#bd3786"
             ],
             [
              0.5555555555555556,
              "#d8576b"
             ],
             [
              0.6666666666666666,
              "#ed7953"
             ],
             [
              0.7777777777777778,
              "#fb9f3a"
             ],
             [
              0.8888888888888888,
              "#fdca26"
             ],
             [
              1,
              "#f0f921"
             ]
            ],
            "type": "histogram2d"
           }
          ],
          "histogram2dcontour": [
           {
            "colorbar": {
             "outlinewidth": 0,
             "ticks": ""
            },
            "colorscale": [
             [
              0,
              "#0d0887"
             ],
             [
              0.1111111111111111,
              "#46039f"
             ],
             [
              0.2222222222222222,
              "#7201a8"
             ],
             [
              0.3333333333333333,
              "#9c179e"
             ],
             [
              0.4444444444444444,
              "#bd3786"
             ],
             [
              0.5555555555555556,
              "#d8576b"
             ],
             [
              0.6666666666666666,
              "#ed7953"
             ],
             [
              0.7777777777777778,
              "#fb9f3a"
             ],
             [
              0.8888888888888888,
              "#fdca26"
             ],
             [
              1,
              "#f0f921"
             ]
            ],
            "type": "histogram2dcontour"
           }
          ],
          "mesh3d": [
           {
            "colorbar": {
             "outlinewidth": 0,
             "ticks": ""
            },
            "type": "mesh3d"
           }
          ],
          "parcoords": [
           {
            "line": {
             "colorbar": {
              "outlinewidth": 0,
              "ticks": ""
             }
            },
            "type": "parcoords"
           }
          ],
          "pie": [
           {
            "automargin": true,
            "type": "pie"
           }
          ],
          "scatter": [
           {
            "marker": {
             "colorbar": {
              "outlinewidth": 0,
              "ticks": ""
             }
            },
            "type": "scatter"
           }
          ],
          "scatter3d": [
           {
            "line": {
             "colorbar": {
              "outlinewidth": 0,
              "ticks": ""
             }
            },
            "marker": {
             "colorbar": {
              "outlinewidth": 0,
              "ticks": ""
             }
            },
            "type": "scatter3d"
           }
          ],
          "scattercarpet": [
           {
            "marker": {
             "colorbar": {
              "outlinewidth": 0,
              "ticks": ""
             }
            },
            "type": "scattercarpet"
           }
          ],
          "scattergeo": [
           {
            "marker": {
             "colorbar": {
              "outlinewidth": 0,
              "ticks": ""
             }
            },
            "type": "scattergeo"
           }
          ],
          "scattergl": [
           {
            "marker": {
             "colorbar": {
              "outlinewidth": 0,
              "ticks": ""
             }
            },
            "type": "scattergl"
           }
          ],
          "scattermapbox": [
           {
            "marker": {
             "colorbar": {
              "outlinewidth": 0,
              "ticks": ""
             }
            },
            "type": "scattermapbox"
           }
          ],
          "scatterpolar": [
           {
            "marker": {
             "colorbar": {
              "outlinewidth": 0,
              "ticks": ""
             }
            },
            "type": "scatterpolar"
           }
          ],
          "scatterpolargl": [
           {
            "marker": {
             "colorbar": {
              "outlinewidth": 0,
              "ticks": ""
             }
            },
            "type": "scatterpolargl"
           }
          ],
          "scatterternary": [
           {
            "marker": {
             "colorbar": {
              "outlinewidth": 0,
              "ticks": ""
             }
            },
            "type": "scatterternary"
           }
          ],
          "surface": [
           {
            "colorbar": {
             "outlinewidth": 0,
             "ticks": ""
            },
            "colorscale": [
             [
              0,
              "#0d0887"
             ],
             [
              0.1111111111111111,
              "#46039f"
             ],
             [
              0.2222222222222222,
              "#7201a8"
             ],
             [
              0.3333333333333333,
              "#9c179e"
             ],
             [
              0.4444444444444444,
              "#bd3786"
             ],
             [
              0.5555555555555556,
              "#d8576b"
             ],
             [
              0.6666666666666666,
              "#ed7953"
             ],
             [
              0.7777777777777778,
              "#fb9f3a"
             ],
             [
              0.8888888888888888,
              "#fdca26"
             ],
             [
              1,
              "#f0f921"
             ]
            ],
            "type": "surface"
           }
          ],
          "table": [
           {
            "cells": {
             "fill": {
              "color": "#EBF0F8"
             },
             "line": {
              "color": "white"
             }
            },
            "header": {
             "fill": {
              "color": "#C8D4E3"
             },
             "line": {
              "color": "white"
             }
            },
            "type": "table"
           }
          ]
         },
         "layout": {
          "annotationdefaults": {
           "arrowcolor": "#2a3f5f",
           "arrowhead": 0,
           "arrowwidth": 1
          },
          "autotypenumbers": "strict",
          "coloraxis": {
           "colorbar": {
            "outlinewidth": 0,
            "ticks": ""
           }
          },
          "colorscale": {
           "diverging": [
            [
             0,
             "#8e0152"
            ],
            [
             0.1,
             "#c51b7d"
            ],
            [
             0.2,
             "#de77ae"
            ],
            [
             0.3,
             "#f1b6da"
            ],
            [
             0.4,
             "#fde0ef"
            ],
            [
             0.5,
             "#f7f7f7"
            ],
            [
             0.6,
             "#e6f5d0"
            ],
            [
             0.7,
             "#b8e186"
            ],
            [
             0.8,
             "#7fbc41"
            ],
            [
             0.9,
             "#4d9221"
            ],
            [
             1,
             "#276419"
            ]
           ],
           "sequential": [
            [
             0,
             "#0d0887"
            ],
            [
             0.1111111111111111,
             "#46039f"
            ],
            [
             0.2222222222222222,
             "#7201a8"
            ],
            [
             0.3333333333333333,
             "#9c179e"
            ],
            [
             0.4444444444444444,
             "#bd3786"
            ],
            [
             0.5555555555555556,
             "#d8576b"
            ],
            [
             0.6666666666666666,
             "#ed7953"
            ],
            [
             0.7777777777777778,
             "#fb9f3a"
            ],
            [
             0.8888888888888888,
             "#fdca26"
            ],
            [
             1,
             "#f0f921"
            ]
           ],
           "sequentialminus": [
            [
             0,
             "#0d0887"
            ],
            [
             0.1111111111111111,
             "#46039f"
            ],
            [
             0.2222222222222222,
             "#7201a8"
            ],
            [
             0.3333333333333333,
             "#9c179e"
            ],
            [
             0.4444444444444444,
             "#bd3786"
            ],
            [
             0.5555555555555556,
             "#d8576b"
            ],
            [
             0.6666666666666666,
             "#ed7953"
            ],
            [
             0.7777777777777778,
             "#fb9f3a"
            ],
            [
             0.8888888888888888,
             "#fdca26"
            ],
            [
             1,
             "#f0f921"
            ]
           ]
          },
          "colorway": [
           "#636efa",
           "#EF553B",
           "#00cc96",
           "#ab63fa",
           "#FFA15A",
           "#19d3f3",
           "#FF6692",
           "#B6E880",
           "#FF97FF",
           "#FECB52"
          ],
          "font": {
           "color": "#2a3f5f"
          },
          "geo": {
           "bgcolor": "white",
           "lakecolor": "white",
           "landcolor": "#E5ECF6",
           "showlakes": true,
           "showland": true,
           "subunitcolor": "white"
          },
          "hoverlabel": {
           "align": "left"
          },
          "hovermode": "closest",
          "mapbox": {
           "style": "light"
          },
          "paper_bgcolor": "white",
          "plot_bgcolor": "#E5ECF6",
          "polar": {
           "angularaxis": {
            "gridcolor": "white",
            "linecolor": "white",
            "ticks": ""
           },
           "bgcolor": "#E5ECF6",
           "radialaxis": {
            "gridcolor": "white",
            "linecolor": "white",
            "ticks": ""
           }
          },
          "scene": {
           "xaxis": {
            "backgroundcolor": "#E5ECF6",
            "gridcolor": "white",
            "gridwidth": 2,
            "linecolor": "white",
            "showbackground": true,
            "ticks": "",
            "zerolinecolor": "white"
           },
           "yaxis": {
            "backgroundcolor": "#E5ECF6",
            "gridcolor": "white",
            "gridwidth": 2,
            "linecolor": "white",
            "showbackground": true,
            "ticks": "",
            "zerolinecolor": "white"
           },
           "zaxis": {
            "backgroundcolor": "#E5ECF6",
            "gridcolor": "white",
            "gridwidth": 2,
            "linecolor": "white",
            "showbackground": true,
            "ticks": "",
            "zerolinecolor": "white"
           }
          },
          "shapedefaults": {
           "line": {
            "color": "#2a3f5f"
           }
          },
          "ternary": {
           "aaxis": {
            "gridcolor": "white",
            "linecolor": "white",
            "ticks": ""
           },
           "baxis": {
            "gridcolor": "white",
            "linecolor": "white",
            "ticks": ""
           },
           "bgcolor": "#E5ECF6",
           "caxis": {
            "gridcolor": "white",
            "linecolor": "white",
            "ticks": ""
           }
          },
          "title": {
           "x": 0.05
          },
          "xaxis": {
           "automargin": true,
           "gridcolor": "white",
           "linecolor": "white",
           "ticks": "",
           "title": {
            "standoff": 15
           },
           "zerolinecolor": "white",
           "zerolinewidth": 2
          },
          "yaxis": {
           "automargin": true,
           "gridcolor": "white",
           "linecolor": "white",
           "ticks": "",
           "title": {
            "standoff": 15
           },
           "zerolinecolor": "white",
           "zerolinewidth": 2
          }
         }
        },
        "xaxis": {
         "anchor": "y",
         "autorange": true,
         "domain": [
          0,
          1
         ],
         "range": [
          1929.5,
          1990.5
         ],
         "title": {
          "text": "Year"
         },
         "type": "linear"
        },
        "yaxis": {
         "anchor": "x",
         "autorange": true,
         "domain": [
          0,
          1
         ],
         "range": [
          0,
          82.10526315789474
         ],
         "title": {
          "text": "value"
         },
         "type": "linear"
        }
       }
      },
      "image/png": "[encoded data removed]",
      "text/html": [
       "<div>                            <div id=\"e2c484af-a3f6-4cb4-9541-da16f85dc3eb\" class=\"plotly-graph-div\" style=\"height:525px; width:100%;\"></div>            <script type=\"text/javascript\">                require([\"plotly\"], function(Plotly) {                    window.PLOTLYENV=window.PLOTLYENV || {};                                    if (document.getElementById(\"e2c484af-a3f6-4cb4-9541-da16f85dc3eb\")) {                    Plotly.newPlot(                        \"e2c484af-a3f6-4cb4-9541-da16f85dc3eb\",                        [{\"alignmentgroup\": \"True\", \"hovertemplate\": \"variable=Popularity_mean<br>Year=%{x}<br>value=%{y}<extra></extra>\", \"legendgroup\": \"Popularity_mean\", \"marker\": {\"color\": \"#636efa\"}, \"name\": \"Popularity_mean\", \"offsetgroup\": \"Popularity_mean\", \"orientation\": \"v\", \"showlegend\": true, \"textposition\": \"auto\", \"type\": \"bar\", \"x\": [1930, 1931, 1932, 1933, 1934, 1935, 1936, 1937, 1938, 1939, 1940, 1941, 1942, 1943, 1944, 1945, 1946, 1947, 1948, 1949, 1950, 1951, 1952, 1953, 1954, 1955, 1956, 1957, 1958, 1959, 1960, 1961, 1962, 1963, 1964, 1965, 1966, 1967, 1968, 1969, 1970, 1971, 1972, 1973, 1974, 1975, 1976, 1977, 1978, 1979, 1980, 1981, 1982, 1983, 1984, 1985, 1986, 1987, 1988, 1989, 1990], \"xaxis\": \"x\", \"y\": [37.333333333333336, 58.22222222222222, 55.5, 50.666666666666664, 34.25, 55.5, 52.666666666666664, 45.44444444444444, 42.75, 39.63636363636363, 50.54545454545455, 46.285714285714285, 45.666666666666664, 64.0, 37.25, 54.57142857142857, 41.44444444444444, 42.888888888888886, 41.57142857142857, 50.86666666666667, 48.09090909090909, 36.5, 41.0, 50.13333333333333, 44.54545454545455, 47.2, 41.666666666666664, 41.375, 33.166666666666664, 34.55555555555556, 40.72727272727273, 42.214285714285715, 38.733333333333334, 55.285714285714285, 38.07692307692308, 51.833333333333336, 39.904761904761905, 49.266666666666666, 41.65, 46.94736842105263, 48.17857142857143, 48.26086956521739, 50.833333333333336, 39.69230769230769, 43.82608695652174, 51.91304347826087, 43.94117647058823, 47.03448275862069, 42.05555555555556, 36.42424242424242, 51.166666666666664, 47.53846153846154, 50.4054054054054, 34.25, 39.921052631578945, 51.5, 40.87096774193548, 38.86274509803921, 40.104166666666664, 41.10891089108911, 36.93333333333333], \"yaxis\": \"y\"}, {\"alignmentgroup\": \"True\", \"hovertemplate\": \"variable=Popularity_median<br>Year=%{x}<br>value=%{y}<extra></extra>\", \"legendgroup\": \"Popularity_median\", \"marker\": {\"color\": \"#EF553B\"}, \"name\": \"Popularity_median\", \"offsetgroup\": \"Popularity_median\", \"orientation\": \"v\", \"showlegend\": true, \"textposition\": \"auto\", \"type\": \"bar\", \"x\": [1930, 1931, 1932, 1933, 1934, 1935, 1936, 1937, 1938, 1939, 1940, 1941, 1942, 1943, 1944, 1945, 1946, 1947, 1948, 1949, 1950, 1951, 1952, 1953, 1954, 1955, 1956, 1957, 1958, 1959, 1960, 1961, 1962, 1963, 1964, 1965, 1966, 1967, 1968, 1969, 1970, 1971, 1972, 1973, 1974, 1975, 1976, 1977, 1978, 1979, 1980, 1981, 1982, 1983, 1984, 1985, 1986, 1987, 1988, 1989, 1990], \"xaxis\": \"x\", \"y\": [50.0, 64.0, 63.5, 66.0, 35.5, 60.5, 62.0, 45.0, 30.5, 30.0, 52.0, 38.0, 47.5, 78.0, 39.5, 54.0, 42.0, 43.0, 37.0, 62.0, 54.0, 31.5, 42.0, 57.0, 48.0, 54.5, 45.0, 42.5, 33.5, 26.0, 32.0, 41.0, 35.0, 68.0, 34.0, 55.0, 35.0, 50.0, 34.5, 48.0, 49.5, 60.0, 55.0, 39.0, 41.0, 64.0, 41.0, 44.0, 43.0, 32.0, 59.5, 53.0, 64.0, 29.5, 36.0, 56.0, 41.0, 40.5, 41.5, 41.0, 30.0], \"yaxis\": \"y\"}],                        {\"barmode\": \"group\", \"legend\": {\"title\": {\"text\": \"variable\"}, \"tracegroupgap\": 0}, \"margin\": {\"t\": 60}, \"template\": {\"data\": {\"bar\": [{\"error_x\": {\"color\": \"#2a3f5f\"}, \"error_y\": {\"color\": \"#2a3f5f\"}, \"marker\": {\"line\": {\"color\": \"#E5ECF6\", \"width\": 0.5}}, \"type\": \"bar\"}], \"barpolar\": [{\"marker\": {\"line\": {\"color\": \"#E5ECF6\", \"width\": 0.5}}, \"type\": \"barpolar\"}], \"carpet\": [{\"aaxis\": {\"endlinecolor\": \"#2a3f5f\", \"gridcolor\": \"white\", \"linecolor\": \"white\", \"minorgridcolor\": \"white\", \"startlinecolor\": \"#2a3f5f\"}, \"baxis\": {\"endlinecolor\": \"#2a3f5f\", \"gridcolor\": \"white\", \"linecolor\": \"white\", \"minorgridcolor\": \"white\", \"startlinecolor\": \"#2a3f5f\"}, \"type\": \"carpet\"}], \"choropleth\": [{\"colorbar\": {\"outlinewidth\": 0, \"ticks\": \"\"}, \"type\": \"choropleth\"}], \"contour\": [{\"colorbar\": {\"outlinewidth\": 0, \"ticks\": \"\"}, \"colorscale\": [[0.0, \"#0d0887\"], [0.1111111111111111, \"#46039f\"], [0.2222222222222222, \"#7201a8\"], [0.3333333333333333, \"#9c179e\"], [0.4444444444444444, \"#bd3786\"], [0.5555555555555556, \"#d8576b\"], [0.6666666666666666, \"#ed7953\"], [0.7777777777777778, \"#fb9f3a\"], [0.8888888888888888, \"#fdca26\"], [1.0, \"#f0f921\"]], \"type\": \"contour\"}], \"contourcarpet\": [{\"colorbar\": {\"outlinewidth\": 0, \"ticks\": \"\"}, \"type\": \"contourcarpet\"}], \"heatmap\": [{\"colorbar\": {\"outlinewidth\": 0, \"ticks\": \"\"}, \"colorscale\": [[0.0, \"#0d0887\"], [0.1111111111111111, \"#46039f\"], [0.2222222222222222, \"#7201a8\"], [0.3333333333333333, \"#9c179e\"], [0.4444444444444444, \"#bd3786\"], [0.5555555555555556, \"#d8576b\"], [0.6666666666666666, \"#ed7953\"], [0.7777777777777778, \"#fb9f3a\"], [0.8888888888888888, \"#fdca26\"], [1.0, \"#f0f921\"]], \"type\": \"heatmap\"}], \"heatmapgl\": [{\"colorbar\": {\"outlinewidth\": 0, \"ticks\": \"\"}, \"colorscale\": [[0.0, \"#0d0887\"], [0.1111111111111111, \"#46039f\"], [0.2222222222222222, \"#7201a8\"], [0.3333333333333333, \"#9c179e\"], [0.4444444444444444, \"#bd3786\"], [0.5555555555555556, \"#d8576b\"], [0.6666666666666666, \"#ed7953\"], [0.7777777777777778, \"#fb9f3a\"], [0.8888888888888888, \"#fdca26\"], [1.0, \"#f0f921\"]], \"type\": \"heatmapgl\"}], \"histogram\": [{\"marker\": {\"colorbar\": {\"outlinewidth\": 0, \"ticks\": \"\"}}, \"type\": \"histogram\"}], \"histogram2d\": [{\"colorbar\": {\"outlinewidth\": 0, \"ticks\": \"\"}, \"colorscale\": [[0.0, \"#0d0887\"], [0.1111111111111111, \"#46039f\"], [0.2222222222222222, \"#7201a8\"], [0.3333333333333333, \"#9c179e\"], [0.4444444444444444, \"#bd3786\"], [0.5555555555555556, \"#d8576b\"], [0.6666666666666666, \"#ed7953\"], [0.7777777777777778, \"#fb9f3a\"], [0.8888888888888888, \"#fdca26\"], [1.0, \"#f0f921\"]], \"type\": \"histogram2d\"}], \"histogram2dcontour\": [{\"colorbar\": {\"outlinewidth\": 0, \"ticks\": \"\"}, \"colorscale\": [[0.0, \"#0d0887\"], [0.1111111111111111, \"#46039f\"], [0.2222222222222222, \"#7201a8\"], [0.3333333333333333, \"#9c179e\"], [0.4444444444444444, \"#bd3786\"], [0.5555555555555556, \"#d8576b\"], [0.6666666666666666, \"#ed7953\"], [0.7777777777777778, \"#fb9f3a\"], [0.8888888888888888, \"#fdca26\"], [1.0, \"#f0f921\"]], \"type\": \"histogram2dcontour\"}], \"mesh3d\": [{\"colorbar\": {\"outlinewidth\": 0, \"ticks\": \"\"}, \"type\": \"mesh3d\"}], \"parcoords\": [{\"line\": {\"colorbar\": {\"outlinewidth\": 0, \"ticks\": \"\"}}, \"type\": \"parcoords\"}], \"pie\": [{\"automargin\": true, \"type\": \"pie\"}], \"scatter\": [{\"marker\": {\"colorbar\": {\"outlinewidth\": 0, \"ticks\": \"\"}}, \"type\": \"scatter\"}], \"scatter3d\": [{\"line\": {\"colorbar\": {\"outlinewidth\": 0, \"ticks\": \"\"}}, \"marker\": {\"colorbar\": {\"outlinewidth\": 0, \"ticks\": \"\"}}, \"type\": \"scatter3d\"}], \"scattercarpet\": [{\"marker\": {\"colorbar\": {\"outlinewidth\": 0, \"ticks\": \"\"}}, \"type\": \"scattercarpet\"}], \"scattergeo\": [{\"marker\": {\"colorbar\": {\"outlinewidth\": 0, \"ticks\": \"\"}}, \"type\": \"scattergeo\"}], \"scattergl\": [{\"marker\": {\"colorbar\": {\"outlinewidth\": 0, \"ticks\": \"\"}}, \"type\": \"scattergl\"}], \"scattermapbox\": [{\"marker\": {\"colorbar\": {\"outlinewidth\": 0, \"ticks\": \"\"}}, \"type\": \"scattermapbox\"}], \"scatterpolar\": [{\"marker\": {\"colorbar\": {\"outlinewidth\": 0, \"ticks\": \"\"}}, \"type\": \"scatterpolar\"}], \"scatterpolargl\": [{\"marker\": {\"colorbar\": {\"outlinewidth\": 0, \"ticks\": \"\"}}, \"type\": \"scatterpolargl\"}], \"scatterternary\": [{\"marker\": {\"colorbar\": {\"outlinewidth\": 0, \"ticks\": \"\"}}, \"type\": \"scatterternary\"}], \"surface\": [{\"colorbar\": {\"outlinewidth\": 0, \"ticks\": \"\"}, \"colorscale\": [[0.0, \"#0d0887\"], [0.1111111111111111, \"#46039f\"], [0.2222222222222222, \"#7201a8\"], [0.3333333333333333, \"#9c179e\"], [0.4444444444444444, \"#bd3786\"], [0.5555555555555556, \"#d8576b\"], [0.6666666666666666, \"#ed7953\"], [0.7777777777777778, \"#fb9f3a\"], [0.8888888888888888, \"#fdca26\"], [1.0, \"#f0f921\"]], \"type\": \"surface\"}], \"table\": [{\"cells\": {\"fill\": {\"color\": \"#EBF0F8\"}, \"line\": {\"color\": \"white\"}}, \"header\": {\"fill\": {\"color\": \"#C8D4E3\"}, \"line\": {\"color\": \"white\"}}, \"type\": \"table\"}]}, \"layout\": {\"annotationdefaults\": {\"arrowcolor\": \"#2a3f5f\", \"arrowhead\": 0, \"arrowwidth\": 1}, \"autotypenumbers\": \"strict\", \"coloraxis\": {\"colorbar\": {\"outlinewidth\": 0, \"ticks\": \"\"}}, \"colorscale\": {\"diverging\": [[0, \"#8e0152\"], [0.1, \"#c51b7d\"], [0.2, \"#de77ae\"], [0.3, \"#f1b6da\"], [0.4, \"#fde0ef\"], [0.5, \"#f7f7f7\"], [0.6, \"#e6f5d0\"], [0.7, \"#b8e186\"], [0.8, \"#7fbc41\"], [0.9, \"#4d9221\"], [1, \"#276419\"]], \"sequential\": [[0.0, \"#0d0887\"], [0.1111111111111111, \"#46039f\"], [0.2222222222222222, \"#7201a8\"], [0.3333333333333333, \"#9c179e\"], [0.4444444444444444, \"#bd3786\"], [0.5555555555555556, \"#d8576b\"], [0.6666666666666666, \"#ed7953\"], [0.7777777777777778, \"#fb9f3a\"], [0.8888888888888888, \"#fdca26\"], [1.0, \"#f0f921\"]], \"sequentialminus\": [[0.0, \"#0d0887\"], [0.1111111111111111, \"#46039f\"], [0.2222222222222222, \"#7201a8\"], [0.3333333333333333, \"#9c179e\"], [0.4444444444444444, \"#bd3786\"], [0.5555555555555556, \"#d8576b\"], [0.6666666666666666, \"#ed7953\"], [0.7777777777777778, \"#fb9f3a\"], [0.8888888888888888, \"#fdca26\"], [1.0, \"#f0f921\"]]}, \"colorway\": [\"#636efa\", \"#EF553B\", \"#00cc96\", \"#ab63fa\", \"#FFA15A\", \"#19d3f3\", \"#FF6692\", \"#B6E880\", \"#FF97FF\", \"#FECB52\"], \"font\": {\"color\": \"#2a3f5f\"}, \"geo\": {\"bgcolor\": \"white\", \"lakecolor\": \"white\", \"landcolor\": \"#E5ECF6\", \"showlakes\": true, \"showland\": true, \"subunitcolor\": \"white\"}, \"hoverlabel\": {\"align\": \"left\"}, \"hovermode\": \"closest\", \"mapbox\": {\"style\": \"light\"}, \"paper_bgcolor\": \"white\", \"plot_bgcolor\": \"#E5ECF6\", \"polar\": {\"angularaxis\": {\"gridcolor\": \"white\", \"linecolor\": \"white\", \"ticks\": \"\"}, \"bgcolor\": \"#E5ECF6\", \"radialaxis\": {\"gridcolor\": \"white\", \"linecolor\": \"white\", \"ticks\": \"\"}}, \"scene\": {\"xaxis\": {\"backgroundcolor\": \"#E5ECF6\", \"gridcolor\": \"white\", \"gridwidth\": 2, \"linecolor\": \"white\", \"showbackground\": true, \"ticks\": \"\", \"zerolinecolor\": \"white\"}, \"yaxis\": {\"backgroundcolor\": \"#E5ECF6\", \"gridcolor\": \"white\", \"gridwidth\": 2, \"linecolor\": \"white\", \"showbackground\": true, \"ticks\": \"\", \"zerolinecolor\": \"white\"}, \"zaxis\": {\"backgroundcolor\": \"#E5ECF6\", \"gridcolor\": \"white\", \"gridwidth\": 2, \"linecolor\": \"white\", \"showbackground\": true, \"ticks\": \"\", \"zerolinecolor\": \"white\"}}, \"shapedefaults\": {\"line\": {\"color\": \"#2a3f5f\"}}, \"ternary\": {\"aaxis\": {\"gridcolor\": \"white\", \"linecolor\": \"white\", \"ticks\": \"\"}, \"baxis\": {\"gridcolor\": \"white\", \"linecolor\": \"white\", \"ticks\": \"\"}, \"bgcolor\": \"#E5ECF6\", \"caxis\": {\"gridcolor\": \"white\", \"linecolor\": \"white\", \"ticks\": \"\"}}, \"title\": {\"x\": 0.05}, \"xaxis\": {\"automargin\": true, \"gridcolor\": \"white\", \"linecolor\": \"white\", \"ticks\": \"\", \"title\": {\"standoff\": 15}, \"zerolinecolor\": \"white\", \"zerolinewidth\": 2}, \"yaxis\": {\"automargin\": true, \"gridcolor\": \"white\", \"linecolor\": \"white\", \"ticks\": \"\", \"title\": {\"standoff\": 15}, \"zerolinecolor\": \"white\", \"zerolinewidth\": 2}}}, \"xaxis\": {\"anchor\": \"y\", \"domain\": [0.0, 1.0], \"title\": {\"text\": \"Year\"}}, \"yaxis\": {\"anchor\": \"x\", \"domain\": [0.0, 1.0], \"title\": {\"text\": \"value\"}}},                        {\"responsive\": true}                    ).then(function(){\n",
       "                            \n",
       "var gd = document.getElementById('e2c484af-a3f6-4cb4-9541-da16f85dc3eb');\n",
       "var x = new MutationObserver(function (mutations, observer) {{\n",
       "        var display = window.getComputedStyle(gd).display;\n",
       "        if (!display || display === 'none') {{\n",
       "            console.log([gd, 'removed!']);\n",
       "            Plotly.purge(gd);\n",
       "            observer.disconnect();\n",
       "        }}\n",
       "}});\n",
       "\n",
       "// Listen for the removal of the full notebook cells\n",
       "var notebookContainer = gd.closest('#notebook-container');\n",
       "if (notebookContainer) {{\n",
       "    x.observe(notebookContainer, {childList: true});\n",
       "}}\n",
       "\n",
       "// Listen for the clearing of the current output cell\n",
       "var outputEl = gd.closest('.output');\n",
       "if (outputEl) {{\n",
       "    x.observe(outputEl, {childList: true});\n",
       "}}\n",
       "\n",
       "                        })                };                });            </script>        </div>"
      ]
     },
     "metadata": {},
     "output_type": "display_data"
    }
   ],
   "source": [
    "fig = px.bar(df_yvp, x='Year', y=['Popularity_mean', 'Popularity_median'], barmode = 'group')\n",
    "fig.show()"
   ]
  },
  {
   "cell_type": "markdown",
   "id": "72260707-e147-4ec4-aead-258da8ac7d33",
   "metadata": {},
   "source": [
    "As I'm looking at the data, I'm noticing that the mean (average) and median are not always the same. \n",
    "\n",
    "***Your Turn - Do some research online and write below why this can be? What does this tell you about the meaning and appropriateness of each number?***\n",
    "\n",
    "- Outliers may exist which might mean why the mean is higher or lower than the median\n",
    "- There are many entries for a specific year, so it is possible that a median may be skewed because there are less entires and therefore a more biased median.\n",
    "..."
   ]
  },
  {
   "cell_type": "markdown",
   "id": "75408272-c30e-4c8e-99ed-0cdf9ce23434",
   "metadata": {},
   "source": [
    "Now for some more plots. I'm wondering if there is a relationship between the number of films in a given year and the median Popularity. I'm comparing two series of numeric data so I'm going to use [scatter charts](https://plotly.com/python/line-and-scatter/). "
   ]
  },
  {
   "cell_type": "code",
   "execution_count": 20,
   "id": "7dd59b92-3be5-43fc-a154-1a5258d1736f",
   "metadata": {},
   "outputs": [
    {
     "data": {
      "application/vnd.plotly.v1+json": {
       "config": {
        "plotlyServerURL": "https://plot.ly"
       },
       "data": [
        {
         "hovertemplate": "Popularity_count=%{x}<br>Popularity_median=%{y}<extra></extra>",
         "legendgroup": "",
         "marker": {
          "color": "#636efa",
          "symbol": "circle"
         },
         "mode": "markers",
         "name": "",
         "orientation": "v",
         "showlegend": false,
         "type": "scatter",
         "x": [
          3,
          9,
          8,
          3,
          4,
          8,
          6,
          9,
          8,
          11,
          11,
          7,
          6,
          8,
          4,
          7,
          9,
          9,
          14,
          15,
          11,
          6,
          10,
          15,
          11,
          20,
          15,
          16,
          12,
          9,
          11,
          14,
          15,
          14,
          13,
          12,
          21,
          15,
          20,
          19,
          28,
          23,
          24,
          26,
          23,
          23,
          17,
          29,
          18,
          33,
          30,
          26,
          37,
          40,
          38,
          42,
          93,
          102,
          96,
          101,
          105
         ],
         "xaxis": "x",
         "y": [
          50,
          64,
          63.5,
          66,
          35.5,
          60.5,
          62,
          45,
          30.5,
          30,
          52,
          38,
          47.5,
          78,
          39.5,
          54,
          42,
          43,
          37,
          62,
          54,
          31.5,
          42,
          57,
          48,
          54.5,
          45,
          42.5,
          33.5,
          26,
          32,
          41,
          35,
          68,
          34,
          55,
          35,
          50,
          34.5,
          48,
          49.5,
          60,
          55,
          39,
          41,
          64,
          41,
          44,
          43,
          32,
          59.5,
          53,
          64,
          29.5,
          36,
          56,
          41,
          40.5,
          41.5,
          41,
          30
         ],
         "yaxis": "y"
        }
       ],
       "layout": {
        "autosize": true,
        "legend": {
         "tracegroupgap": 0
        },
        "margin": {
         "t": 60
        },
        "template": {
         "data": {
          "bar": [
           {
            "error_x": {
             "color": "#2a3f5f"
            },
            "error_y": {
             "color": "#2a3f5f"
            },
            "marker": {
             "line": {
              "color": "#E5ECF6",
              "width": 0.5
             }
            },
            "type": "bar"
           }
          ],
          "barpolar": [
           {
            "marker": {
             "line": {
              "color": "#E5ECF6",
              "width": 0.5
             }
            },
            "type": "barpolar"
           }
          ],
          "carpet": [
           {
            "aaxis": {
             "endlinecolor": "#2a3f5f",
             "gridcolor": "white",
             "linecolor": "white",
             "minorgridcolor": "white",
             "startlinecolor": "#2a3f5f"
            },
            "baxis": {
             "endlinecolor": "#2a3f5f",
             "gridcolor": "white",
             "linecolor": "white",
             "minorgridcolor": "white",
             "startlinecolor": "#2a3f5f"
            },
            "type": "carpet"
           }
          ],
          "choropleth": [
           {
            "colorbar": {
             "outlinewidth": 0,
             "ticks": ""
            },
            "type": "choropleth"
           }
          ],
          "contour": [
           {
            "colorbar": {
             "outlinewidth": 0,
             "ticks": ""
            },
            "colorscale": [
             [
              0,
              "#0d0887"
             ],
             [
              0.1111111111111111,
              "#46039f"
             ],
             [
              0.2222222222222222,
              "#7201a8"
             ],
             [
              0.3333333333333333,
              "#9c179e"
             ],
             [
              0.4444444444444444,
              "#bd3786"
             ],
             [
              0.5555555555555556,
              "#d8576b"
             ],
             [
              0.6666666666666666,
              "#ed7953"
             ],
             [
              0.7777777777777778,
              "#fb9f3a"
             ],
             [
              0.8888888888888888,
              "#fdca26"
             ],
             [
              1,
              "#f0f921"
             ]
            ],
            "type": "contour"
           }
          ],
          "contourcarpet": [
           {
            "colorbar": {
             "outlinewidth": 0,
             "ticks": ""
            },
            "type": "contourcarpet"
           }
          ],
          "heatmap": [
           {
            "colorbar": {
             "outlinewidth": 0,
             "ticks": ""
            },
            "colorscale": [
             [
              0,
              "#0d0887"
             ],
             [
              0.1111111111111111,
              "#46039f"
             ],
             [
              0.2222222222222222,
              "#7201a8"
             ],
             [
              0.3333333333333333,
              "#9c179e"
             ],
             [
              0.4444444444444444,
              "#bd3786"
             ],
             [
              0.5555555555555556,
              "#d8576b"
             ],
             [
              0.6666666666666666,
              "#ed7953"
             ],
             [
              0.7777777777777778,
              "#fb9f3a"
             ],
             [
              0.8888888888888888,
              "#fdca26"
             ],
             [
              1,
              "#f0f921"
             ]
            ],
            "type": "heatmap"
           }
          ],
          "heatmapgl": [
           {
            "colorbar": {
             "outlinewidth": 0,
             "ticks": ""
            },
            "colorscale": [
             [
              0,
              "#0d0887"
             ],
             [
              0.1111111111111111,
              "#46039f"
             ],
             [
              0.2222222222222222,
              "#7201a8"
             ],
             [
              0.3333333333333333,
              "#9c179e"
             ],
             [
              0.4444444444444444,
              "#bd3786"
             ],
             [
              0.5555555555555556,
              "#d8576b"
             ],
             [
              0.6666666666666666,
              "#ed7953"
             ],
             [
              0.7777777777777778,
              "#fb9f3a"
             ],
             [
              0.8888888888888888,
              "#fdca26"
             ],
             [
              1,
              "#f0f921"
             ]
            ],
            "type": "heatmapgl"
           }
          ],
          "histogram": [
           {
            "marker": {
             "colorbar": {
              "outlinewidth": 0,
              "ticks": ""
             }
            },
            "type": "histogram"
           }
          ],
          "histogram2d": [
           {
            "colorbar": {
             "outlinewidth": 0,
             "ticks": ""
            },
            "colorscale": [
             [
              0,
              "#0d0887"
             ],
             [
              0.1111111111111111,
              "#46039f"
             ],
             [
              0.2222222222222222,
              "#7201a8"
             ],
             [
              0.3333333333333333,
              "#9c179e"
             ],
             [
              0.4444444444444444,
              "#bd3786"
             ],
             [
              0.5555555555555556,
              "#d8576b"
             ],
             [
              0.6666666666666666,
              "#ed7953"
             ],
             [
              0.7777777777777778,
              "#fb9f3a"
             ],
             [
              0.8888888888888888,
              "#fdca26"
             ],
             [
              1,
              "#f0f921"
             ]
            ],
            "type": "histogram2d"
           }
          ],
          "histogram2dcontour": [
           {
            "colorbar": {
             "outlinewidth": 0,
             "ticks": ""
            },
            "colorscale": [
             [
              0,
              "#0d0887"
             ],
             [
              0.1111111111111111,
              "#46039f"
             ],
             [
              0.2222222222222222,
              "#7201a8"
             ],
             [
              0.3333333333333333,
              "#9c179e"
             ],
             [
              0.4444444444444444,
              "#bd3786"
             ],
             [
              0.5555555555555556,
              "#d8576b"
             ],
             [
              0.6666666666666666,
              "#ed7953"
             ],
             [
              0.7777777777777778,
              "#fb9f3a"
             ],
             [
              0.8888888888888888,
              "#fdca26"
             ],
             [
              1,
              "#f0f921"
             ]
            ],
            "type": "histogram2dcontour"
           }
          ],
          "mesh3d": [
           {
            "colorbar": {
             "outlinewidth": 0,
             "ticks": ""
            },
            "type": "mesh3d"
           }
          ],
          "parcoords": [
           {
            "line": {
             "colorbar": {
              "outlinewidth": 0,
              "ticks": ""
             }
            },
            "type": "parcoords"
           }
          ],
          "pie": [
           {
            "automargin": true,
            "type": "pie"
           }
          ],
          "scatter": [
           {
            "marker": {
             "colorbar": {
              "outlinewidth": 0,
              "ticks": ""
             }
            },
            "type": "scatter"
           }
          ],
          "scatter3d": [
           {
            "line": {
             "colorbar": {
              "outlinewidth": 0,
              "ticks": ""
             }
            },
            "marker": {
             "colorbar": {
              "outlinewidth": 0,
              "ticks": ""
             }
            },
            "type": "scatter3d"
           }
          ],
          "scattercarpet": [
           {
            "marker": {
             "colorbar": {
              "outlinewidth": 0,
              "ticks": ""
             }
            },
            "type": "scattercarpet"
           }
          ],
          "scattergeo": [
           {
            "marker": {
             "colorbar": {
              "outlinewidth": 0,
              "ticks": ""
             }
            },
            "type": "scattergeo"
           }
          ],
          "scattergl": [
           {
            "marker": {
             "colorbar": {
              "outlinewidth": 0,
              "ticks": ""
             }
            },
            "type": "scattergl"
           }
          ],
          "scattermapbox": [
           {
            "marker": {
             "colorbar": {
              "outlinewidth": 0,
              "ticks": ""
             }
            },
            "type": "scattermapbox"
           }
          ],
          "scatterpolar": [
           {
            "marker": {
             "colorbar": {
              "outlinewidth": 0,
              "ticks": ""
             }
            },
            "type": "scatterpolar"
           }
          ],
          "scatterpolargl": [
           {
            "marker": {
             "colorbar": {
              "outlinewidth": 0,
              "ticks": ""
             }
            },
            "type": "scatterpolargl"
           }
          ],
          "scatterternary": [
           {
            "marker": {
             "colorbar": {
              "outlinewidth": 0,
              "ticks": ""
             }
            },
            "type": "scatterternary"
           }
          ],
          "surface": [
           {
            "colorbar": {
             "outlinewidth": 0,
             "ticks": ""
            },
            "colorscale": [
             [
              0,
              "#0d0887"
             ],
             [
              0.1111111111111111,
              "#46039f"
             ],
             [
              0.2222222222222222,
              "#7201a8"
             ],
             [
              0.3333333333333333,
              "#9c179e"
             ],
             [
              0.4444444444444444,
              "#bd3786"
             ],
             [
              0.5555555555555556,
              "#d8576b"
             ],
             [
              0.6666666666666666,
              "#ed7953"
             ],
             [
              0.7777777777777778,
              "#fb9f3a"
             ],
             [
              0.8888888888888888,
              "#fdca26"
             ],
             [
              1,
              "#f0f921"
             ]
            ],
            "type": "surface"
           }
          ],
          "table": [
           {
            "cells": {
             "fill": {
              "color": "#EBF0F8"
             },
             "line": {
              "color": "white"
             }
            },
            "header": {
             "fill": {
              "color": "#C8D4E3"
             },
             "line": {
              "color": "white"
             }
            },
            "type": "table"
           }
          ]
         },
         "layout": {
          "annotationdefaults": {
           "arrowcolor": "#2a3f5f",
           "arrowhead": 0,
           "arrowwidth": 1
          },
          "autotypenumbers": "strict",
          "coloraxis": {
           "colorbar": {
            "outlinewidth": 0,
            "ticks": ""
           }
          },
          "colorscale": {
           "diverging": [
            [
             0,
             "#8e0152"
            ],
            [
             0.1,
             "#c51b7d"
            ],
            [
             0.2,
             "#de77ae"
            ],
            [
             0.3,
             "#f1b6da"
            ],
            [
             0.4,
             "#fde0ef"
            ],
            [
             0.5,
             "#f7f7f7"
            ],
            [
             0.6,
             "#e6f5d0"
            ],
            [
             0.7,
             "#b8e186"
            ],
            [
             0.8,
             "#7fbc41"
            ],
            [
             0.9,
             "#4d9221"
            ],
            [
             1,
             "#276419"
            ]
           ],
           "sequential": [
            [
             0,
             "#0d0887"
            ],
            [
             0.1111111111111111,
             "#46039f"
            ],
            [
             0.2222222222222222,
             "#7201a8"
            ],
            [
             0.3333333333333333,
             "#9c179e"
            ],
            [
             0.4444444444444444,
             "#bd3786"
            ],
            [
             0.5555555555555556,
             "#d8576b"
            ],
            [
             0.6666666666666666,
             "#ed7953"
            ],
            [
             0.7777777777777778,
             "#fb9f3a"
            ],
            [
             0.8888888888888888,
             "#fdca26"
            ],
            [
             1,
             "#f0f921"
            ]
           ],
           "sequentialminus": [
            [
             0,
             "#0d0887"
            ],
            [
             0.1111111111111111,
             "#46039f"
            ],
            [
             0.2222222222222222,
             "#7201a8"
            ],
            [
             0.3333333333333333,
             "#9c179e"
            ],
            [
             0.4444444444444444,
             "#bd3786"
            ],
            [
             0.5555555555555556,
             "#d8576b"
            ],
            [
             0.6666666666666666,
             "#ed7953"
            ],
            [
             0.7777777777777778,
             "#fb9f3a"
            ],
            [
             0.8888888888888888,
             "#fdca26"
            ],
            [
             1,
             "#f0f921"
            ]
           ]
          },
          "colorway": [
           "#636efa",
           "#EF553B",
           "#00cc96",
           "#ab63fa",
           "#FFA15A",
           "#19d3f3",
           "#FF6692",
           "#B6E880",
           "#FF97FF",
           "#FECB52"
          ],
          "font": {
           "color": "#2a3f5f"
          },
          "geo": {
           "bgcolor": "white",
           "lakecolor": "white",
           "landcolor": "#E5ECF6",
           "showlakes": true,
           "showland": true,
           "subunitcolor": "white"
          },
          "hoverlabel": {
           "align": "left"
          },
          "hovermode": "closest",
          "mapbox": {
           "style": "light"
          },
          "paper_bgcolor": "white",
          "plot_bgcolor": "#E5ECF6",
          "polar": {
           "angularaxis": {
            "gridcolor": "white",
            "linecolor": "white",
            "ticks": ""
           },
           "bgcolor": "#E5ECF6",
           "radialaxis": {
            "gridcolor": "white",
            "linecolor": "white",
            "ticks": ""
           }
          },
          "scene": {
           "xaxis": {
            "backgroundcolor": "#E5ECF6",
            "gridcolor": "white",
            "gridwidth": 2,
            "linecolor": "white",
            "showbackground": true,
            "ticks": "",
            "zerolinecolor": "white"
           },
           "yaxis": {
            "backgroundcolor": "#E5ECF6",
            "gridcolor": "white",
            "gridwidth": 2,
            "linecolor": "white",
            "showbackground": true,
            "ticks": "",
            "zerolinecolor": "white"
           },
           "zaxis": {
            "backgroundcolor": "#E5ECF6",
            "gridcolor": "white",
            "gridwidth": 2,
            "linecolor": "white",
            "showbackground": true,
            "ticks": "",
            "zerolinecolor": "white"
           }
          },
          "shapedefaults": {
           "line": {
            "color": "#2a3f5f"
           }
          },
          "ternary": {
           "aaxis": {
            "gridcolor": "white",
            "linecolor": "white",
            "ticks": ""
           },
           "baxis": {
            "gridcolor": "white",
            "linecolor": "white",
            "ticks": ""
           },
           "bgcolor": "#E5ECF6",
           "caxis": {
            "gridcolor": "white",
            "linecolor": "white",
            "ticks": ""
           }
          },
          "title": {
           "x": 0.05
          },
          "xaxis": {
           "automargin": true,
           "gridcolor": "white",
           "linecolor": "white",
           "ticks": "",
           "title": {
            "standoff": 15
           },
           "zerolinecolor": "white",
           "zerolinewidth": 2
          },
          "yaxis": {
           "automargin": true,
           "gridcolor": "white",
           "linecolor": "white",
           "ticks": "",
           "title": {
            "standoff": 15
           },
           "zerolinecolor": "white",
           "zerolinewidth": 2
          }
         }
        },
        "xaxis": {
         "anchor": "y",
         "autorange": true,
         "domain": [
          0,
          1
         ],
         "range": [
          -3.3760640961442174,
          111.37606409614422
         ],
         "title": {
          "text": "Popularity_count"
         },
         "type": "linear"
        },
        "yaxis": {
         "anchor": "x",
         "autorange": true,
         "domain": [
          0,
          1
         ],
         "range": [
          21.973753280839894,
          82.0262467191601
         ],
         "title": {
          "text": "Popularity_median"
         },
         "type": "linear"
        }
       }
      },
      "image/png": "[encoded data removed]",
      "text/html": [
       "<div>                            <div id=\"0471173b-06a4-4f5c-9913-60aaf323c254\" class=\"plotly-graph-div\" style=\"height:525px; width:100%;\"></div>            <script type=\"text/javascript\">                require([\"plotly\"], function(Plotly) {                    window.PLOTLYENV=window.PLOTLYENV || {};                                    if (document.getElementById(\"0471173b-06a4-4f5c-9913-60aaf323c254\")) {                    Plotly.newPlot(                        \"0471173b-06a4-4f5c-9913-60aaf323c254\",                        [{\"hovertemplate\": \"Popularity_count=%{x}<br>Popularity_median=%{y}<extra></extra>\", \"legendgroup\": \"\", \"marker\": {\"color\": \"#636efa\", \"symbol\": \"circle\"}, \"mode\": \"markers\", \"name\": \"\", \"orientation\": \"v\", \"showlegend\": false, \"type\": \"scatter\", \"x\": [3, 9, 8, 3, 4, 8, 6, 9, 8, 11, 11, 7, 6, 8, 4, 7, 9, 9, 14, 15, 11, 6, 10, 15, 11, 20, 15, 16, 12, 9, 11, 14, 15, 14, 13, 12, 21, 15, 20, 19, 28, 23, 24, 26, 23, 23, 17, 29, 18, 33, 30, 26, 37, 40, 38, 42, 93, 102, 96, 101, 105], \"xaxis\": \"x\", \"y\": [50.0, 64.0, 63.5, 66.0, 35.5, 60.5, 62.0, 45.0, 30.5, 30.0, 52.0, 38.0, 47.5, 78.0, 39.5, 54.0, 42.0, 43.0, 37.0, 62.0, 54.0, 31.5, 42.0, 57.0, 48.0, 54.5, 45.0, 42.5, 33.5, 26.0, 32.0, 41.0, 35.0, 68.0, 34.0, 55.0, 35.0, 50.0, 34.5, 48.0, 49.5, 60.0, 55.0, 39.0, 41.0, 64.0, 41.0, 44.0, 43.0, 32.0, 59.5, 53.0, 64.0, 29.5, 36.0, 56.0, 41.0, 40.5, 41.5, 41.0, 30.0], \"yaxis\": \"y\"}],                        {\"legend\": {\"tracegroupgap\": 0}, \"margin\": {\"t\": 60}, \"template\": {\"data\": {\"bar\": [{\"error_x\": {\"color\": \"#2a3f5f\"}, \"error_y\": {\"color\": \"#2a3f5f\"}, \"marker\": {\"line\": {\"color\": \"#E5ECF6\", \"width\": 0.5}}, \"type\": \"bar\"}], \"barpolar\": [{\"marker\": {\"line\": {\"color\": \"#E5ECF6\", \"width\": 0.5}}, \"type\": \"barpolar\"}], \"carpet\": [{\"aaxis\": {\"endlinecolor\": \"#2a3f5f\", \"gridcolor\": \"white\", \"linecolor\": \"white\", \"minorgridcolor\": \"white\", \"startlinecolor\": \"#2a3f5f\"}, \"baxis\": {\"endlinecolor\": \"#2a3f5f\", \"gridcolor\": \"white\", \"linecolor\": \"white\", \"minorgridcolor\": \"white\", \"startlinecolor\": \"#2a3f5f\"}, \"type\": \"carpet\"}], \"choropleth\": [{\"colorbar\": {\"outlinewidth\": 0, \"ticks\": \"\"}, \"type\": \"choropleth\"}], \"contour\": [{\"colorbar\": {\"outlinewidth\": 0, \"ticks\": \"\"}, \"colorscale\": [[0.0, \"#0d0887\"], [0.1111111111111111, \"#46039f\"], [0.2222222222222222, \"#7201a8\"], [0.3333333333333333, \"#9c179e\"], [0.4444444444444444, \"#bd3786\"], [0.5555555555555556, \"#d8576b\"], [0.6666666666666666, \"#ed7953\"], [0.7777777777777778, \"#fb9f3a\"], [0.8888888888888888, \"#fdca26\"], [1.0, \"#f0f921\"]], \"type\": \"contour\"}], \"contourcarpet\": [{\"colorbar\": {\"outlinewidth\": 0, \"ticks\": \"\"}, \"type\": \"contourcarpet\"}], \"heatmap\": [{\"colorbar\": {\"outlinewidth\": 0, \"ticks\": \"\"}, \"colorscale\": [[0.0, \"#0d0887\"], [0.1111111111111111, \"#46039f\"], [0.2222222222222222, \"#7201a8\"], [0.3333333333333333, \"#9c179e\"], [0.4444444444444444, \"#bd3786\"], [0.5555555555555556, \"#d8576b\"], [0.6666666666666666, \"#ed7953\"], [0.7777777777777778, \"#fb9f3a\"], [0.8888888888888888, \"#fdca26\"], [1.0, \"#f0f921\"]], \"type\": \"heatmap\"}], \"heatmapgl\": [{\"colorbar\": {\"outlinewidth\": 0, \"ticks\": \"\"}, \"colorscale\": [[0.0, \"#0d0887\"], [0.1111111111111111, \"#46039f\"], [0.2222222222222222, \"#7201a8\"], [0.3333333333333333, \"#9c179e\"], [0.4444444444444444, \"#bd3786\"], [0.5555555555555556, \"#d8576b\"], [0.6666666666666666, \"#ed7953\"], [0.7777777777777778, \"#fb9f3a\"], [0.8888888888888888, \"#fdca26\"], [1.0, \"#f0f921\"]], \"type\": \"heatmapgl\"}], \"histogram\": [{\"marker\": {\"colorbar\": {\"outlinewidth\": 0, \"ticks\": \"\"}}, \"type\": \"histogram\"}], \"histogram2d\": [{\"colorbar\": {\"outlinewidth\": 0, \"ticks\": \"\"}, \"colorscale\": [[0.0, \"#0d0887\"], [0.1111111111111111, \"#46039f\"], [0.2222222222222222, \"#7201a8\"], [0.3333333333333333, \"#9c179e\"], [0.4444444444444444, \"#bd3786\"], [0.5555555555555556, \"#d8576b\"], [0.6666666666666666, \"#ed7953\"], [0.7777777777777778, \"#fb9f3a\"], [0.8888888888888888, \"#fdca26\"], [1.0, \"#f0f921\"]], \"type\": \"histogram2d\"}], \"histogram2dcontour\": [{\"colorbar\": {\"outlinewidth\": 0, \"ticks\": \"\"}, \"colorscale\": [[0.0, \"#0d0887\"], [0.1111111111111111, \"#46039f\"], [0.2222222222222222, \"#7201a8\"], [0.3333333333333333, \"#9c179e\"], [0.4444444444444444, \"#bd3786\"], [0.5555555555555556, \"#d8576b\"], [0.6666666666666666, \"#ed7953\"], [0.7777777777777778, \"#fb9f3a\"], [0.8888888888888888, \"#fdca26\"], [1.0, \"#f0f921\"]], \"type\": \"histogram2dcontour\"}], \"mesh3d\": [{\"colorbar\": {\"outlinewidth\": 0, \"ticks\": \"\"}, \"type\": \"mesh3d\"}], \"parcoords\": [{\"line\": {\"colorbar\": {\"outlinewidth\": 0, \"ticks\": \"\"}}, \"type\": \"parcoords\"}], \"pie\": [{\"automargin\": true, \"type\": \"pie\"}], \"scatter\": [{\"marker\": {\"colorbar\": {\"outlinewidth\": 0, \"ticks\": \"\"}}, \"type\": \"scatter\"}], \"scatter3d\": [{\"line\": {\"colorbar\": {\"outlinewidth\": 0, \"ticks\": \"\"}}, \"marker\": {\"colorbar\": {\"outlinewidth\": 0, \"ticks\": \"\"}}, \"type\": \"scatter3d\"}], \"scattercarpet\": [{\"marker\": {\"colorbar\": {\"outlinewidth\": 0, \"ticks\": \"\"}}, \"type\": \"scattercarpet\"}], \"scattergeo\": [{\"marker\": {\"colorbar\": {\"outlinewidth\": 0, \"ticks\": \"\"}}, \"type\": \"scattergeo\"}], \"scattergl\": [{\"marker\": {\"colorbar\": {\"outlinewidth\": 0, \"ticks\": \"\"}}, \"type\": \"scattergl\"}], \"scattermapbox\": [{\"marker\": {\"colorbar\": {\"outlinewidth\": 0, \"ticks\": \"\"}}, \"type\": \"scattermapbox\"}], \"scatterpolar\": [{\"marker\": {\"colorbar\": {\"outlinewidth\": 0, \"ticks\": \"\"}}, \"type\": \"scatterpolar\"}], \"scatterpolargl\": [{\"marker\": {\"colorbar\": {\"outlinewidth\": 0, \"ticks\": \"\"}}, \"type\": \"scatterpolargl\"}], \"scatterternary\": [{\"marker\": {\"colorbar\": {\"outlinewidth\": 0, \"ticks\": \"\"}}, \"type\": \"scatterternary\"}], \"surface\": [{\"colorbar\": {\"outlinewidth\": 0, \"ticks\": \"\"}, \"colorscale\": [[0.0, \"#0d0887\"], [0.1111111111111111, \"#46039f\"], [0.2222222222222222, \"#7201a8\"], [0.3333333333333333, \"#9c179e\"], [0.4444444444444444, \"#bd3786\"], [0.5555555555555556, \"#d8576b\"], [0.6666666666666666, \"#ed7953\"], [0.7777777777777778, \"#fb9f3a\"], [0.8888888888888888, \"#fdca26\"], [1.0, \"#f0f921\"]], \"type\": \"surface\"}], \"table\": [{\"cells\": {\"fill\": {\"color\": \"#EBF0F8\"}, \"line\": {\"color\": \"white\"}}, \"header\": {\"fill\": {\"color\": \"#C8D4E3\"}, \"line\": {\"color\": \"white\"}}, \"type\": \"table\"}]}, \"layout\": {\"annotationdefaults\": {\"arrowcolor\": \"#2a3f5f\", \"arrowhead\": 0, \"arrowwidth\": 1}, \"autotypenumbers\": \"strict\", \"coloraxis\": {\"colorbar\": {\"outlinewidth\": 0, \"ticks\": \"\"}}, \"colorscale\": {\"diverging\": [[0, \"#8e0152\"], [0.1, \"#c51b7d\"], [0.2, \"#de77ae\"], [0.3, \"#f1b6da\"], [0.4, \"#fde0ef\"], [0.5, \"#f7f7f7\"], [0.6, \"#e6f5d0\"], [0.7, \"#b8e186\"], [0.8, \"#7fbc41\"], [0.9, \"#4d9221\"], [1, \"#276419\"]], \"sequential\": [[0.0, \"#0d0887\"], [0.1111111111111111, \"#46039f\"], [0.2222222222222222, \"#7201a8\"], [0.3333333333333333, \"#9c179e\"], [0.4444444444444444, \"#bd3786\"], [0.5555555555555556, \"#d8576b\"], [0.6666666666666666, \"#ed7953\"], [0.7777777777777778, \"#fb9f3a\"], [0.8888888888888888, \"#fdca26\"], [1.0, \"#f0f921\"]], \"sequentialminus\": [[0.0, \"#0d0887\"], [0.1111111111111111, \"#46039f\"], [0.2222222222222222, \"#7201a8\"], [0.3333333333333333, \"#9c179e\"], [0.4444444444444444, \"#bd3786\"], [0.5555555555555556, \"#d8576b\"], [0.6666666666666666, \"#ed7953\"], [0.7777777777777778, \"#fb9f3a\"], [0.8888888888888888, \"#fdca26\"], [1.0, \"#f0f921\"]]}, \"colorway\": [\"#636efa\", \"#EF553B\", \"#00cc96\", \"#ab63fa\", \"#FFA15A\", \"#19d3f3\", \"#FF6692\", \"#B6E880\", \"#FF97FF\", \"#FECB52\"], \"font\": {\"color\": \"#2a3f5f\"}, \"geo\": {\"bgcolor\": \"white\", \"lakecolor\": \"white\", \"landcolor\": \"#E5ECF6\", \"showlakes\": true, \"showland\": true, \"subunitcolor\": \"white\"}, \"hoverlabel\": {\"align\": \"left\"}, \"hovermode\": \"closest\", \"mapbox\": {\"style\": \"light\"}, \"paper_bgcolor\": \"white\", \"plot_bgcolor\": \"#E5ECF6\", \"polar\": {\"angularaxis\": {\"gridcolor\": \"white\", \"linecolor\": \"white\", \"ticks\": \"\"}, \"bgcolor\": \"#E5ECF6\", \"radialaxis\": {\"gridcolor\": \"white\", \"linecolor\": \"white\", \"ticks\": \"\"}}, \"scene\": {\"xaxis\": {\"backgroundcolor\": \"#E5ECF6\", \"gridcolor\": \"white\", \"gridwidth\": 2, \"linecolor\": \"white\", \"showbackground\": true, \"ticks\": \"\", \"zerolinecolor\": \"white\"}, \"yaxis\": {\"backgroundcolor\": \"#E5ECF6\", \"gridcolor\": \"white\", \"gridwidth\": 2, \"linecolor\": \"white\", \"showbackground\": true, \"ticks\": \"\", \"zerolinecolor\": \"white\"}, \"zaxis\": {\"backgroundcolor\": \"#E5ECF6\", \"gridcolor\": \"white\", \"gridwidth\": 2, \"linecolor\": \"white\", \"showbackground\": true, \"ticks\": \"\", \"zerolinecolor\": \"white\"}}, \"shapedefaults\": {\"line\": {\"color\": \"#2a3f5f\"}}, \"ternary\": {\"aaxis\": {\"gridcolor\": \"white\", \"linecolor\": \"white\", \"ticks\": \"\"}, \"baxis\": {\"gridcolor\": \"white\", \"linecolor\": \"white\", \"ticks\": \"\"}, \"bgcolor\": \"#E5ECF6\", \"caxis\": {\"gridcolor\": \"white\", \"linecolor\": \"white\", \"ticks\": \"\"}}, \"title\": {\"x\": 0.05}, \"xaxis\": {\"automargin\": true, \"gridcolor\": \"white\", \"linecolor\": \"white\", \"ticks\": \"\", \"title\": {\"standoff\": 15}, \"zerolinecolor\": \"white\", \"zerolinewidth\": 2}, \"yaxis\": {\"automargin\": true, \"gridcolor\": \"white\", \"linecolor\": \"white\", \"ticks\": \"\", \"title\": {\"standoff\": 15}, \"zerolinecolor\": \"white\", \"zerolinewidth\": 2}}}, \"xaxis\": {\"anchor\": \"y\", \"domain\": [0.0, 1.0], \"title\": {\"text\": \"Popularity_count\"}}, \"yaxis\": {\"anchor\": \"x\", \"domain\": [0.0, 1.0], \"title\": {\"text\": \"Popularity_median\"}}},                        {\"responsive\": true}                    ).then(function(){\n",
       "                            \n",
       "var gd = document.getElementById('0471173b-06a4-4f5c-9913-60aaf323c254');\n",
       "var x = new MutationObserver(function (mutations, observer) {{\n",
       "        var display = window.getComputedStyle(gd).display;\n",
       "        if (!display || display === 'none') {{\n",
       "            console.log([gd, 'removed!']);\n",
       "            Plotly.purge(gd);\n",
       "            observer.disconnect();\n",
       "        }}\n",
       "}});\n",
       "\n",
       "// Listen for the removal of the full notebook cells\n",
       "var notebookContainer = gd.closest('#notebook-container');\n",
       "if (notebookContainer) {{\n",
       "    x.observe(notebookContainer, {childList: true});\n",
       "}}\n",
       "\n",
       "// Listen for the clearing of the current output cell\n",
       "var outputEl = gd.closest('.output');\n",
       "if (outputEl) {{\n",
       "    x.observe(outputEl, {childList: true});\n",
       "}}\n",
       "\n",
       "                        })                };                });            </script>        </div>"
      ]
     },
     "metadata": {},
     "output_type": "display_data"
    }
   ],
   "source": [
    "fig = px.scatter(df_yvp, x='Popularity_count', y='Popularity_median')\n",
    "fig.show()"
   ]
  },
  {
   "cell_type": "markdown",
   "id": "0b76b4fc-5131-4691-8712-38119c1cd3fc",
   "metadata": {},
   "source": [
    "Well darn, that was a deadend - BUT I've disproven my hypothesis. And while not a compelling story that I wouldn't necessarily present, it is a draft that I appreciate and I'm going to polish the visuals by adding a title, "
   ]
  },
  {
   "cell_type": "code",
   "execution_count": 21,
   "id": "62151f64-507c-4858-8381-9e38c5765310",
   "metadata": {},
   "outputs": [
    {
     "data": {
      "application/vnd.plotly.v1+json": {
       "config": {
        "plotlyServerURL": "https://plot.ly"
       },
       "data": [
        {
         "hovertemplate": "<b>%{hovertext}</b><br><br>Number of films in a given year=%{x}<br>Median film popularity for a given year=%{y}<extra></extra>",
         "hovertext": [
          1930,
          1931,
          1932,
          1933,
          1934,
          1935,
          1936,
          1937,
          1938,
          1939,
          1940,
          1941,
          1942,
          1943,
          1944,
          1945,
          1946,
          1947,
          1948,
          1949,
          1950,
          1951,
          1952,
          1953,
          1954,
          1955,
          1956,
          1957,
          1958,
          1959,
          1960,
          1961,
          1962,
          1963,
          1964,
          1965,
          1966,
          1967,
          1968,
          1969,
          1970,
          1971,
          1972,
          1973,
          1974,
          1975,
          1976,
          1977,
          1978,
          1979,
          1980,
          1981,
          1982,
          1983,
          1984,
          1985,
          1986,
          1987,
          1988,
          1989,
          1990
         ],
         "legendgroup": "",
         "marker": {
          "color": "#636efa",
          "symbol": "circle"
         },
         "mode": "markers",
         "name": "",
         "orientation": "v",
         "showlegend": false,
         "type": "scatter",
         "x": [
          3,
          9,
          8,
          3,
          4,
          8,
          6,
          9,
          8,
          11,
          11,
          7,
          6,
          8,
          4,
          7,
          9,
          9,
          14,
          15,
          11,
          6,
          10,
          15,
          11,
          20,
          15,
          16,
          12,
          9,
          11,
          14,
          15,
          14,
          13,
          12,
          21,
          15,
          20,
          19,
          28,
          23,
          24,
          26,
          23,
          23,
          17,
          29,
          18,
          33,
          30,
          26,
          37,
          40,
          38,
          42,
          93,
          102,
          96,
          101,
          105
         ],
         "xaxis": "x",
         "y": [
          50,
          64,
          63.5,
          66,
          35.5,
          60.5,
          62,
          45,
          30.5,
          30,
          52,
          38,
          47.5,
          78,
          39.5,
          54,
          42,
          43,
          37,
          62,
          54,
          31.5,
          42,
          57,
          48,
          54.5,
          45,
          42.5,
          33.5,
          26,
          32,
          41,
          35,
          68,
          34,
          55,
          35,
          50,
          34.5,
          48,
          49.5,
          60,
          55,
          39,
          41,
          64,
          41,
          44,
          43,
          32,
          59.5,
          53,
          64,
          29.5,
          36,
          56,
          41,
          40.5,
          41.5,
          41,
          30
         ],
         "yaxis": "y"
        }
       ],
       "layout": {
        "autosize": true,
        "legend": {
         "tracegroupgap": 0
        },
        "template": {
         "data": {
          "bar": [
           {
            "error_x": {
             "color": "#2a3f5f"
            },
            "error_y": {
             "color": "#2a3f5f"
            },
            "marker": {
             "line": {
              "color": "#E5ECF6",
              "width": 0.5
             }
            },
            "type": "bar"
           }
          ],
          "barpolar": [
           {
            "marker": {
             "line": {
              "color": "#E5ECF6",
              "width": 0.5
             }
            },
            "type": "barpolar"
           }
          ],
          "carpet": [
           {
            "aaxis": {
             "endlinecolor": "#2a3f5f",
             "gridcolor": "white",
             "linecolor": "white",
             "minorgridcolor": "white",
             "startlinecolor": "#2a3f5f"
            },
            "baxis": {
             "endlinecolor": "#2a3f5f",
             "gridcolor": "white",
             "linecolor": "white",
             "minorgridcolor": "white",
             "startlinecolor": "#2a3f5f"
            },
            "type": "carpet"
           }
          ],
          "choropleth": [
           {
            "colorbar": {
             "outlinewidth": 0,
             "ticks": ""
            },
            "type": "choropleth"
           }
          ],
          "contour": [
           {
            "colorbar": {
             "outlinewidth": 0,
             "ticks": ""
            },
            "colorscale": [
             [
              0,
              "#0d0887"
             ],
             [
              0.1111111111111111,
              "#46039f"
             ],
             [
              0.2222222222222222,
              "#7201a8"
             ],
             [
              0.3333333333333333,
              "#9c179e"
             ],
             [
              0.4444444444444444,
              "#bd3786"
             ],
             [
              0.5555555555555556,
              "#d8576b"
             ],
             [
              0.6666666666666666,
              "#ed7953"
             ],
             [
              0.7777777777777778,
              "#fb9f3a"
             ],
             [
              0.8888888888888888,
              "#fdca26"
             ],
             [
              1,
              "#f0f921"
             ]
            ],
            "type": "contour"
           }
          ],
          "contourcarpet": [
           {
            "colorbar": {
             "outlinewidth": 0,
             "ticks": ""
            },
            "type": "contourcarpet"
           }
          ],
          "heatmap": [
           {
            "colorbar": {
             "outlinewidth": 0,
             "ticks": ""
            },
            "colorscale": [
             [
              0,
              "#0d0887"
             ],
             [
              0.1111111111111111,
              "#46039f"
             ],
             [
              0.2222222222222222,
              "#7201a8"
             ],
             [
              0.3333333333333333,
              "#9c179e"
             ],
             [
              0.4444444444444444,
              "#bd3786"
             ],
             [
              0.5555555555555556,
              "#d8576b"
             ],
             [
              0.6666666666666666,
              "#ed7953"
             ],
             [
              0.7777777777777778,
              "#fb9f3a"
             ],
             [
              0.8888888888888888,
              "#fdca26"
             ],
             [
              1,
              "#f0f921"
             ]
            ],
            "type": "heatmap"
           }
          ],
          "heatmapgl": [
           {
            "colorbar": {
             "outlinewidth": 0,
             "ticks": ""
            },
            "colorscale": [
             [
              0,
              "#0d0887"
             ],
             [
              0.1111111111111111,
              "#46039f"
             ],
             [
              0.2222222222222222,
              "#7201a8"
             ],
             [
              0.3333333333333333,
              "#9c179e"
             ],
             [
              0.4444444444444444,
              "#bd3786"
             ],
             [
              0.5555555555555556,
              "#d8576b"
             ],
             [
              0.6666666666666666,
              "#ed7953"
             ],
             [
              0.7777777777777778,
              "#fb9f3a"
             ],
             [
              0.8888888888888888,
              "#fdca26"
             ],
             [
              1,
              "#f0f921"
             ]
            ],
            "type": "heatmapgl"
           }
          ],
          "histogram": [
           {
            "marker": {
             "colorbar": {
              "outlinewidth": 0,
              "ticks": ""
             }
            },
            "type": "histogram"
           }
          ],
          "histogram2d": [
           {
            "colorbar": {
             "outlinewidth": 0,
             "ticks": ""
            },
            "colorscale": [
             [
              0,
              "#0d0887"
             ],
             [
              0.1111111111111111,
              "#46039f"
             ],
             [
              0.2222222222222222,
              "#7201a8"
             ],
             [
              0.3333333333333333,
              "#9c179e"
             ],
             [
              0.4444444444444444,
              "#bd3786"
             ],
             [
              0.5555555555555556,
              "#d8576b"
             ],
             [
              0.6666666666666666,
              "#ed7953"
             ],
             [
              0.7777777777777778,
              "#fb9f3a"
             ],
             [
              0.8888888888888888,
              "#fdca26"
             ],
             [
              1,
              "#f0f921"
             ]
            ],
            "type": "histogram2d"
           }
          ],
          "histogram2dcontour": [
           {
            "colorbar": {
             "outlinewidth": 0,
             "ticks": ""
            },
            "colorscale": [
             [
              0,
              "#0d0887"
             ],
             [
              0.1111111111111111,
              "#46039f"
             ],
             [
              0.2222222222222222,
              "#7201a8"
             ],
             [
              0.3333333333333333,
              "#9c179e"
             ],
             [
              0.4444444444444444,
              "#bd3786"
             ],
             [
              0.5555555555555556,
              "#d8576b"
             ],
             [
              0.6666666666666666,
              "#ed7953"
             ],
             [
              0.7777777777777778,
              "#fb9f3a"
             ],
             [
              0.8888888888888888,
              "#fdca26"
             ],
             [
              1,
              "#f0f921"
             ]
            ],
            "type": "histogram2dcontour"
           }
          ],
          "mesh3d": [
           {
            "colorbar": {
             "outlinewidth": 0,
             "ticks": ""
            },
            "type": "mesh3d"
           }
          ],
          "parcoords": [
           {
            "line": {
             "colorbar": {
              "outlinewidth": 0,
              "ticks": ""
             }
            },
            "type": "parcoords"
           }
          ],
          "pie": [
           {
            "automargin": true,
            "type": "pie"
           }
          ],
          "scatter": [
           {
            "marker": {
             "colorbar": {
              "outlinewidth": 0,
              "ticks": ""
             }
            },
            "type": "scatter"
           }
          ],
          "scatter3d": [
           {
            "line": {
             "colorbar": {
              "outlinewidth": 0,
              "ticks": ""
             }
            },
            "marker": {
             "colorbar": {
              "outlinewidth": 0,
              "ticks": ""
             }
            },
            "type": "scatter3d"
           }
          ],
          "scattercarpet": [
           {
            "marker": {
             "colorbar": {
              "outlinewidth": 0,
              "ticks": ""
             }
            },
            "type": "scattercarpet"
           }
          ],
          "scattergeo": [
           {
            "marker": {
             "colorbar": {
              "outlinewidth": 0,
              "ticks": ""
             }
            },
            "type": "scattergeo"
           }
          ],
          "scattergl": [
           {
            "marker": {
             "colorbar": {
              "outlinewidth": 0,
              "ticks": ""
             }
            },
            "type": "scattergl"
           }
          ],
          "scattermapbox": [
           {
            "marker": {
             "colorbar": {
              "outlinewidth": 0,
              "ticks": ""
             }
            },
            "type": "scattermapbox"
           }
          ],
          "scatterpolar": [
           {
            "marker": {
             "colorbar": {
              "outlinewidth": 0,
              "ticks": ""
             }
            },
            "type": "scatterpolar"
           }
          ],
          "scatterpolargl": [
           {
            "marker": {
             "colorbar": {
              "outlinewidth": 0,
              "ticks": ""
             }
            },
            "type": "scatterpolargl"
           }
          ],
          "scatterternary": [
           {
            "marker": {
             "colorbar": {
              "outlinewidth": 0,
              "ticks": ""
             }
            },
            "type": "scatterternary"
           }
          ],
          "surface": [
           {
            "colorbar": {
             "outlinewidth": 0,
             "ticks": ""
            },
            "colorscale": [
             [
              0,
              "#0d0887"
             ],
             [
              0.1111111111111111,
              "#46039f"
             ],
             [
              0.2222222222222222,
              "#7201a8"
             ],
             [
              0.3333333333333333,
              "#9c179e"
             ],
             [
              0.4444444444444444,
              "#bd3786"
             ],
             [
              0.5555555555555556,
              "#d8576b"
             ],
             [
              0.6666666666666666,
              "#ed7953"
             ],
             [
              0.7777777777777778,
              "#fb9f3a"
             ],
             [
              0.8888888888888888,
              "#fdca26"
             ],
             [
              1,
              "#f0f921"
             ]
            ],
            "type": "surface"
           }
          ],
          "table": [
           {
            "cells": {
             "fill": {
              "color": "#EBF0F8"
             },
             "line": {
              "color": "white"
             }
            },
            "header": {
             "fill": {
              "color": "#C8D4E3"
             },
             "line": {
              "color": "white"
             }
            },
            "type": "table"
           }
          ]
         },
         "layout": {
          "annotationdefaults": {
           "arrowcolor": "#2a3f5f",
           "arrowhead": 0,
           "arrowwidth": 1
          },
          "autotypenumbers": "strict",
          "coloraxis": {
           "colorbar": {
            "outlinewidth": 0,
            "ticks": ""
           }
          },
          "colorscale": {
           "diverging": [
            [
             0,
             "#8e0152"
            ],
            [
             0.1,
             "#c51b7d"
            ],
            [
             0.2,
             "#de77ae"
            ],
            [
             0.3,
             "#f1b6da"
            ],
            [
             0.4,
             "#fde0ef"
            ],
            [
             0.5,
             "#f7f7f7"
            ],
            [
             0.6,
             "#e6f5d0"
            ],
            [
             0.7,
             "#b8e186"
            ],
            [
             0.8,
             "#7fbc41"
            ],
            [
             0.9,
             "#4d9221"
            ],
            [
             1,
             "#276419"
            ]
           ],
           "sequential": [
            [
             0,
             "#0d0887"
            ],
            [
             0.1111111111111111,
             "#46039f"
            ],
            [
             0.2222222222222222,
             "#7201a8"
            ],
            [
             0.3333333333333333,
             "#9c179e"
            ],
            [
             0.4444444444444444,
             "#bd3786"
            ],
            [
             0.5555555555555556,
             "#d8576b"
            ],
            [
             0.6666666666666666,
             "#ed7953"
            ],
            [
             0.7777777777777778,
             "#fb9f3a"
            ],
            [
             0.8888888888888888,
             "#fdca26"
            ],
            [
             1,
             "#f0f921"
            ]
           ],
           "sequentialminus": [
            [
             0,
             "#0d0887"
            ],
            [
             0.1111111111111111,
             "#46039f"
            ],
            [
             0.2222222222222222,
             "#7201a8"
            ],
            [
             0.3333333333333333,
             "#9c179e"
            ],
            [
             0.4444444444444444,
             "#bd3786"
            ],
            [
             0.5555555555555556,
             "#d8576b"
            ],
            [
             0.6666666666666666,
             "#ed7953"
            ],
            [
             0.7777777777777778,
             "#fb9f3a"
            ],
            [
             0.8888888888888888,
             "#fdca26"
            ],
            [
             1,
             "#f0f921"
            ]
           ]
          },
          "colorway": [
           "#636efa",
           "#EF553B",
           "#00cc96",
           "#ab63fa",
           "#FFA15A",
           "#19d3f3",
           "#FF6692",
           "#B6E880",
           "#FF97FF",
           "#FECB52"
          ],
          "font": {
           "color": "#2a3f5f"
          },
          "geo": {
           "bgcolor": "white",
           "lakecolor": "white",
           "landcolor": "#E5ECF6",
           "showlakes": true,
           "showland": true,
           "subunitcolor": "white"
          },
          "hoverlabel": {
           "align": "left"
          },
          "hovermode": "closest",
          "mapbox": {
           "style": "light"
          },
          "paper_bgcolor": "white",
          "plot_bgcolor": "#E5ECF6",
          "polar": {
           "angularaxis": {
            "gridcolor": "white",
            "linecolor": "white",
            "ticks": ""
           },
           "bgcolor": "#E5ECF6",
           "radialaxis": {
            "gridcolor": "white",
            "linecolor": "white",
            "ticks": ""
           }
          },
          "scene": {
           "xaxis": {
            "backgroundcolor": "#E5ECF6",
            "gridcolor": "white",
            "gridwidth": 2,
            "linecolor": "white",
            "showbackground": true,
            "ticks": "",
            "zerolinecolor": "white"
           },
           "yaxis": {
            "backgroundcolor": "#E5ECF6",
            "gridcolor": "white",
            "gridwidth": 2,
            "linecolor": "white",
            "showbackground": true,
            "ticks": "",
            "zerolinecolor": "white"
           },
           "zaxis": {
            "backgroundcolor": "#E5ECF6",
            "gridcolor": "white",
            "gridwidth": 2,
            "linecolor": "white",
            "showbackground": true,
            "ticks": "",
            "zerolinecolor": "white"
           }
          },
          "shapedefaults": {
           "line": {
            "color": "#2a3f5f"
           }
          },
          "ternary": {
           "aaxis": {
            "gridcolor": "white",
            "linecolor": "white",
            "ticks": ""
           },
           "baxis": {
            "gridcolor": "white",
            "linecolor": "white",
            "ticks": ""
           },
           "bgcolor": "#E5ECF6",
           "caxis": {
            "gridcolor": "white",
            "linecolor": "white",
            "ticks": ""
           }
          },
          "title": {
           "x": 0.05
          },
          "xaxis": {
           "automargin": true,
           "gridcolor": "white",
           "linecolor": "white",
           "ticks": "",
           "title": {
            "standoff": 15
           },
           "zerolinecolor": "white",
           "zerolinewidth": 2
          },
          "yaxis": {
           "automargin": true,
           "gridcolor": "white",
           "linecolor": "white",
           "ticks": "",
           "title": {
            "standoff": 15
           },
           "zerolinecolor": "white",
           "zerolinewidth": 2
          }
         }
        },
        "title": {
         "text": "There is no relationship between a year's number of films and popularity (1930-1990)"
        },
        "xaxis": {
         "anchor": "y",
         "autorange": true,
         "domain": [
          0,
          1
         ],
         "range": [
          -3.3760640961442174,
          111.37606409614422
         ],
         "title": {
          "text": "Number of films in a given year"
         },
         "type": "linear"
        },
        "yaxis": {
         "anchor": "x",
         "autorange": true,
         "domain": [
          0,
          1
         ],
         "range": [
          21.70873786407767,
          82.29126213592232
         ],
         "title": {
          "text": "Median film popularity for a given year"
         },
         "type": "linear"
        }
       }
      },
      "image/png": "[encoded data removed]",
      "text/html": [
       "<div>                            <div id=\"00efbd15-517b-41e1-a698-0010e8893ec0\" class=\"plotly-graph-div\" style=\"height:525px; width:100%;\"></div>            <script type=\"text/javascript\">                require([\"plotly\"], function(Plotly) {                    window.PLOTLYENV=window.PLOTLYENV || {};                                    if (document.getElementById(\"00efbd15-517b-41e1-a698-0010e8893ec0\")) {                    Plotly.newPlot(                        \"00efbd15-517b-41e1-a698-0010e8893ec0\",                        [{\"hovertemplate\": \"<b>%{hovertext}</b><br><br>Number of films in a given year=%{x}<br>Median film popularity for a given year=%{y}<extra></extra>\", \"hovertext\": [1930.0, 1931.0, 1932.0, 1933.0, 1934.0, 1935.0, 1936.0, 1937.0, 1938.0, 1939.0, 1940.0, 1941.0, 1942.0, 1943.0, 1944.0, 1945.0, 1946.0, 1947.0, 1948.0, 1949.0, 1950.0, 1951.0, 1952.0, 1953.0, 1954.0, 1955.0, 1956.0, 1957.0, 1958.0, 1959.0, 1960.0, 1961.0, 1962.0, 1963.0, 1964.0, 1965.0, 1966.0, 1967.0, 1968.0, 1969.0, 1970.0, 1971.0, 1972.0, 1973.0, 1974.0, 1975.0, 1976.0, 1977.0, 1978.0, 1979.0, 1980.0, 1981.0, 1982.0, 1983.0, 1984.0, 1985.0, 1986.0, 1987.0, 1988.0, 1989.0, 1990.0], \"legendgroup\": \"\", \"marker\": {\"color\": \"#636efa\", \"symbol\": \"circle\"}, \"mode\": \"markers\", \"name\": \"\", \"orientation\": \"v\", \"showlegend\": false, \"type\": \"scatter\", \"x\": [3, 9, 8, 3, 4, 8, 6, 9, 8, 11, 11, 7, 6, 8, 4, 7, 9, 9, 14, 15, 11, 6, 10, 15, 11, 20, 15, 16, 12, 9, 11, 14, 15, 14, 13, 12, 21, 15, 20, 19, 28, 23, 24, 26, 23, 23, 17, 29, 18, 33, 30, 26, 37, 40, 38, 42, 93, 102, 96, 101, 105], \"xaxis\": \"x\", \"y\": [50.0, 64.0, 63.5, 66.0, 35.5, 60.5, 62.0, 45.0, 30.5, 30.0, 52.0, 38.0, 47.5, 78.0, 39.5, 54.0, 42.0, 43.0, 37.0, 62.0, 54.0, 31.5, 42.0, 57.0, 48.0, 54.5, 45.0, 42.5, 33.5, 26.0, 32.0, 41.0, 35.0, 68.0, 34.0, 55.0, 35.0, 50.0, 34.5, 48.0, 49.5, 60.0, 55.0, 39.0, 41.0, 64.0, 41.0, 44.0, 43.0, 32.0, 59.5, 53.0, 64.0, 29.5, 36.0, 56.0, 41.0, 40.5, 41.5, 41.0, 30.0], \"yaxis\": \"y\"}],                        {\"legend\": {\"tracegroupgap\": 0}, \"template\": {\"data\": {\"bar\": [{\"error_x\": {\"color\": \"#2a3f5f\"}, \"error_y\": {\"color\": \"#2a3f5f\"}, \"marker\": {\"line\": {\"color\": \"#E5ECF6\", \"width\": 0.5}}, \"type\": \"bar\"}], \"barpolar\": [{\"marker\": {\"line\": {\"color\": \"#E5ECF6\", \"width\": 0.5}}, \"type\": \"barpolar\"}], \"carpet\": [{\"aaxis\": {\"endlinecolor\": \"#2a3f5f\", \"gridcolor\": \"white\", \"linecolor\": \"white\", \"minorgridcolor\": \"white\", \"startlinecolor\": \"#2a3f5f\"}, \"baxis\": {\"endlinecolor\": \"#2a3f5f\", \"gridcolor\": \"white\", \"linecolor\": \"white\", \"minorgridcolor\": \"white\", \"startlinecolor\": \"#2a3f5f\"}, \"type\": \"carpet\"}], \"choropleth\": [{\"colorbar\": {\"outlinewidth\": 0, \"ticks\": \"\"}, \"type\": \"choropleth\"}], \"contour\": [{\"colorbar\": {\"outlinewidth\": 0, \"ticks\": \"\"}, \"colorscale\": [[0.0, \"#0d0887\"], [0.1111111111111111, \"#46039f\"], [0.2222222222222222, \"#7201a8\"], [0.3333333333333333, \"#9c179e\"], [0.4444444444444444, \"#bd3786\"], [0.5555555555555556, \"#d8576b\"], [0.6666666666666666, \"#ed7953\"], [0.7777777777777778, \"#fb9f3a\"], [0.8888888888888888, \"#fdca26\"], [1.0, \"#f0f921\"]], \"type\": \"contour\"}], \"contourcarpet\": [{\"colorbar\": {\"outlinewidth\": 0, \"ticks\": \"\"}, \"type\": \"contourcarpet\"}], \"heatmap\": [{\"colorbar\": {\"outlinewidth\": 0, \"ticks\": \"\"}, \"colorscale\": [[0.0, \"#0d0887\"], [0.1111111111111111, \"#46039f\"], [0.2222222222222222, \"#7201a8\"], [0.3333333333333333, \"#9c179e\"], [0.4444444444444444, \"#bd3786\"], [0.5555555555555556, \"#d8576b\"], [0.6666666666666666, \"#ed7953\"], [0.7777777777777778, \"#fb9f3a\"], [0.8888888888888888, \"#fdca26\"], [1.0, \"#f0f921\"]], \"type\": \"heatmap\"}], \"heatmapgl\": [{\"colorbar\": {\"outlinewidth\": 0, \"ticks\": \"\"}, \"colorscale\": [[0.0, \"#0d0887\"], [0.1111111111111111, \"#46039f\"], [0.2222222222222222, \"#7201a8\"], [0.3333333333333333, \"#9c179e\"], [0.4444444444444444, \"#bd3786\"], [0.5555555555555556, \"#d8576b\"], [0.6666666666666666, \"#ed7953\"], [0.7777777777777778, \"#fb9f3a\"], [0.8888888888888888, \"#fdca26\"], [1.0, \"#f0f921\"]], \"type\": \"heatmapgl\"}], \"histogram\": [{\"marker\": {\"colorbar\": {\"outlinewidth\": 0, \"ticks\": \"\"}}, \"type\": \"histogram\"}], \"histogram2d\": [{\"colorbar\": {\"outlinewidth\": 0, \"ticks\": \"\"}, \"colorscale\": [[0.0, \"#0d0887\"], [0.1111111111111111, \"#46039f\"], [0.2222222222222222, \"#7201a8\"], [0.3333333333333333, \"#9c179e\"], [0.4444444444444444, \"#bd3786\"], [0.5555555555555556, \"#d8576b\"], [0.6666666666666666, \"#ed7953\"], [0.7777777777777778, \"#fb9f3a\"], [0.8888888888888888, \"#fdca26\"], [1.0, \"#f0f921\"]], \"type\": \"histogram2d\"}], \"histogram2dcontour\": [{\"colorbar\": {\"outlinewidth\": 0, \"ticks\": \"\"}, \"colorscale\": [[0.0, \"#0d0887\"], [0.1111111111111111, \"#46039f\"], [0.2222222222222222, \"#7201a8\"], [0.3333333333333333, \"#9c179e\"], [0.4444444444444444, \"#bd3786\"], [0.5555555555555556, \"#d8576b\"], [0.6666666666666666, \"#ed7953\"], [0.7777777777777778, \"#fb9f3a\"], [0.8888888888888888, \"#fdca26\"], [1.0, \"#f0f921\"]], \"type\": \"histogram2dcontour\"}], \"mesh3d\": [{\"colorbar\": {\"outlinewidth\": 0, \"ticks\": \"\"}, \"type\": \"mesh3d\"}], \"parcoords\": [{\"line\": {\"colorbar\": {\"outlinewidth\": 0, \"ticks\": \"\"}}, \"type\": \"parcoords\"}], \"pie\": [{\"automargin\": true, \"type\": \"pie\"}], \"scatter\": [{\"marker\": {\"colorbar\": {\"outlinewidth\": 0, \"ticks\": \"\"}}, \"type\": \"scatter\"}], \"scatter3d\": [{\"line\": {\"colorbar\": {\"outlinewidth\": 0, \"ticks\": \"\"}}, \"marker\": {\"colorbar\": {\"outlinewidth\": 0, \"ticks\": \"\"}}, \"type\": \"scatter3d\"}], \"scattercarpet\": [{\"marker\": {\"colorbar\": {\"outlinewidth\": 0, \"ticks\": \"\"}}, \"type\": \"scattercarpet\"}], \"scattergeo\": [{\"marker\": {\"colorbar\": {\"outlinewidth\": 0, \"ticks\": \"\"}}, \"type\": \"scattergeo\"}], \"scattergl\": [{\"marker\": {\"colorbar\": {\"outlinewidth\": 0, \"ticks\": \"\"}}, \"type\": \"scattergl\"}], \"scattermapbox\": [{\"marker\": {\"colorbar\": {\"outlinewidth\": 0, \"ticks\": \"\"}}, \"type\": \"scattermapbox\"}], \"scatterpolar\": [{\"marker\": {\"colorbar\": {\"outlinewidth\": 0, \"ticks\": \"\"}}, \"type\": \"scatterpolar\"}], \"scatterpolargl\": [{\"marker\": {\"colorbar\": {\"outlinewidth\": 0, \"ticks\": \"\"}}, \"type\": \"scatterpolargl\"}], \"scatterternary\": [{\"marker\": {\"colorbar\": {\"outlinewidth\": 0, \"ticks\": \"\"}}, \"type\": \"scatterternary\"}], \"surface\": [{\"colorbar\": {\"outlinewidth\": 0, \"ticks\": \"\"}, \"colorscale\": [[0.0, \"#0d0887\"], [0.1111111111111111, \"#46039f\"], [0.2222222222222222, \"#7201a8\"], [0.3333333333333333, \"#9c179e\"], [0.4444444444444444, \"#bd3786\"], [0.5555555555555556, \"#d8576b\"], [0.6666666666666666, \"#ed7953\"], [0.7777777777777778, \"#fb9f3a\"], [0.8888888888888888, \"#fdca26\"], [1.0, \"#f0f921\"]], \"type\": \"surface\"}], \"table\": [{\"cells\": {\"fill\": {\"color\": \"#EBF0F8\"}, \"line\": {\"color\": \"white\"}}, \"header\": {\"fill\": {\"color\": \"#C8D4E3\"}, \"line\": {\"color\": \"white\"}}, \"type\": \"table\"}]}, \"layout\": {\"annotationdefaults\": {\"arrowcolor\": \"#2a3f5f\", \"arrowhead\": 0, \"arrowwidth\": 1}, \"autotypenumbers\": \"strict\", \"coloraxis\": {\"colorbar\": {\"outlinewidth\": 0, \"ticks\": \"\"}}, \"colorscale\": {\"diverging\": [[0, \"#8e0152\"], [0.1, \"#c51b7d\"], [0.2, \"#de77ae\"], [0.3, \"#f1b6da\"], [0.4, \"#fde0ef\"], [0.5, \"#f7f7f7\"], [0.6, \"#e6f5d0\"], [0.7, \"#b8e186\"], [0.8, \"#7fbc41\"], [0.9, \"#4d9221\"], [1, \"#276419\"]], \"sequential\": [[0.0, \"#0d0887\"], [0.1111111111111111, \"#46039f\"], [0.2222222222222222, \"#7201a8\"], [0.3333333333333333, \"#9c179e\"], [0.4444444444444444, \"#bd3786\"], [0.5555555555555556, \"#d8576b\"], [0.6666666666666666, \"#ed7953\"], [0.7777777777777778, \"#fb9f3a\"], [0.8888888888888888, \"#fdca26\"], [1.0, \"#f0f921\"]], \"sequentialminus\": [[0.0, \"#0d0887\"], [0.1111111111111111, \"#46039f\"], [0.2222222222222222, \"#7201a8\"], [0.3333333333333333, \"#9c179e\"], [0.4444444444444444, \"#bd3786\"], [0.5555555555555556, \"#d8576b\"], [0.6666666666666666, \"#ed7953\"], [0.7777777777777778, \"#fb9f3a\"], [0.8888888888888888, \"#fdca26\"], [1.0, \"#f0f921\"]]}, \"colorway\": [\"#636efa\", \"#EF553B\", \"#00cc96\", \"#ab63fa\", \"#FFA15A\", \"#19d3f3\", \"#FF6692\", \"#B6E880\", \"#FF97FF\", \"#FECB52\"], \"font\": {\"color\": \"#2a3f5f\"}, \"geo\": {\"bgcolor\": \"white\", \"lakecolor\": \"white\", \"landcolor\": \"#E5ECF6\", \"showlakes\": true, \"showland\": true, \"subunitcolor\": \"white\"}, \"hoverlabel\": {\"align\": \"left\"}, \"hovermode\": \"closest\", \"mapbox\": {\"style\": \"light\"}, \"paper_bgcolor\": \"white\", \"plot_bgcolor\": \"#E5ECF6\", \"polar\": {\"angularaxis\": {\"gridcolor\": \"white\", \"linecolor\": \"white\", \"ticks\": \"\"}, \"bgcolor\": \"#E5ECF6\", \"radialaxis\": {\"gridcolor\": \"white\", \"linecolor\": \"white\", \"ticks\": \"\"}}, \"scene\": {\"xaxis\": {\"backgroundcolor\": \"#E5ECF6\", \"gridcolor\": \"white\", \"gridwidth\": 2, \"linecolor\": \"white\", \"showbackground\": true, \"ticks\": \"\", \"zerolinecolor\": \"white\"}, \"yaxis\": {\"backgroundcolor\": \"#E5ECF6\", \"gridcolor\": \"white\", \"gridwidth\": 2, \"linecolor\": \"white\", \"showbackground\": true, \"ticks\": \"\", \"zerolinecolor\": \"white\"}, \"zaxis\": {\"backgroundcolor\": \"#E5ECF6\", \"gridcolor\": \"white\", \"gridwidth\": 2, \"linecolor\": \"white\", \"showbackground\": true, \"ticks\": \"\", \"zerolinecolor\": \"white\"}}, \"shapedefaults\": {\"line\": {\"color\": \"#2a3f5f\"}}, \"ternary\": {\"aaxis\": {\"gridcolor\": \"white\", \"linecolor\": \"white\", \"ticks\": \"\"}, \"baxis\": {\"gridcolor\": \"white\", \"linecolor\": \"white\", \"ticks\": \"\"}, \"bgcolor\": \"#E5ECF6\", \"caxis\": {\"gridcolor\": \"white\", \"linecolor\": \"white\", \"ticks\": \"\"}}, \"title\": {\"x\": 0.05}, \"xaxis\": {\"automargin\": true, \"gridcolor\": \"white\", \"linecolor\": \"white\", \"ticks\": \"\", \"title\": {\"standoff\": 15}, \"zerolinecolor\": \"white\", \"zerolinewidth\": 2}, \"yaxis\": {\"automargin\": true, \"gridcolor\": \"white\", \"linecolor\": \"white\", \"ticks\": \"\", \"title\": {\"standoff\": 15}, \"zerolinecolor\": \"white\", \"zerolinewidth\": 2}}}, \"title\": {\"text\": \"There is no relationship between a year's number of films and popularity (1930-1990)\"}, \"xaxis\": {\"anchor\": \"y\", \"domain\": [0.0, 1.0], \"title\": {\"text\": \"Number of films in a given year\"}}, \"yaxis\": {\"anchor\": \"x\", \"domain\": [0.0, 1.0], \"title\": {\"text\": \"Median film popularity for a given year\"}}},                        {\"responsive\": true}                    ).then(function(){\n",
       "                            \n",
       "var gd = document.getElementById('00efbd15-517b-41e1-a698-0010e8893ec0');\n",
       "var x = new MutationObserver(function (mutations, observer) {{\n",
       "        var display = window.getComputedStyle(gd).display;\n",
       "        if (!display || display === 'none') {{\n",
       "            console.log([gd, 'removed!']);\n",
       "            Plotly.purge(gd);\n",
       "            observer.disconnect();\n",
       "        }}\n",
       "}});\n",
       "\n",
       "// Listen for the removal of the full notebook cells\n",
       "var notebookContainer = gd.closest('#notebook-container');\n",
       "if (notebookContainer) {{\n",
       "    x.observe(notebookContainer, {childList: true});\n",
       "}}\n",
       "\n",
       "// Listen for the clearing of the current output cell\n",
       "var outputEl = gd.closest('.output');\n",
       "if (outputEl) {{\n",
       "    x.observe(outputEl, {childList: true});\n",
       "}}\n",
       "\n",
       "                        })                };                });            </script>        </div>"
      ]
     },
     "metadata": {},
     "output_type": "display_data"
    }
   ],
   "source": [
    "fig = px.scatter(\n",
    "    df_yvp, \n",
    "    x='Popularity_count', \n",
    "    y='Popularity_median',\n",
    "    hover_name='Year',\n",
    "    title = 'There is no relationship between a year\\'s number of films and popularity (1930-1990)',\n",
    "    labels = {'Popularity_count': 'Number of films in a given year',\n",
    "            'Popularity_median': 'Median film popularity for a given year'\n",
    "           }\n",
    ")\n",
    "fig.show()"
   ]
  },
  {
   "cell_type": "markdown",
   "id": "7d2d7736-a612-45ad-851e-ca99033661af",
   "metadata": {},
   "source": [
    "I'd next onto the next step of my Exploratory Data Analysis (called [EDA](https://en.wikipedia.org/wiki/Exploratory_data_analysis)) and start to examine the data in different ways. For the purposes of this work, **you** will be seeking the narratives in the data."
   ]
  },
  {
   "cell_type": "markdown",
   "id": "bdd4d5cb-e947-4c80-afce-ac15fbf7dc1c",
   "metadata": {},
   "source": [
    "## A Note on Finding Stories in Data\n",
    "Sometimes the story within data is the trends - but not always! Consider what you care about within this data - are you a fan of comedies? Do you have a favorite director? Could you zoom in on the data that pretains to something more specific? Could you contextualize or compare a subset of data to another subset of data? \n",
    "\n",
    "As you sort thru a story, try to answer a couple of questions:\n",
    "- Who is my audience?\n",
    "- What do they care about?\n",
    "- Who or what is my data about? Is there a main character?\n",
    "- What is the context of the data? Where and when is it?\n",
    "- Why am I telling this story? What is the exciting part about the data or its surrounding story?\n",
    "- How will I package this together? Will I include additional visuals or a backstory? What is the arc (or otherwise) of the story?\n",
    "\n",
    "For teams that are presenting, I recommend that you all go off in different directions for a little bit, come together will any interesting leads, and then dive in together to create a quick 5 minute presentation. \n",
    "\n",
    "Feel free to re-use the code and make edits! Remember that there is a difference between markdown and code cells and good luck! If you run into extreme issues, please e-mail me!"
   ]
  },
  {
   "cell_type": "code",
   "execution_count": null,
   "id": "82a2ace1-de87-477a-8c32-d4c4a182ad05",
   "metadata": {},
   "outputs": [],
   "source": []
  }
 ],
 "metadata": {
  "kernelspec": {
   "display_name": "Python 3",
   "language": "python",
   "name": "python3"
  },
  "language_info": {
   "codemirror_mode": {
    "name": "ipython",
    "version": 3
   },
   "file_extension": ".py",
   "mimetype": "text/x-python",
   "name": "python",
   "nbconvert_exporter": "python",
   "pygments_lexer": "ipython3",
   "version": "3.8.10"
  }
 },
 "nbformat": 4,
 "nbformat_minor": 5
}
